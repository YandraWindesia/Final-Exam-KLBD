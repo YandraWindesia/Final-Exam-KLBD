{
  "nbformat": 4,
  "nbformat_minor": 0,
  "metadata": {
    "colab": {
      "provenance": [],
      "authorship_tag": "ABX9TyOHR9Pp9Nfg1YqDWK1+aN+Z",
      "include_colab_link": true
    },
    "kernelspec": {
      "name": "python3",
      "display_name": "Python 3"
    },
    "language_info": {
      "name": "python"
    }
  },
  "cells": [
    {
      "cell_type": "markdown",
      "metadata": {
        "id": "view-in-github",
        "colab_type": "text"
      },
      "source": [
        "<a href=\"https://colab.research.google.com/github/abdullahui/Final-Exam-KLBD/blob/main/Ch3_DimensionalityReduction.ipynb\" target=\"_parent\"><img src=\"https://colab.research.google.com/assets/colab-badge.svg\" alt=\"Open In Colab\"/></a>"
      ]
    },
    {
      "cell_type": "markdown",
      "source": [
        "# Chapter 3: Dimensionality reduction"
      ],
      "metadata": {
        "id": "DQPlQb2SnwPS"
      }
    },
    {
      "cell_type": "markdown",
      "source": [
        "After we explained about memory-based collaborative filtering algorithms, this chapter applies some of dimensionality reduction models.\n",
        "\n",
        "Here the explored models are :\n",
        "\n",
        "1. Singular Value Decomposition (SVD) : implements dimensionality reduction with Singular Value Decomposition for collaborative filtering recommender systems\n",
        "\n",
        "2. Matrix Factorization : builds and trains a Matrix Factorization based recommender system.\n",
        "\n",
        "3. Non Negative Matrix Factorization: applying non negativity to the learnt factors of matrix factorization.\n",
        "\n",
        "4. Explainable Matrix Factorization: add explainability to matrix factorization factors in order to improve recommendation performances."
      ],
      "metadata": {
        "id": "ThfbciVuqn1W"
      }
    },
    {
      "cell_type": "markdown",
      "source": [
        "## Section 3.1: Singular Value Decomposition based Collaborative Filtering"
      ],
      "metadata": {
        "id": "PG10pJuIsccV"
      }
    },
    {
      "cell_type": "markdown",
      "source": [
        "Due to the high level sparsity of the rating matrix $R$, **user-based** and **item-based** collaborative filtering suffer from **data sparsity** and **scalability**. These cause user and item-based collaborative filtering to be less effective and highly affect their performences. \n"
      ],
      "metadata": {
        "id": "Qix1CjUJshnF"
      }
    },
    {
      "cell_type": "markdown",
      "source": [
        "**SVD algorithm**\n",
        "\n",
        "> 1. Factor the normalize rating matrix $R_{norm}$ to obtain matrices $P$, $\\Sigma$ and $Q$\n",
        "> 2. Reduce $\\Sigma$ to dimension $k$ to obtain $\\Sigma_k$\n",
        "> 3. Compute the square-root of $\\Sigma_k$ to obtain $\\Sigma_k^{\\frac{1}{2}}$\n",
        "> 4. Compute the resultant matrices $P_k\\Sigma_k^{\\frac{1}{2}}$ and $\\Sigma_k^{\\frac{1}{2}}Q_k^{\\top}$ that will be used to compute recommendation scores for any user and items."
      ],
      "metadata": {
        "id": "XIunYA6gsnfl"
      }
    },
    {
      "cell_type": "markdown",
      "source": [
        "Now let's implement the SVD collaborative filtering"
      ],
      "metadata": {
        "id": "dtPHdfJPsx1p"
      }
    },
    {
      "cell_type": "markdown",
      "source": [
        "### 3.1.1. First we prepare the tool that we will use it."
      ],
      "metadata": {
        "id": "1A8NLgyns_hR"
      }
    },
    {
      "cell_type": "markdown",
      "source": [
        "#### Download useful tools"
      ],
      "metadata": {
        "id": "TozoXy0zuNmC"
      }
    },
    {
      "cell_type": "code",
      "source": [
        "import os\n",
        "\n",
        "if not (os.path.exists(\"recsys.zip\") or os.path.exists(\"recsys\")):\n",
        "    !wget https://github.com/nzhinusoftcm/review-on-collaborative-filtering/raw/master/recsys.zip    \n",
        "    !unzip recsys.zip"
      ],
      "metadata": {
        "id": "useRXnBCP8DI"
      },
      "execution_count": null,
      "outputs": []
    },
    {
      "cell_type": "markdown",
      "source": [
        "#### Import requirements\n"
      ],
      "metadata": {
        "id": "UVlQlBgHuk6J"
      }
    },
    {
      "cell_type": "code",
      "source": [
        "from recsys.datasets import mlLatestSmall, ml100k, ml1m\n",
        "from sklearn.preprocessing import LabelEncoder\n",
        "from scipy.sparse import csr_matrix\n",
        "\n",
        "import pandas as pd\n",
        "import numpy as np\n",
        "import os"
      ],
      "metadata": {
        "id": "R_bTfww7QBo5"
      },
      "execution_count": null,
      "outputs": []
    },
    {
      "cell_type": "markdown",
      "source": [
        "#### Loading movielen ratings"
      ],
      "metadata": {
        "id": "QZ6sXqPSuvPN"
      }
    },
    {
      "cell_type": "code",
      "source": [
        "ratings, movies = mlLatestSmall.load()"
      ],
      "metadata": {
        "id": "v3wNMqCiQHUp"
      },
      "execution_count": null,
      "outputs": []
    },
    {
      "cell_type": "markdown",
      "source": [
        "Let's see how our rating matrix looks like"
      ],
      "metadata": {
        "id": "wzXf2Ixeu7KV"
      }
    },
    {
      "cell_type": "code",
      "source": [
        "pd.crosstab(ratings.userid, ratings.itemid, ratings.rating, aggfunc=sum)"
      ],
      "metadata": {
        "colab": {
          "base_uri": "https://localhost:8080/",
          "height": 455
        },
        "id": "14zC1-FcQLRY",
        "outputId": "d4827ff8-2027-4973-8f8b-35cdcd3fcd81"
      },
      "execution_count": null,
      "outputs": [
        {
          "output_type": "execute_result",
          "data": {
            "text/plain": [
              "itemid  1       2       3       4       5       6       7       8       \\\n",
              "userid                                                                   \n",
              "1          4.0     NaN     4.0     NaN     NaN     4.0     NaN     NaN   \n",
              "2          NaN     NaN     NaN     NaN     NaN     NaN     NaN     NaN   \n",
              "3          NaN     NaN     NaN     NaN     NaN     NaN     NaN     NaN   \n",
              "4          NaN     NaN     NaN     NaN     NaN     NaN     NaN     NaN   \n",
              "5          4.0     NaN     NaN     NaN     NaN     NaN     NaN     NaN   \n",
              "...        ...     ...     ...     ...     ...     ...     ...     ...   \n",
              "606        2.5     NaN     NaN     NaN     NaN     NaN     2.5     NaN   \n",
              "607        4.0     NaN     NaN     NaN     NaN     NaN     NaN     NaN   \n",
              "608        2.5     2.0     2.0     NaN     NaN     NaN     NaN     NaN   \n",
              "609        3.0     NaN     NaN     NaN     NaN     NaN     NaN     NaN   \n",
              "610        5.0     NaN     NaN     NaN     NaN     5.0     NaN     NaN   \n",
              "\n",
              "itemid  9       10      ...  193565  193567  193571  193573  193579  193581  \\\n",
              "userid                  ...                                                   \n",
              "1          NaN     NaN  ...     NaN     NaN     NaN     NaN     NaN     NaN   \n",
              "2          NaN     NaN  ...     NaN     NaN     NaN     NaN     NaN     NaN   \n",
              "3          NaN     NaN  ...     NaN     NaN     NaN     NaN     NaN     NaN   \n",
              "4          NaN     NaN  ...     NaN     NaN     NaN     NaN     NaN     NaN   \n",
              "5          NaN     NaN  ...     NaN     NaN     NaN     NaN     NaN     NaN   \n",
              "...        ...     ...  ...     ...     ...     ...     ...     ...     ...   \n",
              "606        NaN     NaN  ...     NaN     NaN     NaN     NaN     NaN     NaN   \n",
              "607        NaN     NaN  ...     NaN     NaN     NaN     NaN     NaN     NaN   \n",
              "608        NaN     4.0  ...     NaN     NaN     NaN     NaN     NaN     NaN   \n",
              "609        NaN     4.0  ...     NaN     NaN     NaN     NaN     NaN     NaN   \n",
              "610        NaN     NaN  ...     NaN     NaN     NaN     NaN     NaN     NaN   \n",
              "\n",
              "itemid  193583  193585  193587  193609  \n",
              "userid                                  \n",
              "1          NaN     NaN     NaN     NaN  \n",
              "2          NaN     NaN     NaN     NaN  \n",
              "3          NaN     NaN     NaN     NaN  \n",
              "4          NaN     NaN     NaN     NaN  \n",
              "5          NaN     NaN     NaN     NaN  \n",
              "...        ...     ...     ...     ...  \n",
              "606        NaN     NaN     NaN     NaN  \n",
              "607        NaN     NaN     NaN     NaN  \n",
              "608        NaN     NaN     NaN     NaN  \n",
              "609        NaN     NaN     NaN     NaN  \n",
              "610        NaN     NaN     NaN     NaN  \n",
              "\n",
              "[610 rows x 9724 columns]"
            ],
            "text/html": [
              "\n",
              "  <div id=\"df-7e6b863e-0229-48f2-b392-e75764cf1fa7\">\n",
              "    <div class=\"colab-df-container\">\n",
              "      <div>\n",
              "<style scoped>\n",
              "    .dataframe tbody tr th:only-of-type {\n",
              "        vertical-align: middle;\n",
              "    }\n",
              "\n",
              "    .dataframe tbody tr th {\n",
              "        vertical-align: top;\n",
              "    }\n",
              "\n",
              "    .dataframe thead th {\n",
              "        text-align: right;\n",
              "    }\n",
              "</style>\n",
              "<table border=\"1\" class=\"dataframe\">\n",
              "  <thead>\n",
              "    <tr style=\"text-align: right;\">\n",
              "      <th>itemid</th>\n",
              "      <th>1</th>\n",
              "      <th>2</th>\n",
              "      <th>3</th>\n",
              "      <th>4</th>\n",
              "      <th>5</th>\n",
              "      <th>6</th>\n",
              "      <th>7</th>\n",
              "      <th>8</th>\n",
              "      <th>9</th>\n",
              "      <th>10</th>\n",
              "      <th>...</th>\n",
              "      <th>193565</th>\n",
              "      <th>193567</th>\n",
              "      <th>193571</th>\n",
              "      <th>193573</th>\n",
              "      <th>193579</th>\n",
              "      <th>193581</th>\n",
              "      <th>193583</th>\n",
              "      <th>193585</th>\n",
              "      <th>193587</th>\n",
              "      <th>193609</th>\n",
              "    </tr>\n",
              "    <tr>\n",
              "      <th>userid</th>\n",
              "      <th></th>\n",
              "      <th></th>\n",
              "      <th></th>\n",
              "      <th></th>\n",
              "      <th></th>\n",
              "      <th></th>\n",
              "      <th></th>\n",
              "      <th></th>\n",
              "      <th></th>\n",
              "      <th></th>\n",
              "      <th></th>\n",
              "      <th></th>\n",
              "      <th></th>\n",
              "      <th></th>\n",
              "      <th></th>\n",
              "      <th></th>\n",
              "      <th></th>\n",
              "      <th></th>\n",
              "      <th></th>\n",
              "      <th></th>\n",
              "      <th></th>\n",
              "    </tr>\n",
              "  </thead>\n",
              "  <tbody>\n",
              "    <tr>\n",
              "      <th>1</th>\n",
              "      <td>4.0</td>\n",
              "      <td>NaN</td>\n",
              "      <td>4.0</td>\n",
              "      <td>NaN</td>\n",
              "      <td>NaN</td>\n",
              "      <td>4.0</td>\n",
              "      <td>NaN</td>\n",
              "      <td>NaN</td>\n",
              "      <td>NaN</td>\n",
              "      <td>NaN</td>\n",
              "      <td>...</td>\n",
              "      <td>NaN</td>\n",
              "      <td>NaN</td>\n",
              "      <td>NaN</td>\n",
              "      <td>NaN</td>\n",
              "      <td>NaN</td>\n",
              "      <td>NaN</td>\n",
              "      <td>NaN</td>\n",
              "      <td>NaN</td>\n",
              "      <td>NaN</td>\n",
              "      <td>NaN</td>\n",
              "    </tr>\n",
              "    <tr>\n",
              "      <th>2</th>\n",
              "      <td>NaN</td>\n",
              "      <td>NaN</td>\n",
              "      <td>NaN</td>\n",
              "      <td>NaN</td>\n",
              "      <td>NaN</td>\n",
              "      <td>NaN</td>\n",
              "      <td>NaN</td>\n",
              "      <td>NaN</td>\n",
              "      <td>NaN</td>\n",
              "      <td>NaN</td>\n",
              "      <td>...</td>\n",
              "      <td>NaN</td>\n",
              "      <td>NaN</td>\n",
              "      <td>NaN</td>\n",
              "      <td>NaN</td>\n",
              "      <td>NaN</td>\n",
              "      <td>NaN</td>\n",
              "      <td>NaN</td>\n",
              "      <td>NaN</td>\n",
              "      <td>NaN</td>\n",
              "      <td>NaN</td>\n",
              "    </tr>\n",
              "    <tr>\n",
              "      <th>3</th>\n",
              "      <td>NaN</td>\n",
              "      <td>NaN</td>\n",
              "      <td>NaN</td>\n",
              "      <td>NaN</td>\n",
              "      <td>NaN</td>\n",
              "      <td>NaN</td>\n",
              "      <td>NaN</td>\n",
              "      <td>NaN</td>\n",
              "      <td>NaN</td>\n",
              "      <td>NaN</td>\n",
              "      <td>...</td>\n",
              "      <td>NaN</td>\n",
              "      <td>NaN</td>\n",
              "      <td>NaN</td>\n",
              "      <td>NaN</td>\n",
              "      <td>NaN</td>\n",
              "      <td>NaN</td>\n",
              "      <td>NaN</td>\n",
              "      <td>NaN</td>\n",
              "      <td>NaN</td>\n",
              "      <td>NaN</td>\n",
              "    </tr>\n",
              "    <tr>\n",
              "      <th>4</th>\n",
              "      <td>NaN</td>\n",
              "      <td>NaN</td>\n",
              "      <td>NaN</td>\n",
              "      <td>NaN</td>\n",
              "      <td>NaN</td>\n",
              "      <td>NaN</td>\n",
              "      <td>NaN</td>\n",
              "      <td>NaN</td>\n",
              "      <td>NaN</td>\n",
              "      <td>NaN</td>\n",
              "      <td>...</td>\n",
              "      <td>NaN</td>\n",
              "      <td>NaN</td>\n",
              "      <td>NaN</td>\n",
              "      <td>NaN</td>\n",
              "      <td>NaN</td>\n",
              "      <td>NaN</td>\n",
              "      <td>NaN</td>\n",
              "      <td>NaN</td>\n",
              "      <td>NaN</td>\n",
              "      <td>NaN</td>\n",
              "    </tr>\n",
              "    <tr>\n",
              "      <th>5</th>\n",
              "      <td>4.0</td>\n",
              "      <td>NaN</td>\n",
              "      <td>NaN</td>\n",
              "      <td>NaN</td>\n",
              "      <td>NaN</td>\n",
              "      <td>NaN</td>\n",
              "      <td>NaN</td>\n",
              "      <td>NaN</td>\n",
              "      <td>NaN</td>\n",
              "      <td>NaN</td>\n",
              "      <td>...</td>\n",
              "      <td>NaN</td>\n",
              "      <td>NaN</td>\n",
              "      <td>NaN</td>\n",
              "      <td>NaN</td>\n",
              "      <td>NaN</td>\n",
              "      <td>NaN</td>\n",
              "      <td>NaN</td>\n",
              "      <td>NaN</td>\n",
              "      <td>NaN</td>\n",
              "      <td>NaN</td>\n",
              "    </tr>\n",
              "    <tr>\n",
              "      <th>...</th>\n",
              "      <td>...</td>\n",
              "      <td>...</td>\n",
              "      <td>...</td>\n",
              "      <td>...</td>\n",
              "      <td>...</td>\n",
              "      <td>...</td>\n",
              "      <td>...</td>\n",
              "      <td>...</td>\n",
              "      <td>...</td>\n",
              "      <td>...</td>\n",
              "      <td>...</td>\n",
              "      <td>...</td>\n",
              "      <td>...</td>\n",
              "      <td>...</td>\n",
              "      <td>...</td>\n",
              "      <td>...</td>\n",
              "      <td>...</td>\n",
              "      <td>...</td>\n",
              "      <td>...</td>\n",
              "      <td>...</td>\n",
              "      <td>...</td>\n",
              "    </tr>\n",
              "    <tr>\n",
              "      <th>606</th>\n",
              "      <td>2.5</td>\n",
              "      <td>NaN</td>\n",
              "      <td>NaN</td>\n",
              "      <td>NaN</td>\n",
              "      <td>NaN</td>\n",
              "      <td>NaN</td>\n",
              "      <td>2.5</td>\n",
              "      <td>NaN</td>\n",
              "      <td>NaN</td>\n",
              "      <td>NaN</td>\n",
              "      <td>...</td>\n",
              "      <td>NaN</td>\n",
              "      <td>NaN</td>\n",
              "      <td>NaN</td>\n",
              "      <td>NaN</td>\n",
              "      <td>NaN</td>\n",
              "      <td>NaN</td>\n",
              "      <td>NaN</td>\n",
              "      <td>NaN</td>\n",
              "      <td>NaN</td>\n",
              "      <td>NaN</td>\n",
              "    </tr>\n",
              "    <tr>\n",
              "      <th>607</th>\n",
              "      <td>4.0</td>\n",
              "      <td>NaN</td>\n",
              "      <td>NaN</td>\n",
              "      <td>NaN</td>\n",
              "      <td>NaN</td>\n",
              "      <td>NaN</td>\n",
              "      <td>NaN</td>\n",
              "      <td>NaN</td>\n",
              "      <td>NaN</td>\n",
              "      <td>NaN</td>\n",
              "      <td>...</td>\n",
              "      <td>NaN</td>\n",
              "      <td>NaN</td>\n",
              "      <td>NaN</td>\n",
              "      <td>NaN</td>\n",
              "      <td>NaN</td>\n",
              "      <td>NaN</td>\n",
              "      <td>NaN</td>\n",
              "      <td>NaN</td>\n",
              "      <td>NaN</td>\n",
              "      <td>NaN</td>\n",
              "    </tr>\n",
              "    <tr>\n",
              "      <th>608</th>\n",
              "      <td>2.5</td>\n",
              "      <td>2.0</td>\n",
              "      <td>2.0</td>\n",
              "      <td>NaN</td>\n",
              "      <td>NaN</td>\n",
              "      <td>NaN</td>\n",
              "      <td>NaN</td>\n",
              "      <td>NaN</td>\n",
              "      <td>NaN</td>\n",
              "      <td>4.0</td>\n",
              "      <td>...</td>\n",
              "      <td>NaN</td>\n",
              "      <td>NaN</td>\n",
              "      <td>NaN</td>\n",
              "      <td>NaN</td>\n",
              "      <td>NaN</td>\n",
              "      <td>NaN</td>\n",
              "      <td>NaN</td>\n",
              "      <td>NaN</td>\n",
              "      <td>NaN</td>\n",
              "      <td>NaN</td>\n",
              "    </tr>\n",
              "    <tr>\n",
              "      <th>609</th>\n",
              "      <td>3.0</td>\n",
              "      <td>NaN</td>\n",
              "      <td>NaN</td>\n",
              "      <td>NaN</td>\n",
              "      <td>NaN</td>\n",
              "      <td>NaN</td>\n",
              "      <td>NaN</td>\n",
              "      <td>NaN</td>\n",
              "      <td>NaN</td>\n",
              "      <td>4.0</td>\n",
              "      <td>...</td>\n",
              "      <td>NaN</td>\n",
              "      <td>NaN</td>\n",
              "      <td>NaN</td>\n",
              "      <td>NaN</td>\n",
              "      <td>NaN</td>\n",
              "      <td>NaN</td>\n",
              "      <td>NaN</td>\n",
              "      <td>NaN</td>\n",
              "      <td>NaN</td>\n",
              "      <td>NaN</td>\n",
              "    </tr>\n",
              "    <tr>\n",
              "      <th>610</th>\n",
              "      <td>5.0</td>\n",
              "      <td>NaN</td>\n",
              "      <td>NaN</td>\n",
              "      <td>NaN</td>\n",
              "      <td>NaN</td>\n",
              "      <td>5.0</td>\n",
              "      <td>NaN</td>\n",
              "      <td>NaN</td>\n",
              "      <td>NaN</td>\n",
              "      <td>NaN</td>\n",
              "      <td>...</td>\n",
              "      <td>NaN</td>\n",
              "      <td>NaN</td>\n",
              "      <td>NaN</td>\n",
              "      <td>NaN</td>\n",
              "      <td>NaN</td>\n",
              "      <td>NaN</td>\n",
              "      <td>NaN</td>\n",
              "      <td>NaN</td>\n",
              "      <td>NaN</td>\n",
              "      <td>NaN</td>\n",
              "    </tr>\n",
              "  </tbody>\n",
              "</table>\n",
              "<p>610 rows × 9724 columns</p>\n",
              "</div>\n",
              "      <button class=\"colab-df-convert\" onclick=\"convertToInteractive('df-7e6b863e-0229-48f2-b392-e75764cf1fa7')\"\n",
              "              title=\"Convert this dataframe to an interactive table.\"\n",
              "              style=\"display:none;\">\n",
              "        \n",
              "  <svg xmlns=\"http://www.w3.org/2000/svg\" height=\"24px\"viewBox=\"0 0 24 24\"\n",
              "       width=\"24px\">\n",
              "    <path d=\"M0 0h24v24H0V0z\" fill=\"none\"/>\n",
              "    <path d=\"M18.56 5.44l.94 2.06.94-2.06 2.06-.94-2.06-.94-.94-2.06-.94 2.06-2.06.94zm-11 1L8.5 8.5l.94-2.06 2.06-.94-2.06-.94L8.5 2.5l-.94 2.06-2.06.94zm10 10l.94 2.06.94-2.06 2.06-.94-2.06-.94-.94-2.06-.94 2.06-2.06.94z\"/><path d=\"M17.41 7.96l-1.37-1.37c-.4-.4-.92-.59-1.43-.59-.52 0-1.04.2-1.43.59L10.3 9.45l-7.72 7.72c-.78.78-.78 2.05 0 2.83L4 21.41c.39.39.9.59 1.41.59.51 0 1.02-.2 1.41-.59l7.78-7.78 2.81-2.81c.8-.78.8-2.07 0-2.86zM5.41 20L4 18.59l7.72-7.72 1.47 1.35L5.41 20z\"/>\n",
              "  </svg>\n",
              "      </button>\n",
              "      \n",
              "  <style>\n",
              "    .colab-df-container {\n",
              "      display:flex;\n",
              "      flex-wrap:wrap;\n",
              "      gap: 12px;\n",
              "    }\n",
              "\n",
              "    .colab-df-convert {\n",
              "      background-color: #E8F0FE;\n",
              "      border: none;\n",
              "      border-radius: 50%;\n",
              "      cursor: pointer;\n",
              "      display: none;\n",
              "      fill: #1967D2;\n",
              "      height: 32px;\n",
              "      padding: 0 0 0 0;\n",
              "      width: 32px;\n",
              "    }\n",
              "\n",
              "    .colab-df-convert:hover {\n",
              "      background-color: #E2EBFA;\n",
              "      box-shadow: 0px 1px 2px rgba(60, 64, 67, 0.3), 0px 1px 3px 1px rgba(60, 64, 67, 0.15);\n",
              "      fill: #174EA6;\n",
              "    }\n",
              "\n",
              "    [theme=dark] .colab-df-convert {\n",
              "      background-color: #3B4455;\n",
              "      fill: #D2E3FC;\n",
              "    }\n",
              "\n",
              "    [theme=dark] .colab-df-convert:hover {\n",
              "      background-color: #434B5C;\n",
              "      box-shadow: 0px 1px 3px 1px rgba(0, 0, 0, 0.15);\n",
              "      filter: drop-shadow(0px 1px 2px rgba(0, 0, 0, 0.3));\n",
              "      fill: #FFFFFF;\n",
              "    }\n",
              "  </style>\n",
              "\n",
              "      <script>\n",
              "        const buttonEl =\n",
              "          document.querySelector('#df-7e6b863e-0229-48f2-b392-e75764cf1fa7 button.colab-df-convert');\n",
              "        buttonEl.style.display =\n",
              "          google.colab.kernel.accessAllowed ? 'block' : 'none';\n",
              "\n",
              "        async function convertToInteractive(key) {\n",
              "          const element = document.querySelector('#df-7e6b863e-0229-48f2-b392-e75764cf1fa7');\n",
              "          const dataTable =\n",
              "            await google.colab.kernel.invokeFunction('convertToInteractive',\n",
              "                                                     [key], {});\n",
              "          if (!dataTable) return;\n",
              "\n",
              "          const docLinkHtml = 'Like what you see? Visit the ' +\n",
              "            '<a target=\"_blank\" href=https://colab.research.google.com/notebooks/data_table.ipynb>data table notebook</a>'\n",
              "            + ' to learn more about interactive tables.';\n",
              "          element.innerHTML = '';\n",
              "          dataTable['output_type'] = 'display_data';\n",
              "          await google.colab.output.renderOutput(dataTable, element);\n",
              "          const docLink = document.createElement('div');\n",
              "          docLink.innerHTML = docLinkHtml;\n",
              "          element.appendChild(docLink);\n",
              "        }\n",
              "      </script>\n",
              "    </div>\n",
              "  </div>\n",
              "  "
            ]
          },
          "metadata": {},
          "execution_count": 161
        }
      ]
    },
    {
      "cell_type": "markdown",
      "source": [
        "We can observe that our rating matrix has many of unobserved value. However, as we described earlier, the SVD algorithm requires that all inputs in the matrix must be defined. Let's initialize the unobserved ratings with item's average that led to better performances compared to the user's average or even a null initialization ([Sarwar et al. (2000)](http://files.grouplens.org/papers/webKDD00.pdf)).\n",
        "\n",
        "We can go further and subtrat from each rating the corresponding user mean to normalize the data. This helps to improve the accuracy of the model."
      ],
      "metadata": {
        "id": "yiufmSmdvLna"
      }
    },
    {
      "cell_type": "code",
      "source": [
        "# get user's mean rating\n",
        "umean = ratings.groupby(by='userid')['rating'].mean()"
      ],
      "metadata": {
        "id": "Tfrij3OBQP_R"
      },
      "execution_count": null,
      "outputs": []
    },
    {
      "cell_type": "code",
      "source": [
        "def rating_matrix(ratings):\n",
        "    \"\"\"\n",
        "    1. Fill NaN values with item's average ratings\n",
        "    2. Normalize ratings by subtracting user's mean ratings\n",
        "    \n",
        "    :param ratings : DataFrame of ratings data\n",
        "    :return\n",
        "        - R : Numpy array of normalized ratings\n",
        "        - df : DataFrame of normalized ratings\n",
        "    \"\"\"\n",
        "    \n",
        "    # fill missing values with item's average ratings\n",
        "    df = pd.crosstab(ratings.userid, ratings.itemid, ratings.rating, aggfunc=sum)\n",
        "    df = df.fillna(df.mean(axis=0))\n",
        "    \n",
        "    # subtract user's mean ratings to normalize data\n",
        "    df = df.subtract(umean, axis=0)\n",
        "    \n",
        "    # convert our dataframe to numpy array\n",
        "    R = df.to_numpy()\n",
        "    \n",
        "    return R, df\n",
        "\n",
        "# generate rating matrix by calling function rating_matrix\n",
        "R, df = rating_matrix(ratings)"
      ],
      "metadata": {
        "id": "IejzoeErQR31"
      },
      "execution_count": null,
      "outputs": []
    },
    {
      "cell_type": "markdown",
      "source": [
        "$R$ is our final rating matrix. This is how the final rating matrix looks like"
      ],
      "metadata": {
        "id": "a75d32I-veAZ"
      }
    },
    {
      "cell_type": "code",
      "source": [
        "df"
      ],
      "metadata": {
        "colab": {
          "base_uri": "https://localhost:8080/",
          "height": 519
        },
        "id": "xK1o2Z2_QVPt",
        "outputId": "55b65ff1-0588-40f9-a2f4-c0888935f908"
      },
      "execution_count": null,
      "outputs": [
        {
          "output_type": "execute_result",
          "data": {
            "text/plain": [
              "itemid    1         2         3         4         5         6         7       \\\n",
              "userid                                                                         \n",
              "1      -0.366379 -0.934561 -0.366379 -2.009236 -1.294951 -0.366379 -1.181194   \n",
              "2      -0.027346 -0.516458 -0.688660 -1.591133 -0.876847 -0.002197 -0.763091   \n",
              "3       1.485033  0.995921  0.823718 -0.078755  0.635531  1.510181  0.749288   \n",
              "4       0.365375 -0.123737 -0.295940 -1.198413 -0.484127  0.390523 -0.370370   \n",
              "5       0.363636 -0.204545 -0.376748 -1.279221 -0.564935  0.309715 -0.451178   \n",
              "...          ...       ...       ...       ...       ...       ...       ...   \n",
              "606    -1.157399 -0.225581 -0.397784 -1.300256 -0.585971  0.288679 -1.157399   \n",
              "607     0.213904 -0.354278 -0.526481 -1.428953 -0.714668  0.159982 -0.600911   \n",
              "608    -0.634176 -1.134176 -1.134176 -0.777033 -0.062747  0.811903  0.051009   \n",
              "609    -0.270270  0.161548 -0.010655 -0.913127 -0.198842  0.675808 -0.085085   \n",
              "610     1.311444 -0.256738 -0.428941 -1.331413 -0.617127  1.311444 -0.503371   \n",
              "\n",
              "itemid    8         9         10      ...    193565    193567    193571  \\\n",
              "userid                                ...                                 \n",
              "1      -1.491379 -1.241379 -0.870167  ... -0.866379 -1.366379 -0.366379   \n",
              "2      -1.073276 -0.823276 -0.452064  ... -0.448276 -0.948276  0.051724   \n",
              "3       0.439103  0.689103  1.060315  ...  1.064103  0.564103  1.564103   \n",
              "4      -0.680556 -0.430556 -0.059343  ... -0.055556 -0.555556  0.444444   \n",
              "5      -0.761364 -0.511364 -0.140152  ... -0.136364 -0.636364  0.363636   \n",
              "...          ...       ...       ...  ...       ...       ...       ...   \n",
              "606    -0.782399 -0.532399 -0.161187  ... -0.157399 -0.657399  0.342601   \n",
              "607    -0.911096 -0.661096 -0.289884  ... -0.286096 -0.786096  0.213904   \n",
              "608    -0.259176 -0.009176  0.865824  ...  0.365824 -0.134176  0.865824   \n",
              "609    -0.395270 -0.145270  0.729730  ...  0.229730 -0.270270  0.729730   \n",
              "610    -0.813556 -0.563556 -0.192344  ... -0.188556 -0.688556  0.311444   \n",
              "\n",
              "itemid    193573    193579    193581    193583    193585    193587    193609  \n",
              "userid                                                                        \n",
              "1      -0.366379 -0.866379 -0.366379 -0.866379 -0.866379 -0.866379 -0.366379  \n",
              "2       0.051724 -0.448276  0.051724 -0.448276 -0.448276 -0.448276  0.051724  \n",
              "3       1.564103  1.064103  1.564103  1.064103  1.064103  1.064103  1.564103  \n",
              "4       0.444444 -0.055556  0.444444 -0.055556 -0.055556 -0.055556  0.444444  \n",
              "5       0.363636 -0.136364  0.363636 -0.136364 -0.136364 -0.136364  0.363636  \n",
              "...          ...       ...       ...       ...       ...       ...       ...  \n",
              "606     0.342601 -0.157399  0.342601 -0.157399 -0.157399 -0.157399  0.342601  \n",
              "607     0.213904 -0.286096  0.213904 -0.286096 -0.286096 -0.286096  0.213904  \n",
              "608     0.865824  0.365824  0.865824  0.365824  0.365824  0.365824  0.865824  \n",
              "609     0.729730  0.229730  0.729730  0.229730  0.229730  0.229730  0.729730  \n",
              "610     0.311444 -0.188556  0.311444 -0.188556 -0.188556 -0.188556  0.311444  \n",
              "\n",
              "[610 rows x 9724 columns]"
            ],
            "text/html": [
              "\n",
              "  <div id=\"df-d13dc89d-55a0-43bf-b886-0c69ea479747\">\n",
              "    <div class=\"colab-df-container\">\n",
              "      <div>\n",
              "<style scoped>\n",
              "    .dataframe tbody tr th:only-of-type {\n",
              "        vertical-align: middle;\n",
              "    }\n",
              "\n",
              "    .dataframe tbody tr th {\n",
              "        vertical-align: top;\n",
              "    }\n",
              "\n",
              "    .dataframe thead th {\n",
              "        text-align: right;\n",
              "    }\n",
              "</style>\n",
              "<table border=\"1\" class=\"dataframe\">\n",
              "  <thead>\n",
              "    <tr style=\"text-align: right;\">\n",
              "      <th>itemid</th>\n",
              "      <th>1</th>\n",
              "      <th>2</th>\n",
              "      <th>3</th>\n",
              "      <th>4</th>\n",
              "      <th>5</th>\n",
              "      <th>6</th>\n",
              "      <th>7</th>\n",
              "      <th>8</th>\n",
              "      <th>9</th>\n",
              "      <th>10</th>\n",
              "      <th>...</th>\n",
              "      <th>193565</th>\n",
              "      <th>193567</th>\n",
              "      <th>193571</th>\n",
              "      <th>193573</th>\n",
              "      <th>193579</th>\n",
              "      <th>193581</th>\n",
              "      <th>193583</th>\n",
              "      <th>193585</th>\n",
              "      <th>193587</th>\n",
              "      <th>193609</th>\n",
              "    </tr>\n",
              "    <tr>\n",
              "      <th>userid</th>\n",
              "      <th></th>\n",
              "      <th></th>\n",
              "      <th></th>\n",
              "      <th></th>\n",
              "      <th></th>\n",
              "      <th></th>\n",
              "      <th></th>\n",
              "      <th></th>\n",
              "      <th></th>\n",
              "      <th></th>\n",
              "      <th></th>\n",
              "      <th></th>\n",
              "      <th></th>\n",
              "      <th></th>\n",
              "      <th></th>\n",
              "      <th></th>\n",
              "      <th></th>\n",
              "      <th></th>\n",
              "      <th></th>\n",
              "      <th></th>\n",
              "      <th></th>\n",
              "    </tr>\n",
              "  </thead>\n",
              "  <tbody>\n",
              "    <tr>\n",
              "      <th>1</th>\n",
              "      <td>-0.366379</td>\n",
              "      <td>-0.934561</td>\n",
              "      <td>-0.366379</td>\n",
              "      <td>-2.009236</td>\n",
              "      <td>-1.294951</td>\n",
              "      <td>-0.366379</td>\n",
              "      <td>-1.181194</td>\n",
              "      <td>-1.491379</td>\n",
              "      <td>-1.241379</td>\n",
              "      <td>-0.870167</td>\n",
              "      <td>...</td>\n",
              "      <td>-0.866379</td>\n",
              "      <td>-1.366379</td>\n",
              "      <td>-0.366379</td>\n",
              "      <td>-0.366379</td>\n",
              "      <td>-0.866379</td>\n",
              "      <td>-0.366379</td>\n",
              "      <td>-0.866379</td>\n",
              "      <td>-0.866379</td>\n",
              "      <td>-0.866379</td>\n",
              "      <td>-0.366379</td>\n",
              "    </tr>\n",
              "    <tr>\n",
              "      <th>2</th>\n",
              "      <td>-0.027346</td>\n",
              "      <td>-0.516458</td>\n",
              "      <td>-0.688660</td>\n",
              "      <td>-1.591133</td>\n",
              "      <td>-0.876847</td>\n",
              "      <td>-0.002197</td>\n",
              "      <td>-0.763091</td>\n",
              "      <td>-1.073276</td>\n",
              "      <td>-0.823276</td>\n",
              "      <td>-0.452064</td>\n",
              "      <td>...</td>\n",
              "      <td>-0.448276</td>\n",
              "      <td>-0.948276</td>\n",
              "      <td>0.051724</td>\n",
              "      <td>0.051724</td>\n",
              "      <td>-0.448276</td>\n",
              "      <td>0.051724</td>\n",
              "      <td>-0.448276</td>\n",
              "      <td>-0.448276</td>\n",
              "      <td>-0.448276</td>\n",
              "      <td>0.051724</td>\n",
              "    </tr>\n",
              "    <tr>\n",
              "      <th>3</th>\n",
              "      <td>1.485033</td>\n",
              "      <td>0.995921</td>\n",
              "      <td>0.823718</td>\n",
              "      <td>-0.078755</td>\n",
              "      <td>0.635531</td>\n",
              "      <td>1.510181</td>\n",
              "      <td>0.749288</td>\n",
              "      <td>0.439103</td>\n",
              "      <td>0.689103</td>\n",
              "      <td>1.060315</td>\n",
              "      <td>...</td>\n",
              "      <td>1.064103</td>\n",
              "      <td>0.564103</td>\n",
              "      <td>1.564103</td>\n",
              "      <td>1.564103</td>\n",
              "      <td>1.064103</td>\n",
              "      <td>1.564103</td>\n",
              "      <td>1.064103</td>\n",
              "      <td>1.064103</td>\n",
              "      <td>1.064103</td>\n",
              "      <td>1.564103</td>\n",
              "    </tr>\n",
              "    <tr>\n",
              "      <th>4</th>\n",
              "      <td>0.365375</td>\n",
              "      <td>-0.123737</td>\n",
              "      <td>-0.295940</td>\n",
              "      <td>-1.198413</td>\n",
              "      <td>-0.484127</td>\n",
              "      <td>0.390523</td>\n",
              "      <td>-0.370370</td>\n",
              "      <td>-0.680556</td>\n",
              "      <td>-0.430556</td>\n",
              "      <td>-0.059343</td>\n",
              "      <td>...</td>\n",
              "      <td>-0.055556</td>\n",
              "      <td>-0.555556</td>\n",
              "      <td>0.444444</td>\n",
              "      <td>0.444444</td>\n",
              "      <td>-0.055556</td>\n",
              "      <td>0.444444</td>\n",
              "      <td>-0.055556</td>\n",
              "      <td>-0.055556</td>\n",
              "      <td>-0.055556</td>\n",
              "      <td>0.444444</td>\n",
              "    </tr>\n",
              "    <tr>\n",
              "      <th>5</th>\n",
              "      <td>0.363636</td>\n",
              "      <td>-0.204545</td>\n",
              "      <td>-0.376748</td>\n",
              "      <td>-1.279221</td>\n",
              "      <td>-0.564935</td>\n",
              "      <td>0.309715</td>\n",
              "      <td>-0.451178</td>\n",
              "      <td>-0.761364</td>\n",
              "      <td>-0.511364</td>\n",
              "      <td>-0.140152</td>\n",
              "      <td>...</td>\n",
              "      <td>-0.136364</td>\n",
              "      <td>-0.636364</td>\n",
              "      <td>0.363636</td>\n",
              "      <td>0.363636</td>\n",
              "      <td>-0.136364</td>\n",
              "      <td>0.363636</td>\n",
              "      <td>-0.136364</td>\n",
              "      <td>-0.136364</td>\n",
              "      <td>-0.136364</td>\n",
              "      <td>0.363636</td>\n",
              "    </tr>\n",
              "    <tr>\n",
              "      <th>...</th>\n",
              "      <td>...</td>\n",
              "      <td>...</td>\n",
              "      <td>...</td>\n",
              "      <td>...</td>\n",
              "      <td>...</td>\n",
              "      <td>...</td>\n",
              "      <td>...</td>\n",
              "      <td>...</td>\n",
              "      <td>...</td>\n",
              "      <td>...</td>\n",
              "      <td>...</td>\n",
              "      <td>...</td>\n",
              "      <td>...</td>\n",
              "      <td>...</td>\n",
              "      <td>...</td>\n",
              "      <td>...</td>\n",
              "      <td>...</td>\n",
              "      <td>...</td>\n",
              "      <td>...</td>\n",
              "      <td>...</td>\n",
              "      <td>...</td>\n",
              "    </tr>\n",
              "    <tr>\n",
              "      <th>606</th>\n",
              "      <td>-1.157399</td>\n",
              "      <td>-0.225581</td>\n",
              "      <td>-0.397784</td>\n",
              "      <td>-1.300256</td>\n",
              "      <td>-0.585971</td>\n",
              "      <td>0.288679</td>\n",
              "      <td>-1.157399</td>\n",
              "      <td>-0.782399</td>\n",
              "      <td>-0.532399</td>\n",
              "      <td>-0.161187</td>\n",
              "      <td>...</td>\n",
              "      <td>-0.157399</td>\n",
              "      <td>-0.657399</td>\n",
              "      <td>0.342601</td>\n",
              "      <td>0.342601</td>\n",
              "      <td>-0.157399</td>\n",
              "      <td>0.342601</td>\n",
              "      <td>-0.157399</td>\n",
              "      <td>-0.157399</td>\n",
              "      <td>-0.157399</td>\n",
              "      <td>0.342601</td>\n",
              "    </tr>\n",
              "    <tr>\n",
              "      <th>607</th>\n",
              "      <td>0.213904</td>\n",
              "      <td>-0.354278</td>\n",
              "      <td>-0.526481</td>\n",
              "      <td>-1.428953</td>\n",
              "      <td>-0.714668</td>\n",
              "      <td>0.159982</td>\n",
              "      <td>-0.600911</td>\n",
              "      <td>-0.911096</td>\n",
              "      <td>-0.661096</td>\n",
              "      <td>-0.289884</td>\n",
              "      <td>...</td>\n",
              "      <td>-0.286096</td>\n",
              "      <td>-0.786096</td>\n",
              "      <td>0.213904</td>\n",
              "      <td>0.213904</td>\n",
              "      <td>-0.286096</td>\n",
              "      <td>0.213904</td>\n",
              "      <td>-0.286096</td>\n",
              "      <td>-0.286096</td>\n",
              "      <td>-0.286096</td>\n",
              "      <td>0.213904</td>\n",
              "    </tr>\n",
              "    <tr>\n",
              "      <th>608</th>\n",
              "      <td>-0.634176</td>\n",
              "      <td>-1.134176</td>\n",
              "      <td>-1.134176</td>\n",
              "      <td>-0.777033</td>\n",
              "      <td>-0.062747</td>\n",
              "      <td>0.811903</td>\n",
              "      <td>0.051009</td>\n",
              "      <td>-0.259176</td>\n",
              "      <td>-0.009176</td>\n",
              "      <td>0.865824</td>\n",
              "      <td>...</td>\n",
              "      <td>0.365824</td>\n",
              "      <td>-0.134176</td>\n",
              "      <td>0.865824</td>\n",
              "      <td>0.865824</td>\n",
              "      <td>0.365824</td>\n",
              "      <td>0.865824</td>\n",
              "      <td>0.365824</td>\n",
              "      <td>0.365824</td>\n",
              "      <td>0.365824</td>\n",
              "      <td>0.865824</td>\n",
              "    </tr>\n",
              "    <tr>\n",
              "      <th>609</th>\n",
              "      <td>-0.270270</td>\n",
              "      <td>0.161548</td>\n",
              "      <td>-0.010655</td>\n",
              "      <td>-0.913127</td>\n",
              "      <td>-0.198842</td>\n",
              "      <td>0.675808</td>\n",
              "      <td>-0.085085</td>\n",
              "      <td>-0.395270</td>\n",
              "      <td>-0.145270</td>\n",
              "      <td>0.729730</td>\n",
              "      <td>...</td>\n",
              "      <td>0.229730</td>\n",
              "      <td>-0.270270</td>\n",
              "      <td>0.729730</td>\n",
              "      <td>0.729730</td>\n",
              "      <td>0.229730</td>\n",
              "      <td>0.729730</td>\n",
              "      <td>0.229730</td>\n",
              "      <td>0.229730</td>\n",
              "      <td>0.229730</td>\n",
              "      <td>0.729730</td>\n",
              "    </tr>\n",
              "    <tr>\n",
              "      <th>610</th>\n",
              "      <td>1.311444</td>\n",
              "      <td>-0.256738</td>\n",
              "      <td>-0.428941</td>\n",
              "      <td>-1.331413</td>\n",
              "      <td>-0.617127</td>\n",
              "      <td>1.311444</td>\n",
              "      <td>-0.503371</td>\n",
              "      <td>-0.813556</td>\n",
              "      <td>-0.563556</td>\n",
              "      <td>-0.192344</td>\n",
              "      <td>...</td>\n",
              "      <td>-0.188556</td>\n",
              "      <td>-0.688556</td>\n",
              "      <td>0.311444</td>\n",
              "      <td>0.311444</td>\n",
              "      <td>-0.188556</td>\n",
              "      <td>0.311444</td>\n",
              "      <td>-0.188556</td>\n",
              "      <td>-0.188556</td>\n",
              "      <td>-0.188556</td>\n",
              "      <td>0.311444</td>\n",
              "    </tr>\n",
              "  </tbody>\n",
              "</table>\n",
              "<p>610 rows × 9724 columns</p>\n",
              "</div>\n",
              "      <button class=\"colab-df-convert\" onclick=\"convertToInteractive('df-d13dc89d-55a0-43bf-b886-0c69ea479747')\"\n",
              "              title=\"Convert this dataframe to an interactive table.\"\n",
              "              style=\"display:none;\">\n",
              "        \n",
              "  <svg xmlns=\"http://www.w3.org/2000/svg\" height=\"24px\"viewBox=\"0 0 24 24\"\n",
              "       width=\"24px\">\n",
              "    <path d=\"M0 0h24v24H0V0z\" fill=\"none\"/>\n",
              "    <path d=\"M18.56 5.44l.94 2.06.94-2.06 2.06-.94-2.06-.94-.94-2.06-.94 2.06-2.06.94zm-11 1L8.5 8.5l.94-2.06 2.06-.94-2.06-.94L8.5 2.5l-.94 2.06-2.06.94zm10 10l.94 2.06.94-2.06 2.06-.94-2.06-.94-.94-2.06-.94 2.06-2.06.94z\"/><path d=\"M17.41 7.96l-1.37-1.37c-.4-.4-.92-.59-1.43-.59-.52 0-1.04.2-1.43.59L10.3 9.45l-7.72 7.72c-.78.78-.78 2.05 0 2.83L4 21.41c.39.39.9.59 1.41.59.51 0 1.02-.2 1.41-.59l7.78-7.78 2.81-2.81c.8-.78.8-2.07 0-2.86zM5.41 20L4 18.59l7.72-7.72 1.47 1.35L5.41 20z\"/>\n",
              "  </svg>\n",
              "      </button>\n",
              "      \n",
              "  <style>\n",
              "    .colab-df-container {\n",
              "      display:flex;\n",
              "      flex-wrap:wrap;\n",
              "      gap: 12px;\n",
              "    }\n",
              "\n",
              "    .colab-df-convert {\n",
              "      background-color: #E8F0FE;\n",
              "      border: none;\n",
              "      border-radius: 50%;\n",
              "      cursor: pointer;\n",
              "      display: none;\n",
              "      fill: #1967D2;\n",
              "      height: 32px;\n",
              "      padding: 0 0 0 0;\n",
              "      width: 32px;\n",
              "    }\n",
              "\n",
              "    .colab-df-convert:hover {\n",
              "      background-color: #E2EBFA;\n",
              "      box-shadow: 0px 1px 2px rgba(60, 64, 67, 0.3), 0px 1px 3px 1px rgba(60, 64, 67, 0.15);\n",
              "      fill: #174EA6;\n",
              "    }\n",
              "\n",
              "    [theme=dark] .colab-df-convert {\n",
              "      background-color: #3B4455;\n",
              "      fill: #D2E3FC;\n",
              "    }\n",
              "\n",
              "    [theme=dark] .colab-df-convert:hover {\n",
              "      background-color: #434B5C;\n",
              "      box-shadow: 0px 1px 3px 1px rgba(0, 0, 0, 0.15);\n",
              "      filter: drop-shadow(0px 1px 2px rgba(0, 0, 0, 0.3));\n",
              "      fill: #FFFFFF;\n",
              "    }\n",
              "  </style>\n",
              "\n",
              "      <script>\n",
              "        const buttonEl =\n",
              "          document.querySelector('#df-d13dc89d-55a0-43bf-b886-0c69ea479747 button.colab-df-convert');\n",
              "        buttonEl.style.display =\n",
              "          google.colab.kernel.accessAllowed ? 'block' : 'none';\n",
              "\n",
              "        async function convertToInteractive(key) {\n",
              "          const element = document.querySelector('#df-d13dc89d-55a0-43bf-b886-0c69ea479747');\n",
              "          const dataTable =\n",
              "            await google.colab.kernel.invokeFunction('convertToInteractive',\n",
              "                                                     [key], {});\n",
              "          if (!dataTable) return;\n",
              "\n",
              "          const docLinkHtml = 'Like what you see? Visit the ' +\n",
              "            '<a target=\"_blank\" href=https://colab.research.google.com/notebooks/data_table.ipynb>data table notebook</a>'\n",
              "            + ' to learn more about interactive tables.';\n",
              "          element.innerHTML = '';\n",
              "          dataTable['output_type'] = 'display_data';\n",
              "          await google.colab.output.renderOutput(dataTable, element);\n",
              "          const docLink = document.createElement('div');\n",
              "          docLink.innerHTML = docLinkHtml;\n",
              "          element.appendChild(docLink);\n",
              "        }\n",
              "      </script>\n",
              "    </div>\n",
              "  </div>\n",
              "  "
            ]
          },
          "metadata": {},
          "execution_count": 164
        }
      ]
    },
    {
      "cell_type": "markdown",
      "source": [
        "#### Ids encoding"
      ],
      "metadata": {
        "id": "A5DRYmYPvo1p"
      }
    },
    {
      "cell_type": "markdown",
      "source": [
        "Let's encode users and items ids such that their values range from 0 to 909 (for users) and from 0 to 9723 (for items)"
      ],
      "metadata": {
        "id": "gGdK1C_0vswJ"
      }
    },
    {
      "cell_type": "code",
      "source": [
        "users = sorted(ratings['userid'].unique())\n",
        "items = sorted(ratings['itemid'].unique())\n",
        "\n",
        "# create our id encoders\n",
        "uencoder = LabelEncoder()\n",
        "iencoder = LabelEncoder()\n",
        "\n",
        "# fit our label encoder\n",
        "uencoder.fit(users)\n",
        "iencoder.fit(items)"
      ],
      "metadata": {
        "colab": {
          "base_uri": "https://localhost:8080/"
        },
        "id": "LPdwrWZnQYpE",
        "outputId": "da02ed99-69a5-4a33-854a-2aae2b99331d"
      },
      "execution_count": null,
      "outputs": [
        {
          "output_type": "execute_result",
          "data": {
            "text/plain": [
              "LabelEncoder()"
            ]
          },
          "metadata": {},
          "execution_count": 165
        }
      ]
    },
    {
      "cell_type": "markdown",
      "source": [
        "### 3.1.2. SVD Algorithm"
      ],
      "metadata": {
        "id": "LnB0dnrtwCT9"
      }
    },
    {
      "cell_type": "markdown",
      "source": [
        "Now that our rating data has been normalize and that missing values has been filled, we can apply the SVD algorithm. Several libraries may be useful such as ```numpy```, ```scipy```, ```sklearn```, ... Let's try it with ```numpy```.\n",
        "\n",
        "In our SVD class we provide the following function :\n",
        "\n",
        "1. ```fit()``` : compute the svd of the rating matrix and save the resultant matrices P, S and Qh (Q transpose) as attributs of the SVD class.\n",
        "2. ```predict()```: use matrices P, S and Qh to make ratin prediction for a given $u$ user on an item $i$. Computations are made over encoded values of userid and itemid. The predicted value is the dot product between $u^{th}$ row of $P.\\sqrt{S}$ and the $i^{th}$ column of $\\sqrt{S}.Qh$. **Note** that since we normalized rating before applying SVD, the predicted value will also be normalize. So, to get the final predicted rating, we have to add to the predicted value the mean rating of user $u$.\n",
        "3. ```recommend()```: use matrices P, S and Qh to make recommendations to a given user. The recommended items are those that where not rated by the user and received a high score according to the svd model."
      ],
      "metadata": {
        "id": "SlPJiCIswEXm"
      }
    },
    {
      "cell_type": "code",
      "source": [
        "class SVD:\n",
        "    \n",
        "    def __init__(self, umeam):\n",
        "        \"\"\"\n",
        "        :param\n",
        "            - umean : mean ratings of users\n",
        "        \"\"\"\n",
        "        self.umean = umean.to_numpy()\n",
        "        \n",
        "        # init svd resultant matrices\n",
        "        self.P = np.array([])\n",
        "        self.S = np.array([])\n",
        "        self.Qh = np.array([])\n",
        "        \n",
        "        # init users and items latent factors\n",
        "        self.u_factors = np.array([])\n",
        "        self.i_factors = np.array([])\n",
        "    \n",
        "    def fit(self, R):\n",
        "        \"\"\"\n",
        "        Fit the SVD model with rating matrix R\n",
        "        \"\"\"\n",
        "        P, s, Qh = np.linalg.svd(R, full_matrices=False)\n",
        "        \n",
        "        self.P = P\n",
        "        self.S = np.diag(s)\n",
        "        self.Qh = Qh\n",
        "        \n",
        "        # latent factors of users (u_factors) and items (i_factors)\n",
        "        self.u_factors = np.dot(self.P, np.sqrt(self.S))\n",
        "        self.i_factors = np.dot(np.sqrt(self.S), self.Qh)\n",
        "    \n",
        "    def predict(self, userid, itemid):\n",
        "        \"\"\"\n",
        "        Make rating prediction for a given user on an item\n",
        "        \n",
        "        :param\n",
        "            - userid : user's id\n",
        "            - itemid : item's id\n",
        "            \n",
        "        :return\n",
        "            - r_hat : predicted rating\n",
        "        \"\"\"\n",
        "        # encode user and item ids\n",
        "        u = uencoder.transform([userid])[0]\n",
        "        i = iencoder.transform([itemid])[0]\n",
        "        \n",
        "        # the predicted rating is the dot product between the uth row \n",
        "        # of u_factors and the ith column of i_factors\n",
        "        r_hat = np.dot(self.u_factors[u,:], self.i_factors[:,i])\n",
        "        \n",
        "        # add the mean rating of user u to the predicted value\n",
        "        r_hat += self.umean[u]\n",
        "        \n",
        "        return r_hat\n",
        "        \n",
        "    \n",
        "    def recommend(self, userid):\n",
        "        \"\"\"\n",
        "        :param\n",
        "            - userid : user's id\n",
        "        \"\"\"\n",
        "        # encode user\n",
        "        u = uencoder.transform([userid])[0]\n",
        "        \n",
        "        # the dot product between the uth row of u_factors and i_factors returns\n",
        "        # the predicted value for user u on all items        \n",
        "        predictions = np.dot(self.u_factors[u,:], self.i_factors) + self.umean[u]\n",
        "        \n",
        "        # sort item ids in decreasing order of predictions\n",
        "        top_idx = np.flip(np.argsort(predictions))\n",
        "\n",
        "        # decode indices to get their corresponding itemids\n",
        "        top_items = iencoder.inverse_transform(top_idx)\n",
        "        \n",
        "        # sorted predictions\n",
        "        preds = predictions[top_idx]\n",
        "        \n",
        "        return top_items, preds\n",
        "        "
      ],
      "metadata": {
        "id": "pakZTQ-OQhft"
      },
      "execution_count": null,
      "outputs": []
    },
    {
      "cell_type": "markdown",
      "source": [
        "Now let's create our SVD model and provide to it user's mean rating; Fit the model with the normalized rating matrix $R$."
      ],
      "metadata": {
        "id": "NOPt9e61wVK5"
      }
    },
    {
      "cell_type": "code",
      "source": [
        "# create our svd model\n",
        "svd = SVD(umean)\n",
        "\n",
        "# fit our model with normalized ratings\n",
        "svd.fit(R)"
      ],
      "metadata": {
        "id": "JSs7FDy4QlGE"
      },
      "execution_count": null,
      "outputs": []
    },
    {
      "cell_type": "markdown",
      "source": [
        "#### Rating prediction"
      ],
      "metadata": {
        "id": "fCeB5XB8wsa5"
      }
    },
    {
      "cell_type": "markdown",
      "source": [
        "Our model has been fitted.\n",
        "Let's make some predictions for users using function ```predict``` of our SVD class. Here are some truth ratings"
      ],
      "metadata": {
        "id": "dldfof3Twwx6"
      }
    },
    {
      "cell_type": "code",
      "source": [
        "ratings.head(10)"
      ],
      "metadata": {
        "colab": {
          "base_uri": "https://localhost:8080/",
          "height": 363
        },
        "id": "322VFpdyQpiU",
        "outputId": "fec4e5f0-74d5-4ab0-8841-663f92b781a5"
      },
      "execution_count": null,
      "outputs": [
        {
          "output_type": "execute_result",
          "data": {
            "text/plain": [
              "   userid  itemid  rating  timestamp\n",
              "0       1       1     4.0  964982703\n",
              "1       1       3     4.0  964981247\n",
              "2       1       6     4.0  964982224\n",
              "3       1      47     5.0  964983815\n",
              "4       1      50     5.0  964982931\n",
              "5       1      70     3.0  964982400\n",
              "6       1     101     5.0  964980868\n",
              "7       1     110     4.0  964982176\n",
              "8       1     151     5.0  964984041\n",
              "9       1     157     5.0  964984100"
            ],
            "text/html": [
              "\n",
              "  <div id=\"df-b9d0c780-f213-45a5-b278-195f3c2de90c\">\n",
              "    <div class=\"colab-df-container\">\n",
              "      <div>\n",
              "<style scoped>\n",
              "    .dataframe tbody tr th:only-of-type {\n",
              "        vertical-align: middle;\n",
              "    }\n",
              "\n",
              "    .dataframe tbody tr th {\n",
              "        vertical-align: top;\n",
              "    }\n",
              "\n",
              "    .dataframe thead th {\n",
              "        text-align: right;\n",
              "    }\n",
              "</style>\n",
              "<table border=\"1\" class=\"dataframe\">\n",
              "  <thead>\n",
              "    <tr style=\"text-align: right;\">\n",
              "      <th></th>\n",
              "      <th>userid</th>\n",
              "      <th>itemid</th>\n",
              "      <th>rating</th>\n",
              "      <th>timestamp</th>\n",
              "    </tr>\n",
              "  </thead>\n",
              "  <tbody>\n",
              "    <tr>\n",
              "      <th>0</th>\n",
              "      <td>1</td>\n",
              "      <td>1</td>\n",
              "      <td>4.0</td>\n",
              "      <td>964982703</td>\n",
              "    </tr>\n",
              "    <tr>\n",
              "      <th>1</th>\n",
              "      <td>1</td>\n",
              "      <td>3</td>\n",
              "      <td>4.0</td>\n",
              "      <td>964981247</td>\n",
              "    </tr>\n",
              "    <tr>\n",
              "      <th>2</th>\n",
              "      <td>1</td>\n",
              "      <td>6</td>\n",
              "      <td>4.0</td>\n",
              "      <td>964982224</td>\n",
              "    </tr>\n",
              "    <tr>\n",
              "      <th>3</th>\n",
              "      <td>1</td>\n",
              "      <td>47</td>\n",
              "      <td>5.0</td>\n",
              "      <td>964983815</td>\n",
              "    </tr>\n",
              "    <tr>\n",
              "      <th>4</th>\n",
              "      <td>1</td>\n",
              "      <td>50</td>\n",
              "      <td>5.0</td>\n",
              "      <td>964982931</td>\n",
              "    </tr>\n",
              "    <tr>\n",
              "      <th>5</th>\n",
              "      <td>1</td>\n",
              "      <td>70</td>\n",
              "      <td>3.0</td>\n",
              "      <td>964982400</td>\n",
              "    </tr>\n",
              "    <tr>\n",
              "      <th>6</th>\n",
              "      <td>1</td>\n",
              "      <td>101</td>\n",
              "      <td>5.0</td>\n",
              "      <td>964980868</td>\n",
              "    </tr>\n",
              "    <tr>\n",
              "      <th>7</th>\n",
              "      <td>1</td>\n",
              "      <td>110</td>\n",
              "      <td>4.0</td>\n",
              "      <td>964982176</td>\n",
              "    </tr>\n",
              "    <tr>\n",
              "      <th>8</th>\n",
              "      <td>1</td>\n",
              "      <td>151</td>\n",
              "      <td>5.0</td>\n",
              "      <td>964984041</td>\n",
              "    </tr>\n",
              "    <tr>\n",
              "      <th>9</th>\n",
              "      <td>1</td>\n",
              "      <td>157</td>\n",
              "      <td>5.0</td>\n",
              "      <td>964984100</td>\n",
              "    </tr>\n",
              "  </tbody>\n",
              "</table>\n",
              "</div>\n",
              "      <button class=\"colab-df-convert\" onclick=\"convertToInteractive('df-b9d0c780-f213-45a5-b278-195f3c2de90c')\"\n",
              "              title=\"Convert this dataframe to an interactive table.\"\n",
              "              style=\"display:none;\">\n",
              "        \n",
              "  <svg xmlns=\"http://www.w3.org/2000/svg\" height=\"24px\"viewBox=\"0 0 24 24\"\n",
              "       width=\"24px\">\n",
              "    <path d=\"M0 0h24v24H0V0z\" fill=\"none\"/>\n",
              "    <path d=\"M18.56 5.44l.94 2.06.94-2.06 2.06-.94-2.06-.94-.94-2.06-.94 2.06-2.06.94zm-11 1L8.5 8.5l.94-2.06 2.06-.94-2.06-.94L8.5 2.5l-.94 2.06-2.06.94zm10 10l.94 2.06.94-2.06 2.06-.94-2.06-.94-.94-2.06-.94 2.06-2.06.94z\"/><path d=\"M17.41 7.96l-1.37-1.37c-.4-.4-.92-.59-1.43-.59-.52 0-1.04.2-1.43.59L10.3 9.45l-7.72 7.72c-.78.78-.78 2.05 0 2.83L4 21.41c.39.39.9.59 1.41.59.51 0 1.02-.2 1.41-.59l7.78-7.78 2.81-2.81c.8-.78.8-2.07 0-2.86zM5.41 20L4 18.59l7.72-7.72 1.47 1.35L5.41 20z\"/>\n",
              "  </svg>\n",
              "      </button>\n",
              "      \n",
              "  <style>\n",
              "    .colab-df-container {\n",
              "      display:flex;\n",
              "      flex-wrap:wrap;\n",
              "      gap: 12px;\n",
              "    }\n",
              "\n",
              "    .colab-df-convert {\n",
              "      background-color: #E8F0FE;\n",
              "      border: none;\n",
              "      border-radius: 50%;\n",
              "      cursor: pointer;\n",
              "      display: none;\n",
              "      fill: #1967D2;\n",
              "      height: 32px;\n",
              "      padding: 0 0 0 0;\n",
              "      width: 32px;\n",
              "    }\n",
              "\n",
              "    .colab-df-convert:hover {\n",
              "      background-color: #E2EBFA;\n",
              "      box-shadow: 0px 1px 2px rgba(60, 64, 67, 0.3), 0px 1px 3px 1px rgba(60, 64, 67, 0.15);\n",
              "      fill: #174EA6;\n",
              "    }\n",
              "\n",
              "    [theme=dark] .colab-df-convert {\n",
              "      background-color: #3B4455;\n",
              "      fill: #D2E3FC;\n",
              "    }\n",
              "\n",
              "    [theme=dark] .colab-df-convert:hover {\n",
              "      background-color: #434B5C;\n",
              "      box-shadow: 0px 1px 3px 1px rgba(0, 0, 0, 0.15);\n",
              "      filter: drop-shadow(0px 1px 2px rgba(0, 0, 0, 0.3));\n",
              "      fill: #FFFFFF;\n",
              "    }\n",
              "  </style>\n",
              "\n",
              "      <script>\n",
              "        const buttonEl =\n",
              "          document.querySelector('#df-b9d0c780-f213-45a5-b278-195f3c2de90c button.colab-df-convert');\n",
              "        buttonEl.style.display =\n",
              "          google.colab.kernel.accessAllowed ? 'block' : 'none';\n",
              "\n",
              "        async function convertToInteractive(key) {\n",
              "          const element = document.querySelector('#df-b9d0c780-f213-45a5-b278-195f3c2de90c');\n",
              "          const dataTable =\n",
              "            await google.colab.kernel.invokeFunction('convertToInteractive',\n",
              "                                                     [key], {});\n",
              "          if (!dataTable) return;\n",
              "\n",
              "          const docLinkHtml = 'Like what you see? Visit the ' +\n",
              "            '<a target=\"_blank\" href=https://colab.research.google.com/notebooks/data_table.ipynb>data table notebook</a>'\n",
              "            + ' to learn more about interactive tables.';\n",
              "          element.innerHTML = '';\n",
              "          dataTable['output_type'] = 'display_data';\n",
              "          await google.colab.output.renderOutput(dataTable, element);\n",
              "          const docLink = document.createElement('div');\n",
              "          docLink.innerHTML = docLinkHtml;\n",
              "          element.appendChild(docLink);\n",
              "        }\n",
              "      </script>\n",
              "    </div>\n",
              "  </div>\n",
              "  "
            ]
          },
          "metadata": {},
          "execution_count": 168
        }
      ]
    },
    {
      "cell_type": "markdown",
      "source": [
        "Let's apply our model to make see if our predictions make sens. We will make predictions for user 1 on the 10 items listed above."
      ],
      "metadata": {
        "id": "ZYk58lOcw9V1"
      }
    },
    {
      "cell_type": "code",
      "source": [
        "# user for which we make predictions\n",
        "userid = 1\n",
        "\n",
        "# list of items for which we are making predictions for user 1\n",
        "items = [1,3,6,47,50,70,101,110,151,157]\n",
        "\n",
        "# predictions\n",
        "for itemid in items:\n",
        "    r = svd.predict(userid=userid, itemid=itemid)\n",
        "    print('prediction for userid={} and itemid={} : {}'.format(userid, itemid, r))"
      ],
      "metadata": {
        "colab": {
          "base_uri": "https://localhost:8080/"
        },
        "id": "cIhoj14pRRIw",
        "outputId": "50216ed1-42e2-492d-dd64-9609da69384b"
      },
      "execution_count": null,
      "outputs": [
        {
          "output_type": "stream",
          "name": "stdout",
          "text": [
            "prediction for userid=1 and itemid=1 : 3.9999999999999996\n",
            "prediction for userid=1 and itemid=3 : 4.0000000000000036\n",
            "prediction for userid=1 and itemid=6 : 3.9999999999999867\n",
            "prediction for userid=1 and itemid=47 : 5.0\n",
            "prediction for userid=1 and itemid=50 : 4.9999999999999964\n",
            "prediction for userid=1 and itemid=70 : 2.999999999999981\n",
            "prediction for userid=1 and itemid=101 : 5.000000000000006\n",
            "prediction for userid=1 and itemid=110 : 3.9999999999999862\n",
            "prediction for userid=1 and itemid=151 : 5.0000000000000115\n",
            "prediction for userid=1 and itemid=157 : 5.000000000000028\n"
          ]
        }
      ]
    },
    {
      "cell_type": "markdown",
      "source": [
        "The prediction error is less than 0.00001"
      ],
      "metadata": {
        "id": "wSpiKl1UxEMB"
      }
    },
    {
      "cell_type": "markdown",
      "source": [
        "#### Make recommendations"
      ],
      "metadata": {
        "id": "2y6NhlwyxLr9"
      }
    },
    {
      "cell_type": "markdown",
      "source": [
        "The ```recommend``` function makes recommendations for a given user."
      ],
      "metadata": {
        "id": "DXfk3BK5xNDt"
      }
    },
    {
      "cell_type": "code",
      "source": [
        "userid = 1\n",
        "\n",
        "# items sorted in decreasing order of predictions for user 1\n",
        "sorted_items, preds = svd.recommend(userid=userid)\n",
        "\n",
        "##\n",
        "# Now let's exclud from that sorted list items already purchased by the user\n",
        "##\n",
        "\n",
        "# list of items rated by the user\n",
        "uitems = ratings.loc[ratings.userid == userid].itemid.to_list()\n",
        "\n",
        "# remove from sorted_items items already in uitems and pick the top 30 ones\n",
        "# as recommendation list\n",
        "top30 = np.setdiff1d(sorted_items, uitems, assume_unique=True)[:30]\n",
        "\n",
        "# get corresponding predictions from the top30 items\n",
        "top30_idx = list(np.where(sorted_items == idx)[0][0] for idx in top30)\n",
        "top30_predictions = preds[top30_idx]\n",
        "\n",
        "# find corresponding movie titles\n",
        "zipped_top30 = list(zip(top30,top30_predictions))\n",
        "top30 = pd.DataFrame(zipped_top30, columns=['itemid','predictions'])\n",
        "List = pd.merge(top30, movies, on='itemid', how='inner')\n",
        "\n",
        "# show the list\n",
        "List"
      ],
      "metadata": {
        "colab": {
          "base_uri": "https://localhost:8080/",
          "height": 990
        },
        "id": "X_EqOuoARWL8",
        "outputId": "98dd81e7-62bf-423b-c40c-be12876ccfa5"
      },
      "execution_count": null,
      "outputs": [
        {
          "output_type": "execute_result",
          "data": {
            "text/plain": [
              "    itemid  predictions                                              title  \\\n",
              "0      148          5.0                   Awfully Big Adventure, An (1995)   \n",
              "1     6086          5.0                                 I, the Jury (1982)   \n",
              "2   136445          5.0                 George Carlin: Back in Town (1996)   \n",
              "3     6201          5.0                                   Lady Jane (1986)   \n",
              "4     2075          5.0                                    Mephisto (1981)   \n",
              "5     6192          5.0          Open Hearts (Elsker dig for evigt) (2002)   \n",
              "6   117531          5.0                                   Watermark (2014)   \n",
              "7   158398          5.0                              World of Glory (1991)   \n",
              "8     6021          5.0  American Friend, The (Amerikanische Freund, De...   \n",
              "9   136556          5.0       Kung Fu Panda: Secrets of the Masters (2011)   \n",
              "10  136447          5.0         George Carlin: You Are All Diseased (1999)   \n",
              "11  136503          5.0           Tom and Jerry: Shiver Me Whiskers (2006)   \n",
              "12  134095          5.0                                     My Love (2006)   \n",
              "13    3851          5.0                     I'm the One That I Want (2000)   \n",
              "14  136469          5.0           Larry David: Curb Your Enthusiasm (1999)   \n",
              "15  158882          5.0                                   All Yours (2016)   \n",
              "16  134004          5.0                                What Love Is (2007)   \n",
              "17   67618          5.0                             Strictly Sexual (2008)   \n",
              "18    3567          5.0                                  Bossa Nova (2000)   \n",
              "19  158027          5.0                  SORI: Voice from the Heart (2016)   \n",
              "20   59814          5.0                                  Ex Drummer (2007)   \n",
              "21    5745          5.0                           Four Seasons, The (1981)   \n",
              "22  118894          5.0                 Scooby-Doo! Abracadabra-Doo (2010)   \n",
              "23    5746          5.0                    Galaxy of Terror (Quest) (1981)   \n",
              "24  118834          5.0                  National Lampoon's Bag Boy (2007)   \n",
              "25    3940          5.0                  Slumber Party Massacre III (1990)   \n",
              "26   95311          5.0                                      Presto (2008)   \n",
              "27    3496          5.0                            Madame Sousatzka (1988)   \n",
              "28  156025          5.0              Ice Age: The Great Egg-Scapade (2016)   \n",
              "29    2196          5.0                                   Knock Off (1998)   \n",
              "\n",
              "                                 genres  \n",
              "0                                 Drama  \n",
              "1                  Crime|Drama|Thriller  \n",
              "2                                Comedy  \n",
              "3                         Drama|Romance  \n",
              "4                             Drama|War  \n",
              "5                               Romance  \n",
              "6                           Documentary  \n",
              "7                                Comedy  \n",
              "8          Crime|Drama|Mystery|Thriller  \n",
              "9                    Animation|Children  \n",
              "10                               Comedy  \n",
              "11            Animation|Children|Comedy  \n",
              "12                      Animation|Drama  \n",
              "13                               Comedy  \n",
              "14                               Comedy  \n",
              "15                 Comedy|Drama|Romance  \n",
              "16                       Comedy|Romance  \n",
              "17                 Comedy|Drama|Romance  \n",
              "18                 Comedy|Drama|Romance  \n",
              "19                         Drama|Sci-Fi  \n",
              "20            Comedy|Crime|Drama|Horror  \n",
              "21                         Comedy|Drama  \n",
              "22           Animation|Children|Mystery  \n",
              "23         Action|Horror|Mystery|Sci-Fi  \n",
              "24                               Comedy  \n",
              "25                               Horror  \n",
              "26    Animation|Children|Comedy|Fantasy  \n",
              "27                                Drama  \n",
              "28  Adventure|Animation|Children|Comedy  \n",
              "29                               Action  "
            ],
            "text/html": [
              "\n",
              "  <div id=\"df-6be9d01e-387e-4c12-95cf-bbc840191345\">\n",
              "    <div class=\"colab-df-container\">\n",
              "      <div>\n",
              "<style scoped>\n",
              "    .dataframe tbody tr th:only-of-type {\n",
              "        vertical-align: middle;\n",
              "    }\n",
              "\n",
              "    .dataframe tbody tr th {\n",
              "        vertical-align: top;\n",
              "    }\n",
              "\n",
              "    .dataframe thead th {\n",
              "        text-align: right;\n",
              "    }\n",
              "</style>\n",
              "<table border=\"1\" class=\"dataframe\">\n",
              "  <thead>\n",
              "    <tr style=\"text-align: right;\">\n",
              "      <th></th>\n",
              "      <th>itemid</th>\n",
              "      <th>predictions</th>\n",
              "      <th>title</th>\n",
              "      <th>genres</th>\n",
              "    </tr>\n",
              "  </thead>\n",
              "  <tbody>\n",
              "    <tr>\n",
              "      <th>0</th>\n",
              "      <td>148</td>\n",
              "      <td>5.0</td>\n",
              "      <td>Awfully Big Adventure, An (1995)</td>\n",
              "      <td>Drama</td>\n",
              "    </tr>\n",
              "    <tr>\n",
              "      <th>1</th>\n",
              "      <td>6086</td>\n",
              "      <td>5.0</td>\n",
              "      <td>I, the Jury (1982)</td>\n",
              "      <td>Crime|Drama|Thriller</td>\n",
              "    </tr>\n",
              "    <tr>\n",
              "      <th>2</th>\n",
              "      <td>136445</td>\n",
              "      <td>5.0</td>\n",
              "      <td>George Carlin: Back in Town (1996)</td>\n",
              "      <td>Comedy</td>\n",
              "    </tr>\n",
              "    <tr>\n",
              "      <th>3</th>\n",
              "      <td>6201</td>\n",
              "      <td>5.0</td>\n",
              "      <td>Lady Jane (1986)</td>\n",
              "      <td>Drama|Romance</td>\n",
              "    </tr>\n",
              "    <tr>\n",
              "      <th>4</th>\n",
              "      <td>2075</td>\n",
              "      <td>5.0</td>\n",
              "      <td>Mephisto (1981)</td>\n",
              "      <td>Drama|War</td>\n",
              "    </tr>\n",
              "    <tr>\n",
              "      <th>5</th>\n",
              "      <td>6192</td>\n",
              "      <td>5.0</td>\n",
              "      <td>Open Hearts (Elsker dig for evigt) (2002)</td>\n",
              "      <td>Romance</td>\n",
              "    </tr>\n",
              "    <tr>\n",
              "      <th>6</th>\n",
              "      <td>117531</td>\n",
              "      <td>5.0</td>\n",
              "      <td>Watermark (2014)</td>\n",
              "      <td>Documentary</td>\n",
              "    </tr>\n",
              "    <tr>\n",
              "      <th>7</th>\n",
              "      <td>158398</td>\n",
              "      <td>5.0</td>\n",
              "      <td>World of Glory (1991)</td>\n",
              "      <td>Comedy</td>\n",
              "    </tr>\n",
              "    <tr>\n",
              "      <th>8</th>\n",
              "      <td>6021</td>\n",
              "      <td>5.0</td>\n",
              "      <td>American Friend, The (Amerikanische Freund, De...</td>\n",
              "      <td>Crime|Drama|Mystery|Thriller</td>\n",
              "    </tr>\n",
              "    <tr>\n",
              "      <th>9</th>\n",
              "      <td>136556</td>\n",
              "      <td>5.0</td>\n",
              "      <td>Kung Fu Panda: Secrets of the Masters (2011)</td>\n",
              "      <td>Animation|Children</td>\n",
              "    </tr>\n",
              "    <tr>\n",
              "      <th>10</th>\n",
              "      <td>136447</td>\n",
              "      <td>5.0</td>\n",
              "      <td>George Carlin: You Are All Diseased (1999)</td>\n",
              "      <td>Comedy</td>\n",
              "    </tr>\n",
              "    <tr>\n",
              "      <th>11</th>\n",
              "      <td>136503</td>\n",
              "      <td>5.0</td>\n",
              "      <td>Tom and Jerry: Shiver Me Whiskers (2006)</td>\n",
              "      <td>Animation|Children|Comedy</td>\n",
              "    </tr>\n",
              "    <tr>\n",
              "      <th>12</th>\n",
              "      <td>134095</td>\n",
              "      <td>5.0</td>\n",
              "      <td>My Love (2006)</td>\n",
              "      <td>Animation|Drama</td>\n",
              "    </tr>\n",
              "    <tr>\n",
              "      <th>13</th>\n",
              "      <td>3851</td>\n",
              "      <td>5.0</td>\n",
              "      <td>I'm the One That I Want (2000)</td>\n",
              "      <td>Comedy</td>\n",
              "    </tr>\n",
              "    <tr>\n",
              "      <th>14</th>\n",
              "      <td>136469</td>\n",
              "      <td>5.0</td>\n",
              "      <td>Larry David: Curb Your Enthusiasm (1999)</td>\n",
              "      <td>Comedy</td>\n",
              "    </tr>\n",
              "    <tr>\n",
              "      <th>15</th>\n",
              "      <td>158882</td>\n",
              "      <td>5.0</td>\n",
              "      <td>All Yours (2016)</td>\n",
              "      <td>Comedy|Drama|Romance</td>\n",
              "    </tr>\n",
              "    <tr>\n",
              "      <th>16</th>\n",
              "      <td>134004</td>\n",
              "      <td>5.0</td>\n",
              "      <td>What Love Is (2007)</td>\n",
              "      <td>Comedy|Romance</td>\n",
              "    </tr>\n",
              "    <tr>\n",
              "      <th>17</th>\n",
              "      <td>67618</td>\n",
              "      <td>5.0</td>\n",
              "      <td>Strictly Sexual (2008)</td>\n",
              "      <td>Comedy|Drama|Romance</td>\n",
              "    </tr>\n",
              "    <tr>\n",
              "      <th>18</th>\n",
              "      <td>3567</td>\n",
              "      <td>5.0</td>\n",
              "      <td>Bossa Nova (2000)</td>\n",
              "      <td>Comedy|Drama|Romance</td>\n",
              "    </tr>\n",
              "    <tr>\n",
              "      <th>19</th>\n",
              "      <td>158027</td>\n",
              "      <td>5.0</td>\n",
              "      <td>SORI: Voice from the Heart (2016)</td>\n",
              "      <td>Drama|Sci-Fi</td>\n",
              "    </tr>\n",
              "    <tr>\n",
              "      <th>20</th>\n",
              "      <td>59814</td>\n",
              "      <td>5.0</td>\n",
              "      <td>Ex Drummer (2007)</td>\n",
              "      <td>Comedy|Crime|Drama|Horror</td>\n",
              "    </tr>\n",
              "    <tr>\n",
              "      <th>21</th>\n",
              "      <td>5745</td>\n",
              "      <td>5.0</td>\n",
              "      <td>Four Seasons, The (1981)</td>\n",
              "      <td>Comedy|Drama</td>\n",
              "    </tr>\n",
              "    <tr>\n",
              "      <th>22</th>\n",
              "      <td>118894</td>\n",
              "      <td>5.0</td>\n",
              "      <td>Scooby-Doo! Abracadabra-Doo (2010)</td>\n",
              "      <td>Animation|Children|Mystery</td>\n",
              "    </tr>\n",
              "    <tr>\n",
              "      <th>23</th>\n",
              "      <td>5746</td>\n",
              "      <td>5.0</td>\n",
              "      <td>Galaxy of Terror (Quest) (1981)</td>\n",
              "      <td>Action|Horror|Mystery|Sci-Fi</td>\n",
              "    </tr>\n",
              "    <tr>\n",
              "      <th>24</th>\n",
              "      <td>118834</td>\n",
              "      <td>5.0</td>\n",
              "      <td>National Lampoon's Bag Boy (2007)</td>\n",
              "      <td>Comedy</td>\n",
              "    </tr>\n",
              "    <tr>\n",
              "      <th>25</th>\n",
              "      <td>3940</td>\n",
              "      <td>5.0</td>\n",
              "      <td>Slumber Party Massacre III (1990)</td>\n",
              "      <td>Horror</td>\n",
              "    </tr>\n",
              "    <tr>\n",
              "      <th>26</th>\n",
              "      <td>95311</td>\n",
              "      <td>5.0</td>\n",
              "      <td>Presto (2008)</td>\n",
              "      <td>Animation|Children|Comedy|Fantasy</td>\n",
              "    </tr>\n",
              "    <tr>\n",
              "      <th>27</th>\n",
              "      <td>3496</td>\n",
              "      <td>5.0</td>\n",
              "      <td>Madame Sousatzka (1988)</td>\n",
              "      <td>Drama</td>\n",
              "    </tr>\n",
              "    <tr>\n",
              "      <th>28</th>\n",
              "      <td>156025</td>\n",
              "      <td>5.0</td>\n",
              "      <td>Ice Age: The Great Egg-Scapade (2016)</td>\n",
              "      <td>Adventure|Animation|Children|Comedy</td>\n",
              "    </tr>\n",
              "    <tr>\n",
              "      <th>29</th>\n",
              "      <td>2196</td>\n",
              "      <td>5.0</td>\n",
              "      <td>Knock Off (1998)</td>\n",
              "      <td>Action</td>\n",
              "    </tr>\n",
              "  </tbody>\n",
              "</table>\n",
              "</div>\n",
              "      <button class=\"colab-df-convert\" onclick=\"convertToInteractive('df-6be9d01e-387e-4c12-95cf-bbc840191345')\"\n",
              "              title=\"Convert this dataframe to an interactive table.\"\n",
              "              style=\"display:none;\">\n",
              "        \n",
              "  <svg xmlns=\"http://www.w3.org/2000/svg\" height=\"24px\"viewBox=\"0 0 24 24\"\n",
              "       width=\"24px\">\n",
              "    <path d=\"M0 0h24v24H0V0z\" fill=\"none\"/>\n",
              "    <path d=\"M18.56 5.44l.94 2.06.94-2.06 2.06-.94-2.06-.94-.94-2.06-.94 2.06-2.06.94zm-11 1L8.5 8.5l.94-2.06 2.06-.94-2.06-.94L8.5 2.5l-.94 2.06-2.06.94zm10 10l.94 2.06.94-2.06 2.06-.94-2.06-.94-.94-2.06-.94 2.06-2.06.94z\"/><path d=\"M17.41 7.96l-1.37-1.37c-.4-.4-.92-.59-1.43-.59-.52 0-1.04.2-1.43.59L10.3 9.45l-7.72 7.72c-.78.78-.78 2.05 0 2.83L4 21.41c.39.39.9.59 1.41.59.51 0 1.02-.2 1.41-.59l7.78-7.78 2.81-2.81c.8-.78.8-2.07 0-2.86zM5.41 20L4 18.59l7.72-7.72 1.47 1.35L5.41 20z\"/>\n",
              "  </svg>\n",
              "      </button>\n",
              "      \n",
              "  <style>\n",
              "    .colab-df-container {\n",
              "      display:flex;\n",
              "      flex-wrap:wrap;\n",
              "      gap: 12px;\n",
              "    }\n",
              "\n",
              "    .colab-df-convert {\n",
              "      background-color: #E8F0FE;\n",
              "      border: none;\n",
              "      border-radius: 50%;\n",
              "      cursor: pointer;\n",
              "      display: none;\n",
              "      fill: #1967D2;\n",
              "      height: 32px;\n",
              "      padding: 0 0 0 0;\n",
              "      width: 32px;\n",
              "    }\n",
              "\n",
              "    .colab-df-convert:hover {\n",
              "      background-color: #E2EBFA;\n",
              "      box-shadow: 0px 1px 2px rgba(60, 64, 67, 0.3), 0px 1px 3px 1px rgba(60, 64, 67, 0.15);\n",
              "      fill: #174EA6;\n",
              "    }\n",
              "\n",
              "    [theme=dark] .colab-df-convert {\n",
              "      background-color: #3B4455;\n",
              "      fill: #D2E3FC;\n",
              "    }\n",
              "\n",
              "    [theme=dark] .colab-df-convert:hover {\n",
              "      background-color: #434B5C;\n",
              "      box-shadow: 0px 1px 3px 1px rgba(0, 0, 0, 0.15);\n",
              "      filter: drop-shadow(0px 1px 2px rgba(0, 0, 0, 0.3));\n",
              "      fill: #FFFFFF;\n",
              "    }\n",
              "  </style>\n",
              "\n",
              "      <script>\n",
              "        const buttonEl =\n",
              "          document.querySelector('#df-6be9d01e-387e-4c12-95cf-bbc840191345 button.colab-df-convert');\n",
              "        buttonEl.style.display =\n",
              "          google.colab.kernel.accessAllowed ? 'block' : 'none';\n",
              "\n",
              "        async function convertToInteractive(key) {\n",
              "          const element = document.querySelector('#df-6be9d01e-387e-4c12-95cf-bbc840191345');\n",
              "          const dataTable =\n",
              "            await google.colab.kernel.invokeFunction('convertToInteractive',\n",
              "                                                     [key], {});\n",
              "          if (!dataTable) return;\n",
              "\n",
              "          const docLinkHtml = 'Like what you see? Visit the ' +\n",
              "            '<a target=\"_blank\" href=https://colab.research.google.com/notebooks/data_table.ipynb>data table notebook</a>'\n",
              "            + ' to learn more about interactive tables.';\n",
              "          element.innerHTML = '';\n",
              "          dataTable['output_type'] = 'display_data';\n",
              "          await google.colab.output.renderOutput(dataTable, element);\n",
              "          const docLink = document.createElement('div');\n",
              "          docLink.innerHTML = docLinkHtml;\n",
              "          element.appendChild(docLink);\n",
              "        }\n",
              "      </script>\n",
              "    </div>\n",
              "  </div>\n",
              "  "
            ]
          },
          "metadata": {},
          "execution_count": 170
        }
      ]
    },
    {
      "cell_type": "markdown",
      "source": [
        "The first 30 items have an equivalent rating prediction for the user 1"
      ],
      "metadata": {
        "id": "-7tjml8wxUzR"
      }
    },
    {
      "cell_type": "markdown",
      "source": [
        "## Section 3.2: Matrix Factorization"
      ],
      "metadata": {
        "id": "P08Dx0_vxhrl"
      }
    },
    {
      "cell_type": "markdown",
      "source": [
        "<b>User-based</b> and <b>Item-based</b> collaborative Filtering recommender systems suffer from <i>data sparsity</i> and <i>scalability</i> for online recommendations. <b>Matrix Factorization</b> helps to address these drawbacks of memory-based collaborative filtering by reducing the dimension of the rating matrix $R$."
      ],
      "metadata": {
        "id": "_rv-h4w1x5P5"
      }
    },
    {
      "cell_type": "markdown",
      "source": [
        "The movielen lasted small dataset has 100k ratings of $m=610$ users on $n=9724$ items. The rating matrix in then a $m\\times n$ matrix (i.e $R\\in \\mathbb{R}^{m\\times n}$). The fact that users usually interact with less than $1\\%$ of items leads the rating matrix $R$ to be highly sparse."
      ],
      "metadata": {
        "id": "DFiitTQ-yt85"
      }
    },
    {
      "cell_type": "markdown",
      "source": [
        "**Matrix Factorization : algorithm**\n",
        "1. Initialize $P$ and $Q$ with random values\n",
        "2. For each training example $(u,i)\\in\\kappa$ with the corresponding rating $r_{u,i}$:\n",
        "   \n",
        "\n",
        "   *   compute $\\hat{r}_{u,i}$ as $\\hat{r}_{u,i} = q_{i}^{\\top} p_u$\n",
        "\n",
        "   *   compute the error : $e_{u,i} = |r_{ui} - \\hat{r}_{u,i}|$\n",
        "   *   update $p_u$ and $q_i$:\n",
        "\n",
        "       - $p_u \\leftarrow p_u + \\alpha\\cdot (e_{u,i}\\cdot q_i-\\lambda \\cdot p_u)$ \n",
        "       - $q_i \\leftarrow q_i + \\alpha\\cdot (e_{u,i}\\cdot p_u-\\lambda \\cdot q_i)$ \n",
        "        \n",
        "3. Repeat step 2 until the optimal parameters are reached. \n",
        "\n"
      ],
      "metadata": {
        "id": "pY88hJ33zimE"
      }
    },
    {
      "cell_type": "markdown",
      "source": [
        "### 3.2.1. First we prepare the tool that we will use it."
      ],
      "metadata": {
        "id": "4l5QwmJh0v4p"
      }
    },
    {
      "cell_type": "markdown",
      "source": [
        "#### **Download useful files**"
      ],
      "metadata": {
        "id": "KqvXlumg0xgl"
      }
    },
    {
      "cell_type": "code",
      "source": [
        "import os\n",
        "if not (os.path.exists(\"recsys.zip\") or os.path.exists(\"recsys\")):\n",
        "    !wget https://github.com/nzhinusoftcm/review-on-collaborative-filtering/raw/master/recsys.zip    \n",
        "    !unzip recsys.zip"
      ],
      "metadata": {
        "id": "VaxWFQg7ReyM"
      },
      "execution_count": null,
      "outputs": []
    },
    {
      "cell_type": "markdown",
      "source": [
        "#### **Import requirements**"
      ],
      "metadata": {
        "id": "hm7DLy6I05vw"
      }
    },
    {
      "cell_type": "code",
      "source": [
        "from recsys.preprocessing import mean_ratings\n",
        "from recsys.preprocessing import normalized_ratings\n",
        "from recsys.preprocessing import ids_encoder\n",
        "from recsys.preprocessing import train_test_split\n",
        "from recsys.preprocessing import rating_matrix\n",
        "from recsys.preprocessing import get_examples\n",
        "from recsys.preprocessing import scale_ratings\n",
        "\n",
        "from recsys.datasets import ml100k\n",
        "from recsys.datasets import ml1m\n",
        "\n",
        "import matplotlib.pyplot as plt\n",
        "import pandas as pd\n",
        "import numpy as np\n",
        "\n",
        "import os"
      ],
      "metadata": {
        "id": "zbH4_G5URh-E"
      },
      "execution_count": null,
      "outputs": []
    },
    {
      "cell_type": "markdown",
      "source": [
        "### 3.2.2. Model definition"
      ],
      "metadata": {
        "id": "G-9UItoA0_kC"
      }
    },
    {
      "cell_type": "code",
      "source": [
        "class MatrixFactorization:\n",
        "    \n",
        "    def __init__(self, m, n, k=10, alpha=0.001, lamb=0.01):\n",
        "        \"\"\"\n",
        "        Initialization of the model        \n",
        "        : param\n",
        "            - m : number of users\n",
        "            - n : number of items\n",
        "            - k : length of latent factor, both for users and items. 50 by default\n",
        "            - alpha : learning rate. 0.001 by default\n",
        "            - lamb : regularizer parameter. 0.02 by default\n",
        "        \"\"\"\n",
        "        np.random.seed(32)\n",
        "        \n",
        "        # initialize the latent factor matrices P and Q (of shapes (m,k) and (n,k) respectively) that will be learnt\n",
        "        self.k = k\n",
        "        self.P = np.random.normal(size=(m, k))\n",
        "        self.Q = np.random.normal(size=(n, k))\n",
        "        \n",
        "        # hyperparameter initialization\n",
        "        self.alpha = alpha\n",
        "        self.lamb = lamb\n",
        "        \n",
        "        # training history\n",
        "        self.history = {\n",
        "            \"epochs\":[],\n",
        "            \"loss\":[],\n",
        "            \"val_loss\":[],\n",
        "            \"lr\":[]\n",
        "        }\n",
        "    \n",
        "    def print_training_parameters(self):\n",
        "        print('Training Matrix Factorization Model ...')\n",
        "        print(f'k={self.k} \\t alpha={self.alpha} \\t lambda={self.lamb}')\n",
        "    \n",
        "    def update_rule(self, u, i, error):\n",
        "        self.P[u] = self.P[u] + self.alpha * (error * self.Q[i] - self.lamb * self.P[u])\n",
        "        self.Q[i] = self.Q[i] + self.alpha * (error * self.P[u] - self.lamb * self.Q[i])\n",
        "        \n",
        "    def mae(self,  x_train, y_train):\n",
        "        \"\"\"\n",
        "        returns the Mean Absolute Error\n",
        "        \"\"\"\n",
        "        # number of training exemples\n",
        "        M = x_train.shape[0]\n",
        "        error = 0\n",
        "        for pair, r in zip(x_train, y_train):\n",
        "            u, i = pair\n",
        "            error += abs(r - np.dot(self.P[u], self.Q[i]))\n",
        "        return error/M\n",
        "    \n",
        "    def print_training_progress(self, epoch, epochs, error, val_error, steps=5):\n",
        "        if epoch == 1 or epoch % steps == 0 :\n",
        "                print(\"epoch {}/{} - loss : {} - val_loss : {}\".format(epoch, epochs, round(error,3), round(val_error,3)))\n",
        "                \n",
        "    def learning_rate_schedule(self, epoch, target_epochs = 20):\n",
        "        if (epoch >= target_epochs) and (epoch % target_epochs == 0):\n",
        "                factor = epoch // target_epochs\n",
        "                self.alpha = self.alpha * (1 / (factor * 20))\n",
        "                print(\"\\nLearning Rate : {}\\n\".format(self.alpha))\n",
        "    \n",
        "    def fit(self, x_train, y_train, validation_data, epochs=1000):\n",
        "        \"\"\"\n",
        "        Train latent factors P and Q according to the training set\n",
        "        \n",
        "        :param\n",
        "            - x_train : training pairs (u,i) for which rating r_ui is known\n",
        "            - y_train : set of ratings r_ui for all training pairs (u,i)\n",
        "            - validation_data : tuple (x_test, y_test)\n",
        "            - epochs : number of time to loop over the entire training set. \n",
        "            1000 epochs by default\n",
        "            \n",
        "        Note that u and i are encoded values of userid and itemid\n",
        "        \"\"\"\n",
        "        self.print_training_parameters()\n",
        "        \n",
        "        # validation data\n",
        "        x_test, y_test = validation_data\n",
        "        \n",
        "        # loop over the number of epochs\n",
        "        for epoch in range(1, epochs+1):\n",
        "            \n",
        "            # for each pair (u,i) and the corresponding rating r\n",
        "            for pair, r in zip(x_train, y_train):\n",
        "                \n",
        "                # get encoded values of userid and itemid from pair\n",
        "                u,i = pair\n",
        "                \n",
        "                # compute the predicted rating r_hat\n",
        "                r_hat = np.dot(self.P[u], self.Q[i])\n",
        "                \n",
        "                # compute the prediction error\n",
        "                e = abs(r - r_hat)\n",
        "                \n",
        "                # update rules\n",
        "                self.update_rule(u, i, e)\n",
        "                \n",
        "            # training and validation error  after this epochs\n",
        "            error = self.mae(x_train, y_train)\n",
        "            val_error = self.mae(x_test, y_test)\n",
        "            \n",
        "            # update history\n",
        "            self.history['epochs'].append(epoch)\n",
        "            self.history['loss'].append(error)\n",
        "            self.history['val_loss'].append(val_error)\n",
        "            \n",
        "            # update history\n",
        "            self.update_history(epoch, error, val_error)\n",
        "            \n",
        "            # print training progress after each steps epochs\n",
        "            self.print_training_progress(epoch, epochs, error, val_error, steps=1)\n",
        "              \n",
        "            # leaning rate scheduler : redure the learning rate as we go deeper in the number of epochs\n",
        "            # self.learning_rate_schedule(epoch)\n",
        "        \n",
        "        return self.history\n",
        "    \n",
        "    def update_history(self, epoch, error, val_error):\n",
        "        self.history['epochs'].append(epoch)\n",
        "        self.history['loss'].append(error)\n",
        "        self.history['val_loss'].append(val_error)\n",
        "        self.history['lr'].append(self.alpha)\n",
        "    \n",
        "    def evaluate(self, x_test, y_test):\n",
        "        \"\"\"\n",
        "        compute the global error on the test set        \n",
        "        :param x_test : test pairs (u,i) for which rating r_ui is known\n",
        "        :param y_test : set of ratings r_ui for all test pairs (u,i)\n",
        "        \"\"\"\n",
        "        error = self.mae(x_test, y_test)\n",
        "        print(f\"validation error : {round(error,3)}\")\n",
        "        \n",
        "        return error\n",
        "      \n",
        "    def predict(self, userid, itemid):\n",
        "        \"\"\"\n",
        "        Make rating prediction for a user on an item\n",
        "        :param userid\n",
        "        :param itemid\n",
        "        :return r : predicted rating\n",
        "        \"\"\"\n",
        "        # encode user and item ids to be able to access their latent factors in\n",
        "        # matrices P and Q\n",
        "        u = uencoder.transform([userid])[0]\n",
        "        i = iencoder.transform([itemid])[0]\n",
        "\n",
        "        # rating prediction using encoded ids. Dot product between P_u and Q_i\n",
        "        r = np.dot(self.P[u], self.Q[i])\n",
        "        return r\n",
        "\n",
        "    def recommend(self, userid, N=30):\n",
        "        \"\"\"\n",
        "        make to N recommendations for a given user\n",
        "\n",
        "        :return(top_items,preds) : top N items with the highest predictions \n",
        "        with their corresponding predictions\n",
        "        \"\"\"\n",
        "        # encode the userid\n",
        "        u = uencoder.transform([userid])[0]\n",
        "\n",
        "        # predictions for users userid on all product\n",
        "        predictions = np.dot(self.P[u], self.Q.T)\n",
        "\n",
        "        # get the indices of the top N predictions\n",
        "        top_idx = np.flip(np.argsort(predictions))[:N]\n",
        "\n",
        "        # decode indices to get their corresponding itemids\n",
        "        top_items = iencoder.inverse_transform(top_idx)\n",
        "\n",
        "        # take corresponding predictions for top N indices\n",
        "        preds = predictions[top_idx]\n",
        "\n",
        "        return top_items, preds        "
      ],
      "metadata": {
        "id": "0gF6RlNzRkQ8"
      },
      "execution_count": null,
      "outputs": []
    },
    {
      "cell_type": "code",
      "source": [
        "epochs = 10"
      ],
      "metadata": {
        "id": "RXbtZfeXRroE"
      },
      "execution_count": null,
      "outputs": []
    },
    {
      "cell_type": "markdown",
      "source": [
        "### 3.2.3. MovieLens 100k"
      ],
      "metadata": {
        "id": "5_qyFrSb1G7B"
      }
    },
    {
      "cell_type": "markdown",
      "source": [
        "#### **Evaluation on raw ratings**"
      ],
      "metadata": {
        "id": "LolIHCnV1QS5"
      }
    },
    {
      "cell_type": "code",
      "source": [
        "# load the ml100k dataset\n",
        "ratings, movies = ml100k.load()\n",
        "\n",
        "ratings, uencoder, iencoder = ids_encoder(ratings)\n",
        "\n",
        "m = ratings.userid.nunique()   # total number of users\n",
        "n = ratings.itemid.nunique()   # total number of items\n",
        "\n",
        "# get examples as tuples of userids and itemids and labels from normalize ratings\n",
        "raw_examples, raw_labels = get_examples(ratings)\n",
        "\n",
        "# train test split\n",
        "(x_train, x_test), (y_train, y_test) = train_test_split(examples=raw_examples, labels=raw_labels)"
      ],
      "metadata": {
        "id": "u7niwzFsRwes"
      },
      "execution_count": null,
      "outputs": []
    },
    {
      "cell_type": "code",
      "source": [
        "# create the model\n",
        "MF = MatrixFactorization(m, n, k=10, alpha=0.01, lamb=1.5)\n",
        "\n",
        "# fit the model on the training set\n",
        "history = MF.fit(x_train, y_train, epochs=epochs, validation_data=(x_test, y_test))"
      ],
      "metadata": {
        "colab": {
          "base_uri": "https://localhost:8080/"
        },
        "id": "wTrVELgWSTvy",
        "outputId": "6833342c-9e90-4f7c-f378-ff76444be0d7"
      },
      "execution_count": null,
      "outputs": [
        {
          "output_type": "stream",
          "name": "stdout",
          "text": [
            "Training Matrix Factorization Model ...\n",
            "k=10 \t alpha=0.01 \t lambda=1.5\n",
            "epoch 1/10 - loss : 2.734 - val_loss : 2.779\n",
            "epoch 2/10 - loss : 1.764 - val_loss : 1.794\n",
            "epoch 3/10 - loss : 1.592 - val_loss : 1.614\n",
            "epoch 4/10 - loss : 1.538 - val_loss : 1.556\n",
            "epoch 5/10 - loss : 1.515 - val_loss : 1.531\n",
            "epoch 6/10 - loss : 1.503 - val_loss : 1.517\n",
            "epoch 7/10 - loss : 1.496 - val_loss : 1.509\n",
            "epoch 8/10 - loss : 1.491 - val_loss : 1.504\n",
            "epoch 9/10 - loss : 1.488 - val_loss : 1.5\n",
            "epoch 10/10 - loss : 1.486 - val_loss : 1.497\n"
          ]
        }
      ]
    },
    {
      "cell_type": "code",
      "source": [
        "MF.evaluate(x_test, y_test)"
      ],
      "metadata": {
        "colab": {
          "base_uri": "https://localhost:8080/"
        },
        "id": "kGkNzLlUSbaY",
        "outputId": "6bb8634a-1eb9-4f0a-b44d-0b95ef6b9148"
      },
      "execution_count": null,
      "outputs": [
        {
          "output_type": "stream",
          "name": "stdout",
          "text": [
            "validation error : 1.497\n"
          ]
        },
        {
          "output_type": "execute_result",
          "data": {
            "text/plain": [
              "1.4973507972141993"
            ]
          },
          "metadata": {},
          "execution_count": 198
        }
      ]
    },
    {
      "cell_type": "markdown",
      "source": [
        "If the validation error is 1.497, it means that on average, the model's predictions are off by 1.497 units."
      ],
      "metadata": {
        "id": "K5-sW-w22MZB"
      }
    },
    {
      "cell_type": "markdown",
      "source": [
        "#### **Evaluation on normalized ratings**"
      ],
      "metadata": {
        "id": "j23cJFXj2NEJ"
      }
    },
    {
      "cell_type": "code",
      "source": [
        "# load data\n",
        "ratings, movies = ml100k.load()\n",
        "\n",
        "ratings, uencoder, iencoder = ids_encoder(ratings)\n",
        "\n",
        "m = ratings['userid'].nunique()   # total number of users\n",
        "n = ratings['itemid'].nunique()   # total number of items\n",
        "\n",
        "# normalize ratings by substracting means\n",
        "normalized_column_name = \"norm_rating\"\n",
        "ratings = normalized_ratings(ratings, norm_column=normalized_column_name)\n",
        "\n",
        "# get examples as tuples of userids and itemids and labels from normalize ratings\n",
        "raw_examples, raw_labels = get_examples(ratings, labels_column=normalized_column_name)\n",
        "\n",
        "# train test split\n",
        "(x_train, x_test), (y_train, y_test) = train_test_split(examples=raw_examples, labels=raw_labels)"
      ],
      "metadata": {
        "id": "G_YkHGbJSe71"
      },
      "execution_count": null,
      "outputs": []
    },
    {
      "cell_type": "code",
      "source": [
        "# create the model\n",
        "MF = MatrixFactorization(m, n, k=10, alpha=0.01, lamb=1.5)\n",
        "\n",
        "# fit the model on the training set\n",
        "history = MF.fit(x_train, y_train, epochs=epochs, validation_data=(x_test, y_test))"
      ],
      "metadata": {
        "colab": {
          "base_uri": "https://localhost:8080/"
        },
        "id": "LfpRkwzXShas",
        "outputId": "7d0d0bbc-467f-43e6-bfc7-7b0d7ce2579f"
      },
      "execution_count": null,
      "outputs": [
        {
          "output_type": "stream",
          "name": "stdout",
          "text": [
            "Training Matrix Factorization Model ...\n",
            "k=10 \t alpha=0.01 \t lambda=1.5\n",
            "epoch 1/10 - loss : 0.851 - val_loss : 0.847\n",
            "epoch 2/10 - loss : 0.831 - val_loss : 0.831\n",
            "epoch 3/10 - loss : 0.828 - val_loss : 0.829\n",
            "epoch 4/10 - loss : 0.827 - val_loss : 0.828\n",
            "epoch 5/10 - loss : 0.827 - val_loss : 0.828\n",
            "epoch 6/10 - loss : 0.826 - val_loss : 0.828\n",
            "epoch 7/10 - loss : 0.826 - val_loss : 0.828\n",
            "epoch 8/10 - loss : 0.826 - val_loss : 0.828\n",
            "epoch 9/10 - loss : 0.826 - val_loss : 0.828\n",
            "epoch 10/10 - loss : 0.826 - val_loss : 0.828\n"
          ]
        }
      ]
    },
    {
      "cell_type": "code",
      "source": [
        "MF.evaluate(x_test, y_test)"
      ],
      "metadata": {
        "colab": {
          "base_uri": "https://localhost:8080/"
        },
        "id": "7DcrQRRvSoQc",
        "outputId": "765f8bff-93fc-4499-d700-6ae899fbef05"
      },
      "execution_count": null,
      "outputs": [
        {
          "output_type": "stream",
          "name": "stdout",
          "text": [
            "validation error : 0.828\n"
          ]
        },
        {
          "output_type": "execute_result",
          "data": {
            "text/plain": [
              "0.8276982643684648"
            ]
          },
          "metadata": {},
          "execution_count": 201
        }
      ]
    },
    {
      "cell_type": "markdown",
      "source": [
        "If the validation error is 0.828, it means that on average, the model's predictions are off by 0.828 units."
      ],
      "metadata": {
        "id": "MlmyBtgw2mXF"
      }
    },
    {
      "cell_type": "markdown",
      "source": [
        "### 3.2.4. MovieLens 1M"
      ],
      "metadata": {
        "id": "Mbg6b1U-2tyG"
      }
    },
    {
      "cell_type": "markdown",
      "source": [
        "#### **Evaluation on raw data**"
      ],
      "metadata": {
        "id": "ElZ4xqa92yve"
      }
    },
    {
      "cell_type": "markdown",
      "source": [
        "![Screenshot 2023-01-02 194622.png](data:image/png;base64,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)"
      ],
      "metadata": {
        "id": "CMszTJX-gwzm"
      }
    },
    {
      "cell_type": "markdown",
      "source": [
        "![Screenshot 2023-01-02 195137.png](data:image/png;base64,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)"
      ],
      "metadata": {
        "id": "qq1m5R_XhV33"
      }
    },
    {
      "cell_type": "markdown",
      "source": [
        "![Screenshot 2023-01-02 195251.png](data:image/png;base64,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)"
      ],
      "metadata": {
        "id": "8Fs-JUMDitgb"
      }
    },
    {
      "cell_type": "markdown",
      "source": [
        "If the validation error is 1.482, it means that on average, the model's predictions are off by 1.482 units."
      ],
      "metadata": {
        "id": "adYU0Mhp3_U1"
      }
    },
    {
      "cell_type": "markdown",
      "source": [
        "#### **Evaluation on normalized ratings**"
      ],
      "metadata": {
        "id": "774dljFl4EYB"
      }
    },
    {
      "cell_type": "code",
      "source": [
        "# create the model\n",
        "MF = MatrixFactorization(m, n, k=10, alpha=0.01, lamb=1.5)\n",
        "\n",
        "# fit the model on the training set\n",
        "history = MF.fit(x_train, y_train, epochs=epochs, validation_data=(x_test, y_test))"
      ],
      "metadata": {
        "id": "oVJc8CB74Mfp",
        "colab": {
          "base_uri": "https://localhost:8080/"
        },
        "outputId": "7b44f583-2220-40e0-c22e-87e83a8d453a"
      },
      "execution_count": null,
      "outputs": [
        {
          "output_type": "stream",
          "name": "stdout",
          "text": [
            "Training Matrix Factorization Model ...\n",
            "k=10 \t alpha=0.01 \t lambda=1.5\n",
            "epoch 1/10 - loss : 0.851 - val_loss : 0.847\n",
            "epoch 2/10 - loss : 0.831 - val_loss : 0.831\n",
            "epoch 3/10 - loss : 0.828 - val_loss : 0.829\n",
            "epoch 4/10 - loss : 0.827 - val_loss : 0.828\n",
            "epoch 5/10 - loss : 0.827 - val_loss : 0.828\n",
            "epoch 6/10 - loss : 0.826 - val_loss : 0.828\n",
            "epoch 7/10 - loss : 0.826 - val_loss : 0.828\n",
            "epoch 8/10 - loss : 0.826 - val_loss : 0.828\n",
            "epoch 9/10 - loss : 0.826 - val_loss : 0.828\n",
            "epoch 10/10 - loss : 0.826 - val_loss : 0.828\n"
          ]
        }
      ]
    },
    {
      "cell_type": "code",
      "source": [
        "MF.evaluate(x_test, y_test)"
      ],
      "metadata": {
        "id": "usQ_rd6k5Abt",
        "colab": {
          "base_uri": "https://localhost:8080/"
        },
        "outputId": "e07fe3a9-f6c5-4de9-eaa5-9e78a54b2c77"
      },
      "execution_count": null,
      "outputs": [
        {
          "output_type": "stream",
          "name": "stdout",
          "text": [
            "validation error : 0.828\n"
          ]
        },
        {
          "output_type": "execute_result",
          "data": {
            "text/plain": [
              "0.8276982643684648"
            ]
          },
          "metadata": {},
          "execution_count": 122
        }
      ]
    },
    {
      "cell_type": "markdown",
      "source": [
        "If the validation error is 0.825, it means that on average, the model's predictions are off by 0.825 units."
      ],
      "metadata": {
        "id": "AY7czycI5Dil"
      }
    },
    {
      "cell_type": "markdown",
      "source": [
        "### 3.2.5. Predictions"
      ],
      "metadata": {
        "id": "4TX6Odwi5Oex"
      }
    },
    {
      "cell_type": "markdown",
      "source": [
        "Now that the latent factors $P$ and $Q$, we can use them to make predictions and recommendations. Let's call the ```predict``` function of the ```Matrix Factorization``` class to make prediction for a given.\n",
        "\n",
        "rating prediction for user 1 on item 1 for which the truth rating $r=5.0$"
      ],
      "metadata": {
        "id": "pphYyt105RKp"
      }
    },
    {
      "cell_type": "code",
      "source": [
        "ratings.userid = uencoder.inverse_transform(ratings.userid.to_list())\n",
        "ratings.itemid = uencoder.inverse_transform(ratings.itemid.to_list())\n",
        "ratings.head(5)"
      ],
      "metadata": {
        "colab": {
          "base_uri": "https://localhost:8080/",
          "height": 206
        },
        "id": "XZyMx0175VE5",
        "outputId": "d2d05b00-da3d-4d9e-8491-424e4e22142d"
      },
      "execution_count": null,
      "outputs": [
        {
          "output_type": "execute_result",
          "data": {
            "text/plain": [
              "   userid  itemid  rating  rating_mean  norm_rating\n",
              "0       1       1       5     4.188679     0.811321\n",
              "1       1      48       5     4.188679     0.811321\n",
              "2       1     145       5     4.188679     0.811321\n",
              "3       1     254       4     4.188679    -0.188679\n",
              "4       1     514       5     4.188679     0.811321"
            ],
            "text/html": [
              "\n",
              "  <div id=\"df-1c08efb5-890f-444a-bfaa-e2d061bbdce7\">\n",
              "    <div class=\"colab-df-container\">\n",
              "      <div>\n",
              "<style scoped>\n",
              "    .dataframe tbody tr th:only-of-type {\n",
              "        vertical-align: middle;\n",
              "    }\n",
              "\n",
              "    .dataframe tbody tr th {\n",
              "        vertical-align: top;\n",
              "    }\n",
              "\n",
              "    .dataframe thead th {\n",
              "        text-align: right;\n",
              "    }\n",
              "</style>\n",
              "<table border=\"1\" class=\"dataframe\">\n",
              "  <thead>\n",
              "    <tr style=\"text-align: right;\">\n",
              "      <th></th>\n",
              "      <th>userid</th>\n",
              "      <th>itemid</th>\n",
              "      <th>rating</th>\n",
              "      <th>rating_mean</th>\n",
              "      <th>norm_rating</th>\n",
              "    </tr>\n",
              "  </thead>\n",
              "  <tbody>\n",
              "    <tr>\n",
              "      <th>0</th>\n",
              "      <td>1</td>\n",
              "      <td>1</td>\n",
              "      <td>5</td>\n",
              "      <td>4.188679</td>\n",
              "      <td>0.811321</td>\n",
              "    </tr>\n",
              "    <tr>\n",
              "      <th>1</th>\n",
              "      <td>1</td>\n",
              "      <td>48</td>\n",
              "      <td>5</td>\n",
              "      <td>4.188679</td>\n",
              "      <td>0.811321</td>\n",
              "    </tr>\n",
              "    <tr>\n",
              "      <th>2</th>\n",
              "      <td>1</td>\n",
              "      <td>145</td>\n",
              "      <td>5</td>\n",
              "      <td>4.188679</td>\n",
              "      <td>0.811321</td>\n",
              "    </tr>\n",
              "    <tr>\n",
              "      <th>3</th>\n",
              "      <td>1</td>\n",
              "      <td>254</td>\n",
              "      <td>4</td>\n",
              "      <td>4.188679</td>\n",
              "      <td>-0.188679</td>\n",
              "    </tr>\n",
              "    <tr>\n",
              "      <th>4</th>\n",
              "      <td>1</td>\n",
              "      <td>514</td>\n",
              "      <td>5</td>\n",
              "      <td>4.188679</td>\n",
              "      <td>0.811321</td>\n",
              "    </tr>\n",
              "  </tbody>\n",
              "</table>\n",
              "</div>\n",
              "      <button class=\"colab-df-convert\" onclick=\"convertToInteractive('df-1c08efb5-890f-444a-bfaa-e2d061bbdce7')\"\n",
              "              title=\"Convert this dataframe to an interactive table.\"\n",
              "              style=\"display:none;\">\n",
              "        \n",
              "  <svg xmlns=\"http://www.w3.org/2000/svg\" height=\"24px\"viewBox=\"0 0 24 24\"\n",
              "       width=\"24px\">\n",
              "    <path d=\"M0 0h24v24H0V0z\" fill=\"none\"/>\n",
              "    <path d=\"M18.56 5.44l.94 2.06.94-2.06 2.06-.94-2.06-.94-.94-2.06-.94 2.06-2.06.94zm-11 1L8.5 8.5l.94-2.06 2.06-.94-2.06-.94L8.5 2.5l-.94 2.06-2.06.94zm10 10l.94 2.06.94-2.06 2.06-.94-2.06-.94-.94-2.06-.94 2.06-2.06.94z\"/><path d=\"M17.41 7.96l-1.37-1.37c-.4-.4-.92-.59-1.43-.59-.52 0-1.04.2-1.43.59L10.3 9.45l-7.72 7.72c-.78.78-.78 2.05 0 2.83L4 21.41c.39.39.9.59 1.41.59.51 0 1.02-.2 1.41-.59l7.78-7.78 2.81-2.81c.8-.78.8-2.07 0-2.86zM5.41 20L4 18.59l7.72-7.72 1.47 1.35L5.41 20z\"/>\n",
              "  </svg>\n",
              "      </button>\n",
              "      \n",
              "  <style>\n",
              "    .colab-df-container {\n",
              "      display:flex;\n",
              "      flex-wrap:wrap;\n",
              "      gap: 12px;\n",
              "    }\n",
              "\n",
              "    .colab-df-convert {\n",
              "      background-color: #E8F0FE;\n",
              "      border: none;\n",
              "      border-radius: 50%;\n",
              "      cursor: pointer;\n",
              "      display: none;\n",
              "      fill: #1967D2;\n",
              "      height: 32px;\n",
              "      padding: 0 0 0 0;\n",
              "      width: 32px;\n",
              "    }\n",
              "\n",
              "    .colab-df-convert:hover {\n",
              "      background-color: #E2EBFA;\n",
              "      box-shadow: 0px 1px 2px rgba(60, 64, 67, 0.3), 0px 1px 3px 1px rgba(60, 64, 67, 0.15);\n",
              "      fill: #174EA6;\n",
              "    }\n",
              "\n",
              "    [theme=dark] .colab-df-convert {\n",
              "      background-color: #3B4455;\n",
              "      fill: #D2E3FC;\n",
              "    }\n",
              "\n",
              "    [theme=dark] .colab-df-convert:hover {\n",
              "      background-color: #434B5C;\n",
              "      box-shadow: 0px 1px 3px 1px rgba(0, 0, 0, 0.15);\n",
              "      filter: drop-shadow(0px 1px 2px rgba(0, 0, 0, 0.3));\n",
              "      fill: #FFFFFF;\n",
              "    }\n",
              "  </style>\n",
              "\n",
              "      <script>\n",
              "        const buttonEl =\n",
              "          document.querySelector('#df-1c08efb5-890f-444a-bfaa-e2d061bbdce7 button.colab-df-convert');\n",
              "        buttonEl.style.display =\n",
              "          google.colab.kernel.accessAllowed ? 'block' : 'none';\n",
              "\n",
              "        async function convertToInteractive(key) {\n",
              "          const element = document.querySelector('#df-1c08efb5-890f-444a-bfaa-e2d061bbdce7');\n",
              "          const dataTable =\n",
              "            await google.colab.kernel.invokeFunction('convertToInteractive',\n",
              "                                                     [key], {});\n",
              "          if (!dataTable) return;\n",
              "\n",
              "          const docLinkHtml = 'Like what you see? Visit the ' +\n",
              "            '<a target=\"_blank\" href=https://colab.research.google.com/notebooks/data_table.ipynb>data table notebook</a>'\n",
              "            + ' to learn more about interactive tables.';\n",
              "          element.innerHTML = '';\n",
              "          dataTable['output_type'] = 'display_data';\n",
              "          await google.colab.output.renderOutput(dataTable, element);\n",
              "          const docLink = document.createElement('div');\n",
              "          docLink.innerHTML = docLinkHtml;\n",
              "          element.appendChild(docLink);\n",
              "        }\n",
              "      </script>\n",
              "    </div>\n",
              "  </div>\n",
              "  "
            ]
          },
          "metadata": {},
          "execution_count": 36
        }
      ]
    },
    {
      "cell_type": "code",
      "source": [
        "4.188679 + MF.predict(userid=1, itemid=1) # add the mean because we have used the normalised ratings for training"
      ],
      "metadata": {
        "colab": {
          "base_uri": "https://localhost:8080/"
        },
        "id": "gGxC3NNG5hBq",
        "outputId": "5c277e9e-52db-4d43-b883-cd1134bf95de"
      },
      "execution_count": null,
      "outputs": [
        {
          "output_type": "execute_result",
          "data": {
            "text/plain": [
              "4.188679163563357"
            ]
          },
          "metadata": {},
          "execution_count": 37
        }
      ]
    },
    {
      "cell_type": "markdown",
      "source": [
        "So, our rating prediction for user 1 on item 1 for which the truth rating $r=5.0$ is 4.2"
      ],
      "metadata": {
        "id": "h4mKX_q-5icb"
      }
    },
    {
      "cell_type": "markdown",
      "source": [
        "## Section 3.3: Non-negative Matrix Factorization for Recommendations"
      ],
      "metadata": {
        "id": "EgDpJ7sq5ycU"
      }
    },
    {
      "cell_type": "markdown",
      "source": [
        "Jusl like Matrix Factorization (MF) [(Yehuda Koren et al., 2009)](https://ieeexplore.ieee.org/document/5197422), Non-negative Matrix Factorization (NMF in short) factors the rating matrix $R$ in two matrices in such a way that $R = PQ^{\\top}$.\n",
        "\n",
        "**One limitation of Matrix Factorization**\n",
        "\n",
        "$P$ and $Q$ values in MF are non interpretable since their components can take arbitrary (positive and negative) values.\n",
        "\n",
        "**Particulariy of Non-negative Matrix Factorization**\n",
        "\n",
        "NMF [(Lee and Seung, 1999)](http://www.dm.unibo.it/~simoncin/nmfconverge.pdf) allows the reconstruction of $P$ and $Q$ in such a way that $P,Q \\ge 0$. Constraining $P$ and $Q$ values to be taken from $[0,1]$ allows  a probabilistic interpretation\n",
        "\n",
        "- Latent factors represent groups of users who share the same tastes,\n",
        "- The value  $P_{u,l}$  represents the probability that user $u$ belongs to the group $l$ of users and \n",
        "- The value $Q_{l,i}$ represents the probability that users in the group $l$  likes item $i$.\n",
        "\n",
        "**Objective function**\n",
        "\n",
        "With the Euclidian distance, the NMF objective function is defined by\n",
        "\n",
        "\\begin{equation}\n",
        "J = \\frac{1}{2}\\sum_{(u,i) \\in \\kappa}||R_{u,i} - P_uQ_i^{\\top}||^2 + \\lambda_P||P_u||^2 + \\lambda_Q||Q_i||^2\n",
        "\\end{equation}\n",
        "\n",
        "The goal is to minimize the cost function $J$ by optimizing parameters $P$ and $Q$, with $\\lambda_P$ and $\\lambda_Q$ the regularizer parameters."
      ],
      "metadata": {
        "id": "rRaz_bLA52g9"
      }
    },
    {
      "cell_type": "markdown",
      "source": [
        "### 3.3.1. First we prepare the tool that we will use it."
      ],
      "metadata": {
        "id": "rBZ_TsnW_pm1"
      }
    },
    {
      "cell_type": "markdown",
      "source": [
        "Install and import useful packages"
      ],
      "metadata": {
        "id": "lGqCZZPb_qO1"
      }
    },
    {
      "cell_type": "code",
      "source": [
        "import os\n",
        "\n",
        "if not (os.path.exists(\"recsys.zip\") or os.path.exists(\"recsys\")):\n",
        "    !wget https://github.com/nzhinusoftcm/review-on-collaborative-filtering/raw/master/recsys.zip    \n",
        "    !unzip recsys.zip"
      ],
      "metadata": {
        "id": "pBuXEsl5_th1"
      },
      "execution_count": null,
      "outputs": []
    },
    {
      "cell_type": "code",
      "source": [
        "from recsys.preprocessing import mean_ratings\n",
        "from recsys.preprocessing import normalized_ratings\n",
        "from recsys.preprocessing import ids_encoder\n",
        "from recsys.preprocessing import train_test_split\n",
        "from recsys.preprocessing import rating_matrix\n",
        "from recsys.preprocessing import get_examples\n",
        "from recsys.preprocessing import scale_ratings\n",
        "\n",
        "from recsys.datasets import ml1m\n",
        "from recsys.datasets import ml100k\n",
        "\n",
        "import matplotlib.pyplot as plt\n",
        "import pandas as pd\n",
        "import numpy as np\n",
        "\n",
        "import os"
      ],
      "metadata": {
        "id": "6fcHhcp6_wi1"
      },
      "execution_count": null,
      "outputs": []
    },
    {
      "cell_type": "markdown",
      "source": [
        " Load and preprocess rating"
      ],
      "metadata": {
        "id": "9iHhUkOm_3EE"
      }
    },
    {
      "cell_type": "code",
      "source": [
        "# load data\n",
        "ratings, movies = ml100k.load()\n",
        "\n",
        "# prepare data\n",
        "ratings, uencoder, iencoder = ids_encoder(ratings)\n",
        "\n",
        "# convert ratings from dataframe to numpy array\n",
        "np_ratings = ratings.to_numpy()\n",
        "\n",
        "# get examples as tuples of userids and itemids and labels from normalize ratings\n",
        "raw_examples, raw_labels = get_examples(ratings, labels_column=\"rating\")\n",
        "\n",
        "# train test split\n",
        "(x_train, x_test), (y_train, y_test) = train_test_split(examples=raw_examples, labels=raw_labels)"
      ],
      "metadata": {
        "id": "A0NyPAsN_5Rd"
      },
      "execution_count": null,
      "outputs": []
    },
    {
      "cell_type": "markdown",
      "source": [
        "### 3.3.2. Non-negative Matrix Factorization Model"
      ],
      "metadata": {
        "id": "D8T9zwGh_-VB"
      }
    },
    {
      "cell_type": "code",
      "source": [
        "class NMF:\n",
        "    \n",
        "    def __init__(self, ratings, m, n, uencoder, iencoder, K=10, lambda_P=0.01, lambda_Q=0.01):\n",
        "        \n",
        "        np.random.seed(32)\n",
        "        \n",
        "        # initialize the latent factor matrices P and Q (of shapes (m,k) and (n,k) respectively) that will be learnt\n",
        "        self.ratings = ratings\n",
        "        self.np_ratings = ratings.to_numpy()\n",
        "        self.K = K\n",
        "        self.P = np.random.rand(m, K)\n",
        "        self.Q = np.random.rand(n, K)\n",
        "        \n",
        "        # hyper parameter initialization\n",
        "        self.lambda_P = lambda_P\n",
        "        self.lambda_Q = lambda_Q\n",
        "\n",
        "        # initialize encoders\n",
        "        self.uencoder = uencoder\n",
        "        self.iencoder = iencoder\n",
        "        \n",
        "        # training history\n",
        "        self.history = {\n",
        "            \"epochs\": [],\n",
        "            \"loss\": [],\n",
        "            \"val_loss\": [],\n",
        "        }\n",
        "    \n",
        "    def print_training_parameters(self):\n",
        "        print('Training NMF ...')\n",
        "        print(f'k={self.K}')\n",
        "        \n",
        "    def mae(self, x_train, y_train):\n",
        "        \"\"\"\n",
        "        returns the Mean Absolute Error\n",
        "        \"\"\"\n",
        "        # number of training examples\n",
        "        m = x_train.shape[0]\n",
        "        error = 0\n",
        "        for pair, r in zip(x_train, y_train):\n",
        "            u, i = pair\n",
        "            error += abs(r - np.dot(self.P[u], self.Q[i]))\n",
        "        return error / m\n",
        "    \n",
        "    def update_rule(self, u, i, error):\n",
        "        I = self.np_ratings[self.np_ratings[:, 0] == u][:, [1, 2]]\n",
        "        U = self.np_ratings[self.np_ratings[:, 1] == i][:, [0, 2]]    \n",
        "                    \n",
        "        num = self.P[u] * np.dot(self.Q[I[:, 0]].T, I[:, 1])\n",
        "        dem = np.dot(self.Q[I[:, 0]].T, np.dot(self.P[u], self.Q[I[:, 0]].T)) + self.lambda_P * len(I) * self.P[u]\n",
        "        self.P[u] = num / dem\n",
        "\n",
        "        num = self.Q[i] * np.dot(self.P[U[:, 0]].T, U[:, 1])\n",
        "        dem = np.dot(self.P[U[:, 0]].T, np.dot(self.P[U[:, 0]], self.Q[i].T)) + self.lambda_Q * len(U) * self.Q[i]\n",
        "        self.Q[i] = num / dem\n",
        "    \n",
        "    @staticmethod\n",
        "    def print_training_progress(epoch, epochs, error, val_error, steps=5):\n",
        "        if epoch == 1 or epoch % steps == 0:\n",
        "            print(f\"epoch {epoch}/{epochs} - loss : {round(error, 3)} - val_loss : {round(val_error, 3)}\")\n",
        "                \n",
        "    def fit(self, x_train, y_train, validation_data, epochs=10):\n",
        "\n",
        "        self.print_training_parameters()\n",
        "        x_test, y_test = validation_data\n",
        "        for epoch in range(1, epochs+1):\n",
        "            for pair, r in zip(x_train, y_train):\n",
        "                u, i = pair\n",
        "                r_hat = np.dot(self.P[u], self.Q[i])\n",
        "                e = abs(r - r_hat)\n",
        "                self.update_rule(u, i, e)                \n",
        "            # training and validation error  after this epochs\n",
        "            error = self.mae(x_train, y_train)\n",
        "            val_error = self.mae(x_test, y_test)\n",
        "            self.update_history(epoch, error, val_error)\n",
        "            self.print_training_progress(epoch, epochs, error, val_error, steps=1)\n",
        "        \n",
        "        return self.history\n",
        "    \n",
        "    def update_history(self, epoch, error, val_error):\n",
        "        self.history['epochs'].append(epoch)\n",
        "        self.history['loss'].append(error)\n",
        "        self.history['val_loss'].append(val_error)\n",
        "    \n",
        "    def evaluate(self, x_test, y_test):        \n",
        "        error = self.mae(x_test, y_test)\n",
        "        print(f\"validation error : {round(error,3)}\")\n",
        "        print('MAE : ', error)        \n",
        "        return error\n",
        "      \n",
        "    def predict(self, userid, itemid):\n",
        "        u = self.uencoder.transform([userid])[0]\n",
        "        i = self.iencoder.transform([itemid])[0]\n",
        "        r = np.dot(self.P[u], self.Q[i])\n",
        "        return r\n",
        "\n",
        "    def recommend(self, userid, N=30):\n",
        "        # encode the userid\n",
        "        u = self.uencoder.transform([userid])[0]\n",
        "\n",
        "        # predictions for users userid on all product\n",
        "        predictions = np.dot(self.P[u], self.Q.T)\n",
        "\n",
        "        # get the indices of the top N predictions\n",
        "        top_idx = np.flip(np.argsort(predictions))[:N]\n",
        "\n",
        "        # decode indices to get their corresponding itemids\n",
        "        top_items = self.iencoder.inverse_transform(top_idx)\n",
        "\n",
        "        # take corresponding predictions for top N indices\n",
        "        preds = predictions[top_idx]\n",
        "\n",
        "        return top_items, preds\n"
      ],
      "metadata": {
        "id": "N791ILH4ABlZ"
      },
      "execution_count": null,
      "outputs": []
    },
    {
      "cell_type": "markdown",
      "source": [
        "### 3.3.3. Train the NMF model with ML-100K dataset"
      ],
      "metadata": {
        "id": "au0PyW3_AFYg"
      }
    },
    {
      "cell_type": "markdown",
      "source": [
        "model parameters :\n",
        "\n",
        "- $k = 10$ : (number of factors)\n",
        "- $\\lambda_P = 0.6$\n",
        "- $\\lambda_Q = 0.6$\n",
        "- epochs = 10\n",
        "\n",
        "Note that it may take some time to complete the training on 10 epochs (around 7 minutes)."
      ],
      "metadata": {
        "id": "UuKqvJHUALOY"
      }
    },
    {
      "cell_type": "code",
      "source": [
        "m = ratings['userid'].nunique()   # total number of users\n",
        "n = ratings['itemid'].nunique()   # total number of items\n",
        "\n",
        "# create and train the model\n",
        "nmf = NMF(ratings, m, n, uencoder, iencoder, K=10, lambda_P=0.6, lambda_Q=0.6)\n",
        "history = nmf.fit(x_train, y_train, epochs=10, validation_data=(x_test, y_test))"
      ],
      "metadata": {
        "colab": {
          "base_uri": "https://localhost:8080/"
        },
        "id": "4gfLvF-KAL7B",
        "outputId": "4a2f94e6-5df9-4104-89f2-9c80f6593407"
      },
      "execution_count": null,
      "outputs": [
        {
          "output_type": "stream",
          "name": "stdout",
          "text": [
            "Training NMF ...\n",
            "k=10\n",
            "epoch 1/10 - loss : 0.916 - val_loss : 0.917\n",
            "epoch 2/10 - loss : 0.915 - val_loss : 0.917\n",
            "epoch 3/10 - loss : 0.915 - val_loss : 0.917\n",
            "epoch 4/10 - loss : 0.915 - val_loss : 0.917\n",
            "epoch 5/10 - loss : 0.915 - val_loss : 0.917\n",
            "epoch 6/10 - loss : 0.915 - val_loss : 0.917\n",
            "epoch 7/10 - loss : 0.915 - val_loss : 0.917\n",
            "epoch 8/10 - loss : 0.915 - val_loss : 0.917\n",
            "epoch 9/10 - loss : 0.915 - val_loss : 0.917\n",
            "epoch 10/10 - loss : 0.915 - val_loss : 0.917\n"
          ]
        }
      ]
    },
    {
      "cell_type": "code",
      "source": [
        "nmf.evaluate(x_test, y_test)"
      ],
      "metadata": {
        "colab": {
          "base_uri": "https://localhost:8080/"
        },
        "id": "b38RQFVgC0ZM",
        "outputId": "18a1efed-220e-4e8a-d6de-cac1c01f449f"
      },
      "execution_count": null,
      "outputs": [
        {
          "output_type": "stream",
          "name": "stdout",
          "text": [
            "validation error : 0.917\n",
            "MAE :  0.9165041343019539\n"
          ]
        },
        {
          "output_type": "execute_result",
          "data": {
            "text/plain": [
              "0.9165041343019539"
            ]
          },
          "metadata": {},
          "execution_count": 43
        }
      ]
    },
    {
      "cell_type": "markdown",
      "source": [
        "If the validation error is 0.917, it means that on average, the model's predictions are off by 0.917 units."
      ],
      "metadata": {
        "id": "vUiqSqh6C3hc"
      }
    },
    {
      "cell_type": "markdown",
      "source": [
        "### 3.3.4. Evaluation of NMF with Scikit-suprise"
      ],
      "metadata": {
        "id": "3Kx1eHF4C-m8"
      }
    },
    {
      "cell_type": "markdown",
      "source": [
        "We can use the [scikt-suprise](https://surprise.readthedocs.io/en/stable/) package to train the NMF model. It  is an easy-to-use Python scikit for recommender systems.\n",
        "\n",
        "1. Import the NMF class from the suprise scikit.\n",
        "2. Load the data with the built-in function\n",
        "3. Instanciate NMF with ```k=10``` (```n_factors```) and we use 10 epochs (```n_epochs```)\n",
        "4. Evaluate the model using cross-validation with 5 folds."
      ],
      "metadata": {
        "id": "-i85Ct6FDAVE"
      }
    },
    {
      "cell_type": "code",
      "source": [
        "!pip install scikit-surprise"
      ],
      "metadata": {
        "colab": {
          "base_uri": "https://localhost:8080/"
        },
        "id": "v12IJCHnEDYM",
        "outputId": "24a961a6-ad78-483e-dd2b-c64678ec0872"
      },
      "execution_count": null,
      "outputs": [
        {
          "output_type": "stream",
          "name": "stdout",
          "text": [
            "Looking in indexes: https://pypi.org/simple, https://us-python.pkg.dev/colab-wheels/public/simple/\n",
            "Collecting scikit-surprise\n",
            "  Downloading scikit-surprise-1.1.3.tar.gz (771 kB)\n",
            "\u001b[K     |████████████████████████████████| 771 kB 5.2 MB/s \n",
            "\u001b[?25hRequirement already satisfied: joblib>=1.0.0 in /usr/local/lib/python3.8/dist-packages (from scikit-surprise) (1.2.0)\n",
            "Requirement already satisfied: numpy>=1.17.3 in /usr/local/lib/python3.8/dist-packages (from scikit-surprise) (1.21.6)\n",
            "Requirement already satisfied: scipy>=1.3.2 in /usr/local/lib/python3.8/dist-packages (from scikit-surprise) (1.7.3)\n",
            "Building wheels for collected packages: scikit-surprise\n",
            "  Building wheel for scikit-surprise (setup.py) ... \u001b[?25l\u001b[?25hdone\n",
            "  Created wheel for scikit-surprise: filename=scikit_surprise-1.1.3-cp38-cp38-linux_x86_64.whl size=2626504 sha256=230ddf5c84c5a5c3d4b7d4f9d1c141b5d50659a9e6ec11c914f7b185b105134f\n",
            "  Stored in directory: /root/.cache/pip/wheels/af/db/86/2c18183a80ba05da35bf0fb7417aac5cddbd93bcb1b92fd3ea\n",
            "Successfully built scikit-surprise\n",
            "Installing collected packages: scikit-surprise\n",
            "Successfully installed scikit-surprise-1.1.3\n"
          ]
        }
      ]
    },
    {
      "cell_type": "code",
      "source": [
        "from surprise import NMF\n",
        "from surprise import Dataset\n",
        "from surprise.model_selection import cross_validate\n",
        "\n",
        "# Load the movielens-100k dataset (download it if needed).\n",
        "data = Dataset.load_builtin('ml-100k')\n",
        "\n",
        "# Use the NMF algorithm.\n",
        "nmf = NMF(n_factors=10, n_epochs=10)\n",
        "\n",
        "# Run 5-fold cross-validation and print results.\n",
        "history = cross_validate(nmf, data, measures=['MAE'], cv=5, verbose=True)"
      ],
      "metadata": {
        "colab": {
          "base_uri": "https://localhost:8080/"
        },
        "id": "C1vtvVlxDC48",
        "outputId": "955a436a-81a8-475b-e38d-fb5e4b97fe8a"
      },
      "execution_count": null,
      "outputs": [
        {
          "output_type": "stream",
          "name": "stdout",
          "text": [
            "Evaluating MAE of algorithm NMF on 5 split(s).\n",
            "\n",
            "                  Fold 1  Fold 2  Fold 3  Fold 4  Fold 5  Mean    Std     \n",
            "MAE (testset)     0.9584  0.9640  0.9456  0.9566  0.9481  0.9545  0.0068  \n",
            "Fit time          0.50    0.48    0.49    0.49    0.50    0.49    0.01    \n",
            "Test time         0.34    0.24    0.23    0.15    0.23    0.24    0.06    \n"
          ]
        }
      ]
    },
    {
      "cell_type": "markdown",
      "source": [
        "As result, the mean MAE on the test set in Folder 5 is **MAE = 0.9481** which is equivalent to the result we have obtained on *ml-100k* with our own implementation **mae = 0.9165**"
      ],
      "metadata": {
        "id": "yFPItUj2Egt4"
      }
    },
    {
      "cell_type": "markdown",
      "source": [
        "#### **ML-1M**\n"
      ],
      "metadata": {
        "id": "g4g5rwc0Ejr4"
      }
    },
    {
      "cell_type": "code",
      "source": [
        "data = Dataset.load_builtin('ml-1m')\n",
        "nmf = NMF(n_factors=10, n_epochs=10)\n",
        "history = cross_validate(nmf, data, measures=['MAE'], cv=5, verbose=True)"
      ],
      "metadata": {
        "colab": {
          "base_uri": "https://localhost:8080/"
        },
        "id": "B7765VWsE7Uc",
        "outputId": "99a04363-98b6-493e-d1d0-676517e65d4d"
      },
      "execution_count": null,
      "outputs": [
        {
          "output_type": "stream",
          "name": "stdout",
          "text": [
            "Dataset ml-1m could not be found. Do you want to download it? [Y/n] y\n",
            "Trying to download dataset from https://files.grouplens.org/datasets/movielens/ml-1m.zip...\n",
            "Done! Dataset ml-1m has been saved to /root/.surprise_data/ml-1m\n",
            "Evaluating MAE of algorithm NMF on 5 split(s).\n",
            "\n",
            "                  Fold 1  Fold 2  Fold 3  Fold 4  Fold 5  Mean    Std     \n",
            "MAE (testset)     0.9553  0.9546  0.9598  0.9582  0.9546  0.9565  0.0021  \n",
            "Fit time          3.88    4.13    4.40    4.26    4.36    4.21    0.19    \n",
            "Test time         2.61    2.39    2.84    2.13    2.73    2.54    0.25    \n"
          ]
        }
      ]
    },
    {
      "cell_type": "markdown",
      "source": [
        "The mean MAE on a 5-fold cross-validation is **MAE = 0.9546**\n"
      ],
      "metadata": {
        "id": "LzNylOdAFc1N"
      }
    },
    {
      "cell_type": "markdown",
      "source": [
        "## Section 3.4: Explainable Matrix Factorization (EMF)"
      ],
      "metadata": {
        "id": "ID2yrxbPF-xZ"
      }
    },
    {
      "cell_type": "markdown",
      "source": [
        "How to quantify explainability ?\n",
        "\n",
        "- Use the rating distribution within the active user’s neighborhood. \n",
        "- If many neighbors have rated the recommended item, then this can provide a basis upon which to explain the recommendations, using neighborhood style explanation mechanisms"
      ],
      "metadata": {
        "id": "yvtsIjVHGQJs"
      }
    },
    {
      "cell_type": "markdown",
      "source": [
        "By including explainability weight in the training algorithm, the new objective function, to be minimized over the set of known ratings, has been formulated by [(Abdollahi and Nasraoui, 2016)](https://www.researchgate.net/publication/301616080_Explainable_Matrix_Factorization_for_Collaborative_Filtering) as:\n",
        "\n",
        "\\begin{equation}\n",
        " J = \\sum_{(u,i)\\in \\kappa} (R_{ui} - \\hat{R}_{ui})^2 +\\frac{\\beta}{2}(||P_u||^2 + ||Q_i||^2) + \\frac{\\lambda}{2}(P_u-Q_i)^2W_{ui},\n",
        "\\end{equation}\n",
        "\n",
        "here, $\\frac{\\beta}{2}(||P_u||^2 + ||Q_i||^2)$ is the $L_2$ regularization term weighted by the coefficient $\\beta$, and $\\lambda$ is an explainability regularization coefficient that controls the smoothness of the new representation and tradeoff between explainability and accuracy. The idea here is that if item $i$ is explainable for user $u$, then their representations in the latent space, $Q_i$ and $P_u$, should be close to each other. Stochastic Gradient descent can be used to optimize the objectve function.\n",
        "\n",
        "\\begin{equation}\n",
        "P_u \\leftarrow P_u + \\alpha\\left(2(R_{u,i}-P_uQ_i^{\\top})Q_i - \\beta P_u - \\lambda(P_u-Q_i)W_{ui}\\right)\n",
        "\\end{equation}\n",
        "\\begin{equation}\n",
        "Q_i \\leftarrow Q_i + \\alpha\\left(2(R_{u,i}-P_uQ_i^{\\top})P_u - \\beta Q_i + \\lambda(P_u-Q_i)W_{ui}\\right)\n",
        "\\end{equation}"
      ],
      "metadata": {
        "id": "kzSdkNWRHEEp"
      }
    },
    {
      "cell_type": "markdown",
      "source": [
        "### 3.4.1. First we prepare the tool that we will use it."
      ],
      "metadata": {
        "id": "KrElkiReHLJp"
      }
    },
    {
      "cell_type": "code",
      "source": [
        "import os\n",
        "\n",
        "if not (os.path.exists(\"recsys.zip\") or os.path.exists(\"recsys\")):\n",
        "    !wget https://github.com/nzhinusoftcm/review-on-collaborative-filtering/raw/master/recsys.zip    \n",
        "    !unzip recsys.zip"
      ],
      "metadata": {
        "id": "DJHBPkd6HVN-"
      },
      "execution_count": null,
      "outputs": []
    },
    {
      "cell_type": "code",
      "source": [
        "from recsys.memories.UserToUser import UserToUser\n",
        "\n",
        "from recsys.preprocessing import mean_ratings\n",
        "from recsys.preprocessing import normalized_ratings\n",
        "from recsys.preprocessing import ids_encoder\n",
        "from recsys.preprocessing import train_test_split\n",
        "from recsys.preprocessing import rating_matrix\n",
        "from recsys.preprocessing import get_examples\n",
        "\n",
        "from recsys.datasets import ml100k, ml1m\n",
        "\n",
        "import matplotlib.pyplot as plt\n",
        "import pandas as pd\n",
        "import numpy as np\n",
        "\n",
        "import sys\n",
        "import os"
      ],
      "metadata": {
        "id": "7lP6T864HYF9"
      },
      "execution_count": null,
      "outputs": []
    },
    {
      "cell_type": "markdown",
      "source": [
        "### 3.4.2. Compute Explainable Scores"
      ],
      "metadata": {
        "id": "rFdkDP-OHdgl"
      }
    },
    {
      "cell_type": "markdown",
      "source": [
        "Explainable score are computed using neighborhood based similarities. Here, we are using the user based algorithme to compute similarities."
      ],
      "metadata": {
        "id": "UqbTXsVqHeuB"
      }
    },
    {
      "cell_type": "code",
      "source": [
        "def explainable_score(user2user, users, items, theta=0):\n",
        "    \n",
        "    def _progress(count):\n",
        "        sys.stdout.write('\\rCompute Explainable score. Progress status : %.1f%%'%(float(count/len(users))*100.0))\n",
        "        sys.stdout.flush()\n",
        "    # initialize explainable score to zeros\n",
        "    W = np.zeros((len(users), len(items)))\n",
        "\n",
        "    for count, u in enumerate(users):            \n",
        "        candidate_items = user2user.find_user_candidate_items(u)        \n",
        "        for i in candidate_items:                \n",
        "            user_who_rated_i, similar_user_who_rated_i = \\\n",
        "                user2user.similar_users_who_rated_this_item(u, i)\n",
        "            if user_who_rated_i.shape[0] == 0:\n",
        "                w = 0.0\n",
        "            else:\n",
        "                w = similar_user_who_rated_i.shape[0] / user_who_rated_i.shape[0]\n",
        "            W[u,i] =  w  if w > theta else 0.0\n",
        "        _progress(count)\n",
        "    return W"
      ],
      "metadata": {
        "id": "IHMMaVqNHhn1"
      },
      "execution_count": null,
      "outputs": []
    },
    {
      "cell_type": "markdown",
      "source": [
        "### 3.4.3. Explainable Matrix Factorization Model"
      ],
      "metadata": {
        "id": "NPN63ierHqxd"
      }
    },
    {
      "cell_type": "code",
      "source": [
        "class ExplainableMatrixFactorization:\n",
        "    \n",
        "    def __init__(self, m, n, W, alpha=0.001, beta=0.01, lamb=0.1, k=10):\n",
        "        \"\"\"\n",
        "            - R : Rating matrix of shape (m,n) \n",
        "            - W : Explainability Weights of shape (m,n)\n",
        "            - k : number of latent factors\n",
        "            - beta : L2 regularization parameter\n",
        "            - lamb : explainability regularization coefficient\n",
        "            - theta : threshold above which an item is explainable for a user\n",
        "        \"\"\"\n",
        "        self.W = W\n",
        "        self.m = m\n",
        "        self.n = n\n",
        "        \n",
        "        np.random.seed(64)\n",
        "        \n",
        "        # initialize the latent factor matrices P and Q (of shapes (m,k) and (n,k) respectively) that will be learnt\n",
        "        self.k = k\n",
        "        self.P = np.random.normal(size=(self.m,k))\n",
        "        self.Q = np.random.normal(size=(self.n,k))\n",
        "        \n",
        "        # hyperparameter initialization\n",
        "        self.alpha = alpha\n",
        "        self.beta = beta\n",
        "        self.lamb = lamb\n",
        "        \n",
        "        # training history\n",
        "        self.history = {\n",
        "            \"epochs\":[],\n",
        "            \"loss\":[],\n",
        "            \"val_loss\":[],\n",
        "        }\n",
        "        \n",
        "    def print_training_parameters(self):\n",
        "        print('Training EMF')\n",
        "        print(f'k={self.k} \\t alpha={self.alpha} \\t beta={self.beta} \\t lambda={self.lamb}')\n",
        "        \n",
        "    def update_rule(self, u, i, error):\n",
        "        self.P[u] = self.P[u] + \\\n",
        "            self.alpha*(2 * error*self.Q[i] - self.beta*self.P[u] - self.lamb*(self.P[u] - self.Q[i]) * self.W[u,i])\n",
        "        \n",
        "        self.Q[i] = self.Q[i] + \\\n",
        "            self.alpha*(2 * error*self.P[u] - self.beta*self.Q[i] + self.lamb*(self.P[u] - self.Q[i]) * self.W[u,i])\n",
        "        \n",
        "    def mae(self,  x_train, y_train):\n",
        "        \"\"\"\n",
        "        returns the Mean Absolute Error\n",
        "        \"\"\"\n",
        "        # number of training exemples\n",
        "        M = x_train.shape[0]\n",
        "        error = 0\n",
        "        for pair, r in zip(x_train, y_train):\n",
        "            u, i = pair\n",
        "            error += np.absolute(r - np.dot(self.P[u], self.Q[i]))\n",
        "        return error/M\n",
        "    \n",
        "    def print_training_progress(self, epoch, epochs, error, val_error, steps=5):\n",
        "        if epoch == 1 or epoch % steps == 0 :\n",
        "                print(f\"epoch {epoch}/{epochs} - loss : {round(error,3)} - val_loss : {round(val_error,3)}\")\n",
        "                \n",
        "    def learning_rate_schedule(self, epoch, target_epochs = 20):\n",
        "        if (epoch >= target_epochs) and (epoch % target_epochs == 0):\n",
        "                factor = epoch // target_epochs\n",
        "                self.alpha = self.alpha * (1 / (factor * 20))\n",
        "                print(\"\\nLearning Rate : {}\\n\".format(self.alpha))\n",
        "        \n",
        "    def fit(self, x_train, y_train, validation_data, epochs=10):\n",
        "        \"\"\"\n",
        "        Train latent factors P and Q according to the training set\n",
        "        \n",
        "        :param\n",
        "            - x_train : training pairs (u,i) for which rating r_ui is known\n",
        "            - y_train : set of ratings r_ui for all training pairs (u,i)\n",
        "            - validation_data : tuple (x_test, y_test)\n",
        "            - epochs : number of time to loop over the entire training set. \n",
        "            10 epochs by default\n",
        "            \n",
        "        Note that u and i are encoded values of userid and itemid\n",
        "        \"\"\"\n",
        "        self.print_training_parameters()\n",
        "        \n",
        "        # get validation data\n",
        "        x_test, y_test = validation_data\n",
        "        \n",
        "        for epoch in range(1, epochs+1):\n",
        "            for pair, r in zip(x_train, y_train):                \n",
        "                u,i = pair                \n",
        "                r_hat = np.dot(self.P[u], self.Q[i])                \n",
        "                e = r - r_hat\n",
        "                self.update_rule(u, i, error=e)\n",
        "                \n",
        "            # training and validation error  after this epochs\n",
        "            error = self.mae(x_train, y_train)\n",
        "            val_error = self.mae(x_test, y_test)\n",
        "            self.update_history(epoch, error, val_error)            \n",
        "            self.print_training_progress(epoch, epochs, error, val_error, steps=1)\n",
        "        \n",
        "        return self.history\n",
        "    \n",
        "    def update_history(self, epoch, error, val_error):\n",
        "        self.history['epochs'].append(epoch)\n",
        "        self.history['loss'].append(error)\n",
        "        self.history['val_loss'].append(val_error)\n",
        "    \n",
        "    def evaluate(self, x_test, y_test):\n",
        "        \"\"\"\n",
        "        compute the global error on the test set\n",
        "        \n",
        "        :param\n",
        "            - x_test : test pairs (u,i) for which rating r_ui is known\n",
        "            - y_test : set of ratings r_ui for all test pairs (u,i)\n",
        "        \"\"\"\n",
        "        error = self.mae(x_test, y_test)\n",
        "        print(f\"validation error : {round(error,3)}\")\n",
        "      \n",
        "    def predict(self, userid, itemid):\n",
        "        \"\"\"\n",
        "        Make rating prediction for a user on an item\n",
        "\n",
        "        :param\n",
        "        - userid\n",
        "        - itemid\n",
        "\n",
        "        :return\n",
        "        - r : predicted rating\n",
        "        \"\"\"\n",
        "        # encode user and item ids to be able to access their latent factors in\n",
        "        # matrices P and Q\n",
        "        u = uencoder.transform([userid])[0]\n",
        "        i = iencoder.transform([itemid])[0]\n",
        "\n",
        "        # rating prediction using encoded ids. Dot product between P_u and Q_i\n",
        "        r = np.dot(self.P[u], self.Q[i])\n",
        "\n",
        "        return r\n",
        "\n",
        "    def recommend(self, userid, N=30):\n",
        "        \"\"\"\n",
        "        make to N recommendations for a given user\n",
        "\n",
        "        :return \n",
        "        - (top_items,preds) : top N items with the highest predictions \n",
        "        \"\"\"\n",
        "        # encode the userid\n",
        "        u = uencoder.transform([userid])[0]\n",
        "\n",
        "        # predictions for this user on all product\n",
        "        predictions = np.dot(self.P[u], self.Q.T)\n",
        "\n",
        "        # get the indices of the top N predictions\n",
        "        top_idx = np.flip(np.argsort(predictions))[:N]\n",
        "\n",
        "        # decode indices to get their corresponding itemids\n",
        "        top_items = iencoder.inverse_transform(top_idx)\n",
        "\n",
        "        # take corresponding predictions for top N indices\n",
        "        preds = predictions[top_idx]\n",
        "\n",
        "        return top_items, preds"
      ],
      "metadata": {
        "id": "llxSYTO-HuIU"
      },
      "execution_count": null,
      "outputs": []
    },
    {
      "cell_type": "code",
      "source": [
        "epochs = 10"
      ],
      "metadata": {
        "id": "Q3otkYQkH1CE"
      },
      "execution_count": null,
      "outputs": []
    },
    {
      "cell_type": "markdown",
      "source": [
        "### 3.4.4. Model Evaluation"
      ],
      "metadata": {
        "id": "cimPSi-jH6oY"
      }
    },
    {
      "cell_type": "markdown",
      "source": [
        "#### MovieLens 100K"
      ],
      "metadata": {
        "id": "lCHThLuqH92Q"
      }
    },
    {
      "cell_type": "markdown",
      "source": [
        "##### **Evaluation on raw data**"
      ],
      "metadata": {
        "id": "2sUWeexFIAoR"
      }
    },
    {
      "cell_type": "code",
      "source": [
        "# load data\n",
        "ratings, movies = ml100k.load()\n",
        "\n",
        "# encode users and items ids\n",
        "ratings, uencoder, iencoder = ids_encoder(ratings)\n",
        "\n",
        "users = sorted(ratings.userid.unique())\n",
        "items = sorted(ratings.itemid.unique())\n",
        "\n",
        "m = len(users)\n",
        "n = len(items)\n",
        "\n",
        "# get examples as tuples of userids and itemids and labels from normalize ratings\n",
        "raw_examples, raw_labels = get_examples(ratings)\n",
        "\n",
        "# train test split\n",
        "(x_train, x_test), (y_train, y_test) = train_test_split(examples=raw_examples, labels=raw_labels)"
      ],
      "metadata": {
        "id": "9tkc3CRiIELC"
      },
      "execution_count": null,
      "outputs": []
    },
    {
      "cell_type": "code",
      "source": [
        "# create the user to user model for similarity measure\n",
        "usertouser = UserToUser(ratings, movies)\n",
        "\n",
        "# compute explainable score\n",
        "W = explainable_score(usertouser, users, items)"
      ],
      "metadata": {
        "colab": {
          "base_uri": "https://localhost:8080/"
        },
        "id": "KWpA0Y_1IHPo",
        "outputId": "12a3d259-ad28-41cc-b5af-b0f47b65c0bc"
      },
      "execution_count": null,
      "outputs": [
        {
          "output_type": "stream",
          "name": "stdout",
          "text": [
            "Normalize users ratings ...\n",
            "Initialize the similarity model ...\n",
            "Compute nearest neighbors ...\n",
            "User to user recommendation model created with success ...\n",
            "Compute Explainable score. Progress status : 99.9%"
          ]
        }
      ]
    },
    {
      "cell_type": "code",
      "source": [
        "# initialize the model\n",
        "EMF = ExplainableMatrixFactorization(m, n, W, alpha=0.01, beta=0.4, lamb=0.01, k=10)\n",
        "\n",
        "history = EMF.fit(x_train, y_train, epochs=epochs, validation_data=(x_test, y_test))"
      ],
      "metadata": {
        "colab": {
          "base_uri": "https://localhost:8080/"
        },
        "id": "GA3b5T6VISDJ",
        "outputId": "ee4dfa86-8790-43e6-cf18-54e2190258da"
      },
      "execution_count": null,
      "outputs": [
        {
          "output_type": "stream",
          "name": "stdout",
          "text": [
            "Training EMF\n",
            "k=10 \t alpha=0.01 \t beta=0.4 \t lambda=0.01\n",
            "epoch 1/10 - loss : 0.922 - val_loss : 1.036\n",
            "epoch 2/10 - loss : 0.79 - val_loss : 0.873\n",
            "epoch 3/10 - loss : 0.766 - val_loss : 0.837\n",
            "epoch 4/10 - loss : 0.757 - val_loss : 0.822\n",
            "epoch 5/10 - loss : 0.753 - val_loss : 0.814\n",
            "epoch 6/10 - loss : 0.751 - val_loss : 0.808\n",
            "epoch 7/10 - loss : 0.749 - val_loss : 0.805\n",
            "epoch 8/10 - loss : 0.748 - val_loss : 0.802\n",
            "epoch 9/10 - loss : 0.746 - val_loss : 0.799\n",
            "epoch 10/10 - loss : 0.745 - val_loss : 0.797\n"
          ]
        }
      ]
    },
    {
      "cell_type": "code",
      "source": [
        "EMF.evaluate(x_test, y_test)"
      ],
      "metadata": {
        "colab": {
          "base_uri": "https://localhost:8080/"
        },
        "id": "HYPZILImIfVG",
        "outputId": "8b44faa8-abd5-4e9a-bb6b-81483e95b0ea"
      },
      "execution_count": null,
      "outputs": [
        {
          "output_type": "stream",
          "name": "stdout",
          "text": [
            "validation error : 0.797\n"
          ]
        }
      ]
    },
    {
      "cell_type": "markdown",
      "source": [
        "If the validation error is 0.797, it means that on average, the model's predictions are off by 0.797 units."
      ],
      "metadata": {
        "id": "oSz4DUwrIhx2"
      }
    },
    {
      "cell_type": "markdown",
      "source": [
        "##### **Evaluation on normalized data**"
      ],
      "metadata": {
        "id": "HPCDyPfpIsJ2"
      }
    },
    {
      "cell_type": "code",
      "source": [
        "# load data\n",
        "ratings, movies = ml100k.load()\n",
        "\n",
        "# encode users and items ids\n",
        "ratings, uencoder, iencoder = ids_encoder(ratings)\n",
        "\n",
        "users = sorted(ratings.userid.unique())\n",
        "items = sorted(ratings.itemid.unique())\n",
        "\n",
        "m = len(users)\n",
        "n = len(items)\n",
        "\n",
        "# normalize ratings by substracting means\n",
        "normalized_column_name = \"norm_rating\"\n",
        "ratings = normalized_ratings(ratings, norm_column=normalized_column_name)\n",
        "\n",
        "# get examples as tuples of userids and itemids and labels from normalize ratings\n",
        "raw_examples, raw_labels = get_examples(ratings, labels_column=normalized_column_name)\n",
        "\n",
        "# train test split\n",
        "(x_train, x_test), (y_train, y_test) = train_test_split(examples=raw_examples, labels=raw_labels)"
      ],
      "metadata": {
        "id": "2xsAtgk1I1ud"
      },
      "execution_count": null,
      "outputs": []
    },
    {
      "cell_type": "code",
      "source": [
        "# initialize the model\n",
        "EMF = ExplainableMatrixFactorization(m, n, W, alpha=0.022, beta=0.65, lamb=0.01, k=10)\n",
        "\n",
        "history = EMF.fit(x_train, y_train, epochs=epochs, validation_data=(x_test, y_test))"
      ],
      "metadata": {
        "colab": {
          "base_uri": "https://localhost:8080/"
        },
        "id": "SB-5nGl7I49N",
        "outputId": "13bc398c-9a8f-43fe-be12-5e1a0f27aaae"
      },
      "execution_count": null,
      "outputs": [
        {
          "output_type": "stream",
          "name": "stdout",
          "text": [
            "Training EMF\n",
            "k=10 \t alpha=0.022 \t beta=0.65 \t lambda=0.01\n",
            "epoch 1/10 - loss : 0.809 - val_loss : 0.842\n",
            "epoch 2/10 - loss : 0.809 - val_loss : 0.829\n",
            "epoch 3/10 - loss : 0.807 - val_loss : 0.821\n",
            "epoch 4/10 - loss : 0.799 - val_loss : 0.811\n",
            "epoch 5/10 - loss : 0.789 - val_loss : 0.8\n",
            "epoch 6/10 - loss : 0.782 - val_loss : 0.793\n",
            "epoch 7/10 - loss : 0.778 - val_loss : 0.789\n",
            "epoch 8/10 - loss : 0.776 - val_loss : 0.786\n",
            "epoch 9/10 - loss : 0.774 - val_loss : 0.784\n",
            "epoch 10/10 - loss : 0.773 - val_loss : 0.783\n"
          ]
        }
      ]
    },
    {
      "cell_type": "markdown",
      "source": [
        "#### MovieLens 1M"
      ],
      "metadata": {
        "id": "B_K4GPtDJJgZ"
      }
    },
    {
      "cell_type": "markdown",
      "source": [
        "##### **Evaluation on raw data**"
      ],
      "metadata": {
        "id": "mo_-Dl15JLjh"
      }
    },
    {
      "cell_type": "code",
      "source": [
        "# load data\n",
        "ratings, movies = ml1m.load()\n",
        "\n",
        "# encode users and items ids\n",
        "ratings, uencoder, iencoder = ids_encoder(ratings)\n",
        "\n",
        "users = sorted(ratings.userid.unique())\n",
        "items = sorted(ratings.itemid.unique())\n",
        "\n",
        "m = len(users)\n",
        "n = len(items)\n",
        "\n",
        "# get examples as tuples of userids and itemids and labels from normalize ratings\n",
        "raw_examples, raw_labels = get_examples(ratings)\n",
        "\n",
        "# train test split\n",
        "(x_train, x_test), (y_train, y_test) = train_test_split(examples=raw_examples, labels=raw_labels)"
      ],
      "metadata": {
        "id": "OZmLeSvFJPMh"
      },
      "execution_count": null,
      "outputs": []
    },
    {
      "cell_type": "code",
      "source": [
        "# create the user to user model for similarity measure\n",
        "usertouser = UserToUser(ratings, movies)\n",
        "\n",
        "# compute explainable score\n",
        "W = explainable_score(usertouser, users, items)"
      ],
      "metadata": {
        "colab": {
          "base_uri": "https://localhost:8080/"
        },
        "id": "kY8rdoYvJUFY",
        "outputId": "62df36f7-66ac-4606-b12e-1933aec2befc"
      },
      "execution_count": null,
      "outputs": [
        {
          "output_type": "stream",
          "name": "stdout",
          "text": [
            "Normalize users ratings ...\n",
            "Initialize the similarity model ...\n",
            "Compute nearest neighbors ...\n",
            "User to user recommendation model created with success ...\n",
            "Compute Explainable score. Progress status : 100.0%"
          ]
        }
      ]
    },
    {
      "cell_type": "code",
      "source": [
        "# initialize the model\n",
        "EMF = ExplainableMatrixFactorization(m, n, W, alpha=0.01, beta=0.4, lamb=0.01, k=10)\n",
        "\n",
        "history = EMF.fit(x_train, y_train, epochs=epochs, validation_data=(x_test, y_test))"
      ],
      "metadata": {
        "colab": {
          "base_uri": "https://localhost:8080/"
        },
        "id": "mGy9SYi3OTVZ",
        "outputId": "97104f88-2ebb-4ea5-e6c1-d3c742864af1"
      },
      "execution_count": null,
      "outputs": [
        {
          "output_type": "stream",
          "name": "stdout",
          "text": [
            "Training EMF\n",
            "k=10 \t alpha=0.01 \t beta=0.4 \t lambda=0.01\n",
            "epoch 1/10 - loss : 0.782 - val_loss : 0.807\n",
            "epoch 2/10 - loss : 0.762 - val_loss : 0.781\n",
            "epoch 3/10 - loss : 0.76 - val_loss : 0.775\n",
            "epoch 4/10 - loss : 0.758 - val_loss : 0.771\n",
            "epoch 5/10 - loss : 0.757 - val_loss : 0.769\n",
            "epoch 6/10 - loss : 0.756 - val_loss : 0.767\n",
            "epoch 7/10 - loss : 0.754 - val_loss : 0.764\n",
            "epoch 8/10 - loss : 0.752 - val_loss : 0.762\n",
            "epoch 9/10 - loss : 0.751 - val_loss : 0.761\n",
            "epoch 10/10 - loss : 0.75 - val_loss : 0.76\n"
          ]
        }
      ]
    },
    {
      "cell_type": "markdown",
      "source": [
        "##### **Evaluation on normalized data**"
      ],
      "metadata": {
        "id": "tug-GUqDP3RG"
      }
    },
    {
      "cell_type": "code",
      "source": [
        "# load data\n",
        "ratings, movies = ml1m.load()\n",
        "\n",
        "# encode users and items ids\n",
        "ratings, uencoder, iencoder = ids_encoder(ratings)\n",
        "\n",
        "# normalize ratings by substracting means\n",
        "normalized_column_name = \"norm_rating\"\n",
        "ratings = normalized_ratings(ratings, norm_column=normalized_column_name)\n",
        "\n",
        "# get examples as tuples of userids and itemids and labels from normalize ratings\n",
        "raw_examples, raw_labels = get_examples(ratings, labels_column=normalized_column_name)\n",
        "\n",
        "# train test split\n",
        "(x_train, x_test), (y_train, y_test) = train_test_split(examples=raw_examples, labels=raw_labels)"
      ],
      "metadata": {
        "id": "2-t5jYDQP7Wd"
      },
      "execution_count": null,
      "outputs": []
    },
    {
      "cell_type": "code",
      "source": [
        "# initialize the model\n",
        "EMF = ExplainableMatrixFactorization(m, n, W, alpha=0.023, beta=0.59, lamb=0.01, k=10)\n",
        "\n",
        "history = EMF.fit(x_train, y_train, epochs=epochs, validation_data=(x_test, y_test))"
      ],
      "metadata": {
        "colab": {
          "base_uri": "https://localhost:8080/"
        },
        "id": "iH4QXDRMQS8r",
        "outputId": "d107aa2d-5d4d-42bc-8b26-2669c9bbe385"
      },
      "execution_count": null,
      "outputs": [
        {
          "output_type": "stream",
          "name": "stdout",
          "text": [
            "Training EMF\n",
            "k=10 \t alpha=0.023 \t beta=0.59 \t lambda=0.01\n",
            "epoch 1/10 - loss : 0.805 - val_loss : 0.814\n",
            "epoch 2/10 - loss : 0.764 - val_loss : 0.77\n",
            "epoch 3/10 - loss : 0.756 - val_loss : 0.762\n",
            "epoch 4/10 - loss : 0.755 - val_loss : 0.759\n",
            "epoch 5/10 - loss : 0.754 - val_loss : 0.759\n",
            "epoch 6/10 - loss : 0.754 - val_loss : 0.758\n",
            "epoch 7/10 - loss : 0.754 - val_loss : 0.758\n",
            "epoch 8/10 - loss : 0.753 - val_loss : 0.758\n",
            "epoch 9/10 - loss : 0.753 - val_loss : 0.758\n",
            "epoch 10/10 - loss : 0.753 - val_loss : 0.758\n"
          ]
        }
      ]
    },
    {
      "cell_type": "markdown",
      "source": [
        "#### Ratings prediction"
      ],
      "metadata": {
        "id": "sGe2QMD6Rlmg"
      }
    },
    {
      "cell_type": "code",
      "source": [
        "# get list of top N items with their corresponding predicted ratings\n",
        "userid = 42\n",
        "recommended_items, predictions = EMF.recommend(userid=userid)\n",
        "\n",
        "# find corresponding movie titles\n",
        "top_N = list(zip(recommended_items,predictions))\n",
        "top_N = pd.DataFrame(top_N, columns=['itemid','predictions'])\n",
        "top_N.predictions = top_N.predictions + ratings.loc[ratings.userid==userid].rating_mean.values[0]\n",
        "List = pd.merge(top_N, movies, on='itemid', how='inner')\n",
        "\n",
        "# show the list\n",
        "List"
      ],
      "metadata": {
        "colab": {
          "base_uri": "https://localhost:8080/",
          "height": 990
        },
        "id": "Mnvm5nhZRsWh",
        "outputId": "380ae133-4331-4773-d90f-0ce67e7a8fc7"
      },
      "execution_count": null,
      "outputs": [
        {
          "output_type": "execute_result",
          "data": {
            "text/plain": [
              "    itemid  predictions                                              title  \\\n",
              "0     3460     4.364036               Hillbillys in a Haunted House (1967)   \n",
              "1      701     4.324177                                       Daens (1992)   \n",
              "2     3057     4.307404                            Where's Marlowe? (1999)   \n",
              "3     2214     4.304979                            Number Seventeen (1932)   \n",
              "4     1145     4.299559                                  Snowriders (1996)   \n",
              "5     2258     4.292125                              Master Ninja I (1984)   \n",
              "6     3353     4.281912                         Closer You Get, The (2000)   \n",
              "7      868     4.278937                          Death in Brunswick (1991)   \n",
              "8      826     4.269901                                   Diebinnen (1995)   \n",
              "9     3305     4.266769                                   Bluebeard (1944)   \n",
              "10    2619     4.265997                                     Mascara (1999)   \n",
              "11     763     4.264092  Last of the High Kings, The (a.k.a. Summer Fli...   \n",
              "12    1852     4.262517                              Love Walked In (1998)   \n",
              "13     642     4.260353                                       Roula (1995)   \n",
              "14     682     4.258829         Tigrero: A Film That Was Never Made (1994)   \n",
              "15     792     4.253339                     Hungarian Fairy Tale, A (1987)   \n",
              "16    1316     4.252915                                        Anna (1996)   \n",
              "17    3228     4.245526                              Wirey Spindell (1999)   \n",
              "18     853     4.240745                                       Dingo (1992)   \n",
              "19    3172     4.238188                            Ulysses (Ulisse) (1954)   \n",
              "20    2254     4.238008                                     Choices (1981)   \n",
              "21    2503     4.234547                            Apple, The (Sib) (1998)   \n",
              "22    2905     4.224974                                     Sanjuro (1962)   \n",
              "23     744     4.224278                         Brothers in Trouble (1995)   \n",
              "24     757     4.224226                               Ashes of Time (1994)   \n",
              "25     858     4.223665                              Godfather, The (1972)   \n",
              "26     789     4.220788      I, Worst of All (Yo, la peor de todas) (1990)   \n",
              "27    3748     4.216508                                  Match, The (1999)   \n",
              "28     790     4.216455                     An Unforgettable Summer (1994)   \n",
              "29     745     4.215986                              Close Shave, A (1995)   \n",
              "\n",
              "                       genres  \n",
              "0                      Comedy  \n",
              "1                       Drama  \n",
              "2                      Comedy  \n",
              "3                    Thriller  \n",
              "4                 Documentary  \n",
              "5                      Action  \n",
              "6              Comedy|Romance  \n",
              "7                      Comedy  \n",
              "8                       Drama  \n",
              "9            Film-Noir|Horror  \n",
              "10                      Drama  \n",
              "11                      Drama  \n",
              "12             Drama|Thriller  \n",
              "13                      Drama  \n",
              "14          Documentary|Drama  \n",
              "15                    Fantasy  \n",
              "16                      Drama  \n",
              "17                     Comedy  \n",
              "18                      Drama  \n",
              "19                  Adventure  \n",
              "20                      Drama  \n",
              "21                      Drama  \n",
              "22           Action|Adventure  \n",
              "23                      Drama  \n",
              "24                      Drama  \n",
              "25         Action|Crime|Drama  \n",
              "26                      Drama  \n",
              "27             Comedy|Romance  \n",
              "28                      Drama  \n",
              "29  Animation|Comedy|Thriller  "
            ],
            "text/html": [
              "\n",
              "  <div id=\"df-099a39ba-439b-4317-b96c-1f12872572e0\">\n",
              "    <div class=\"colab-df-container\">\n",
              "      <div>\n",
              "<style scoped>\n",
              "    .dataframe tbody tr th:only-of-type {\n",
              "        vertical-align: middle;\n",
              "    }\n",
              "\n",
              "    .dataframe tbody tr th {\n",
              "        vertical-align: top;\n",
              "    }\n",
              "\n",
              "    .dataframe thead th {\n",
              "        text-align: right;\n",
              "    }\n",
              "</style>\n",
              "<table border=\"1\" class=\"dataframe\">\n",
              "  <thead>\n",
              "    <tr style=\"text-align: right;\">\n",
              "      <th></th>\n",
              "      <th>itemid</th>\n",
              "      <th>predictions</th>\n",
              "      <th>title</th>\n",
              "      <th>genres</th>\n",
              "    </tr>\n",
              "  </thead>\n",
              "  <tbody>\n",
              "    <tr>\n",
              "      <th>0</th>\n",
              "      <td>3460</td>\n",
              "      <td>4.364036</td>\n",
              "      <td>Hillbillys in a Haunted House (1967)</td>\n",
              "      <td>Comedy</td>\n",
              "    </tr>\n",
              "    <tr>\n",
              "      <th>1</th>\n",
              "      <td>701</td>\n",
              "      <td>4.324177</td>\n",
              "      <td>Daens (1992)</td>\n",
              "      <td>Drama</td>\n",
              "    </tr>\n",
              "    <tr>\n",
              "      <th>2</th>\n",
              "      <td>3057</td>\n",
              "      <td>4.307404</td>\n",
              "      <td>Where's Marlowe? (1999)</td>\n",
              "      <td>Comedy</td>\n",
              "    </tr>\n",
              "    <tr>\n",
              "      <th>3</th>\n",
              "      <td>2214</td>\n",
              "      <td>4.304979</td>\n",
              "      <td>Number Seventeen (1932)</td>\n",
              "      <td>Thriller</td>\n",
              "    </tr>\n",
              "    <tr>\n",
              "      <th>4</th>\n",
              "      <td>1145</td>\n",
              "      <td>4.299559</td>\n",
              "      <td>Snowriders (1996)</td>\n",
              "      <td>Documentary</td>\n",
              "    </tr>\n",
              "    <tr>\n",
              "      <th>5</th>\n",
              "      <td>2258</td>\n",
              "      <td>4.292125</td>\n",
              "      <td>Master Ninja I (1984)</td>\n",
              "      <td>Action</td>\n",
              "    </tr>\n",
              "    <tr>\n",
              "      <th>6</th>\n",
              "      <td>3353</td>\n",
              "      <td>4.281912</td>\n",
              "      <td>Closer You Get, The (2000)</td>\n",
              "      <td>Comedy|Romance</td>\n",
              "    </tr>\n",
              "    <tr>\n",
              "      <th>7</th>\n",
              "      <td>868</td>\n",
              "      <td>4.278937</td>\n",
              "      <td>Death in Brunswick (1991)</td>\n",
              "      <td>Comedy</td>\n",
              "    </tr>\n",
              "    <tr>\n",
              "      <th>8</th>\n",
              "      <td>826</td>\n",
              "      <td>4.269901</td>\n",
              "      <td>Diebinnen (1995)</td>\n",
              "      <td>Drama</td>\n",
              "    </tr>\n",
              "    <tr>\n",
              "      <th>9</th>\n",
              "      <td>3305</td>\n",
              "      <td>4.266769</td>\n",
              "      <td>Bluebeard (1944)</td>\n",
              "      <td>Film-Noir|Horror</td>\n",
              "    </tr>\n",
              "    <tr>\n",
              "      <th>10</th>\n",
              "      <td>2619</td>\n",
              "      <td>4.265997</td>\n",
              "      <td>Mascara (1999)</td>\n",
              "      <td>Drama</td>\n",
              "    </tr>\n",
              "    <tr>\n",
              "      <th>11</th>\n",
              "      <td>763</td>\n",
              "      <td>4.264092</td>\n",
              "      <td>Last of the High Kings, The (a.k.a. Summer Fli...</td>\n",
              "      <td>Drama</td>\n",
              "    </tr>\n",
              "    <tr>\n",
              "      <th>12</th>\n",
              "      <td>1852</td>\n",
              "      <td>4.262517</td>\n",
              "      <td>Love Walked In (1998)</td>\n",
              "      <td>Drama|Thriller</td>\n",
              "    </tr>\n",
              "    <tr>\n",
              "      <th>13</th>\n",
              "      <td>642</td>\n",
              "      <td>4.260353</td>\n",
              "      <td>Roula (1995)</td>\n",
              "      <td>Drama</td>\n",
              "    </tr>\n",
              "    <tr>\n",
              "      <th>14</th>\n",
              "      <td>682</td>\n",
              "      <td>4.258829</td>\n",
              "      <td>Tigrero: A Film That Was Never Made (1994)</td>\n",
              "      <td>Documentary|Drama</td>\n",
              "    </tr>\n",
              "    <tr>\n",
              "      <th>15</th>\n",
              "      <td>792</td>\n",
              "      <td>4.253339</td>\n",
              "      <td>Hungarian Fairy Tale, A (1987)</td>\n",
              "      <td>Fantasy</td>\n",
              "    </tr>\n",
              "    <tr>\n",
              "      <th>16</th>\n",
              "      <td>1316</td>\n",
              "      <td>4.252915</td>\n",
              "      <td>Anna (1996)</td>\n",
              "      <td>Drama</td>\n",
              "    </tr>\n",
              "    <tr>\n",
              "      <th>17</th>\n",
              "      <td>3228</td>\n",
              "      <td>4.245526</td>\n",
              "      <td>Wirey Spindell (1999)</td>\n",
              "      <td>Comedy</td>\n",
              "    </tr>\n",
              "    <tr>\n",
              "      <th>18</th>\n",
              "      <td>853</td>\n",
              "      <td>4.240745</td>\n",
              "      <td>Dingo (1992)</td>\n",
              "      <td>Drama</td>\n",
              "    </tr>\n",
              "    <tr>\n",
              "      <th>19</th>\n",
              "      <td>3172</td>\n",
              "      <td>4.238188</td>\n",
              "      <td>Ulysses (Ulisse) (1954)</td>\n",
              "      <td>Adventure</td>\n",
              "    </tr>\n",
              "    <tr>\n",
              "      <th>20</th>\n",
              "      <td>2254</td>\n",
              "      <td>4.238008</td>\n",
              "      <td>Choices (1981)</td>\n",
              "      <td>Drama</td>\n",
              "    </tr>\n",
              "    <tr>\n",
              "      <th>21</th>\n",
              "      <td>2503</td>\n",
              "      <td>4.234547</td>\n",
              "      <td>Apple, The (Sib) (1998)</td>\n",
              "      <td>Drama</td>\n",
              "    </tr>\n",
              "    <tr>\n",
              "      <th>22</th>\n",
              "      <td>2905</td>\n",
              "      <td>4.224974</td>\n",
              "      <td>Sanjuro (1962)</td>\n",
              "      <td>Action|Adventure</td>\n",
              "    </tr>\n",
              "    <tr>\n",
              "      <th>23</th>\n",
              "      <td>744</td>\n",
              "      <td>4.224278</td>\n",
              "      <td>Brothers in Trouble (1995)</td>\n",
              "      <td>Drama</td>\n",
              "    </tr>\n",
              "    <tr>\n",
              "      <th>24</th>\n",
              "      <td>757</td>\n",
              "      <td>4.224226</td>\n",
              "      <td>Ashes of Time (1994)</td>\n",
              "      <td>Drama</td>\n",
              "    </tr>\n",
              "    <tr>\n",
              "      <th>25</th>\n",
              "      <td>858</td>\n",
              "      <td>4.223665</td>\n",
              "      <td>Godfather, The (1972)</td>\n",
              "      <td>Action|Crime|Drama</td>\n",
              "    </tr>\n",
              "    <tr>\n",
              "      <th>26</th>\n",
              "      <td>789</td>\n",
              "      <td>4.220788</td>\n",
              "      <td>I, Worst of All (Yo, la peor de todas) (1990)</td>\n",
              "      <td>Drama</td>\n",
              "    </tr>\n",
              "    <tr>\n",
              "      <th>27</th>\n",
              "      <td>3748</td>\n",
              "      <td>4.216508</td>\n",
              "      <td>Match, The (1999)</td>\n",
              "      <td>Comedy|Romance</td>\n",
              "    </tr>\n",
              "    <tr>\n",
              "      <th>28</th>\n",
              "      <td>790</td>\n",
              "      <td>4.216455</td>\n",
              "      <td>An Unforgettable Summer (1994)</td>\n",
              "      <td>Drama</td>\n",
              "    </tr>\n",
              "    <tr>\n",
              "      <th>29</th>\n",
              "      <td>745</td>\n",
              "      <td>4.215986</td>\n",
              "      <td>Close Shave, A (1995)</td>\n",
              "      <td>Animation|Comedy|Thriller</td>\n",
              "    </tr>\n",
              "  </tbody>\n",
              "</table>\n",
              "</div>\n",
              "      <button class=\"colab-df-convert\" onclick=\"convertToInteractive('df-099a39ba-439b-4317-b96c-1f12872572e0')\"\n",
              "              title=\"Convert this dataframe to an interactive table.\"\n",
              "              style=\"display:none;\">\n",
              "        \n",
              "  <svg xmlns=\"http://www.w3.org/2000/svg\" height=\"24px\"viewBox=\"0 0 24 24\"\n",
              "       width=\"24px\">\n",
              "    <path d=\"M0 0h24v24H0V0z\" fill=\"none\"/>\n",
              "    <path d=\"M18.56 5.44l.94 2.06.94-2.06 2.06-.94-2.06-.94-.94-2.06-.94 2.06-2.06.94zm-11 1L8.5 8.5l.94-2.06 2.06-.94-2.06-.94L8.5 2.5l-.94 2.06-2.06.94zm10 10l.94 2.06.94-2.06 2.06-.94-2.06-.94-.94-2.06-.94 2.06-2.06.94z\"/><path d=\"M17.41 7.96l-1.37-1.37c-.4-.4-.92-.59-1.43-.59-.52 0-1.04.2-1.43.59L10.3 9.45l-7.72 7.72c-.78.78-.78 2.05 0 2.83L4 21.41c.39.39.9.59 1.41.59.51 0 1.02-.2 1.41-.59l7.78-7.78 2.81-2.81c.8-.78.8-2.07 0-2.86zM5.41 20L4 18.59l7.72-7.72 1.47 1.35L5.41 20z\"/>\n",
              "  </svg>\n",
              "      </button>\n",
              "      \n",
              "  <style>\n",
              "    .colab-df-container {\n",
              "      display:flex;\n",
              "      flex-wrap:wrap;\n",
              "      gap: 12px;\n",
              "    }\n",
              "\n",
              "    .colab-df-convert {\n",
              "      background-color: #E8F0FE;\n",
              "      border: none;\n",
              "      border-radius: 50%;\n",
              "      cursor: pointer;\n",
              "      display: none;\n",
              "      fill: #1967D2;\n",
              "      height: 32px;\n",
              "      padding: 0 0 0 0;\n",
              "      width: 32px;\n",
              "    }\n",
              "\n",
              "    .colab-df-convert:hover {\n",
              "      background-color: #E2EBFA;\n",
              "      box-shadow: 0px 1px 2px rgba(60, 64, 67, 0.3), 0px 1px 3px 1px rgba(60, 64, 67, 0.15);\n",
              "      fill: #174EA6;\n",
              "    }\n",
              "\n",
              "    [theme=dark] .colab-df-convert {\n",
              "      background-color: #3B4455;\n",
              "      fill: #D2E3FC;\n",
              "    }\n",
              "\n",
              "    [theme=dark] .colab-df-convert:hover {\n",
              "      background-color: #434B5C;\n",
              "      box-shadow: 0px 1px 3px 1px rgba(0, 0, 0, 0.15);\n",
              "      filter: drop-shadow(0px 1px 2px rgba(0, 0, 0, 0.3));\n",
              "      fill: #FFFFFF;\n",
              "    }\n",
              "  </style>\n",
              "\n",
              "      <script>\n",
              "        const buttonEl =\n",
              "          document.querySelector('#df-099a39ba-439b-4317-b96c-1f12872572e0 button.colab-df-convert');\n",
              "        buttonEl.style.display =\n",
              "          google.colab.kernel.accessAllowed ? 'block' : 'none';\n",
              "\n",
              "        async function convertToInteractive(key) {\n",
              "          const element = document.querySelector('#df-099a39ba-439b-4317-b96c-1f12872572e0');\n",
              "          const dataTable =\n",
              "            await google.colab.kernel.invokeFunction('convertToInteractive',\n",
              "                                                     [key], {});\n",
              "          if (!dataTable) return;\n",
              "\n",
              "          const docLinkHtml = 'Like what you see? Visit the ' +\n",
              "            '<a target=\"_blank\" href=https://colab.research.google.com/notebooks/data_table.ipynb>data table notebook</a>'\n",
              "            + ' to learn more about interactive tables.';\n",
              "          element.innerHTML = '';\n",
              "          dataTable['output_type'] = 'display_data';\n",
              "          await google.colab.output.renderOutput(dataTable, element);\n",
              "          const docLink = document.createElement('div');\n",
              "          docLink.innerHTML = docLinkHtml;\n",
              "          element.appendChild(docLink);\n",
              "        }\n",
              "      </script>\n",
              "    </div>\n",
              "  </div>\n",
              "  "
            ]
          },
          "metadata": {},
          "execution_count": 65
        }
      ]
    },
    {
      "cell_type": "markdown",
      "source": [
        "**Note**: The recommendation list may content items already purchased by the user. This is just an illustration of how to implement matrix factorization recommender system."
      ],
      "metadata": {
        "id": "nt7U9WyURvPJ"
      }
    }
  ]
}