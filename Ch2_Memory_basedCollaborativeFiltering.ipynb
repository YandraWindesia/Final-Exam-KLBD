{
  "nbformat": 4,
  "nbformat_minor": 0,
  "metadata": {
    "colab": {
      "provenance": [],
      "authorship_tag": "ABX9TyMvVxv4TTQrjNo9P75EOFdh",
      "include_colab_link": true
    },
    "kernelspec": {
      "name": "python3",
      "display_name": "Python 3"
    },
    "language_info": {
      "name": "python"
    }
  },
  "cells": [
    {
      "cell_type": "markdown",
      "metadata": {
        "id": "view-in-github",
        "colab_type": "text"
      },
      "source": [
        "<a href=\"https://colab.research.google.com/github/abdullahui/Final-Exam-KLBD/blob/main/Ch2_Memory_basedCollaborativeFiltering.ipynb\" target=\"_parent\"><img src=\"https://colab.research.google.com/assets/colab-badge.svg\" alt=\"Open In Colab\"/></a>"
      ]
    },
    {
      "cell_type": "markdown",
      "source": [
        "# Chapter 2: Memory-based Collaborative Filtering"
      ],
      "metadata": {
        "id": "UmtCTzFQ-pgg"
      }
    },
    {
      "cell_type": "markdown",
      "source": [
        "## Introduction"
      ],
      "metadata": {
        "id": "Chruw_QLGICY"
      }
    },
    {
      "cell_type": "markdown",
      "source": [
        "Chapter two talks about Memory-based Collaborative Filtering. There is two main algorithms to do it:\n",
        "1. User-based (or user to user) Collaborative Filtering : implements user-based collaborative filtering.\n",
        "2. Item-based (or item to item) Collaborative Filtering : implements item-based collaborative filtering.\n"
      ],
      "metadata": {
        "id": "EwJeEgTZ-z3E"
      }
    },
    {
      "cell_type": "markdown",
      "source": [
        "Memory based collaborative filtering (CF) also known as nearest neighbors based CF makes recommendation based on similar behavious of users and items. There are two types of memory based CF : <b>user-based</b> and <b>item-based</b> CF. Both of these algorithm usually proceed in three stages :\n",
        "\n",
        "1. Similarity computation (between users or items)\n",
        "2. Rating prediction (using ratings of similar users or items)\n",
        "3. Top-N recommendation"
      ],
      "metadata": {
        "id": "OovX38nXF50P"
      }
    },
    {
      "cell_type": "markdown",
      "source": [
        "we will explain each algorithm in the next two sections."
      ],
      "metadata": {
        "id": "bE24bkRLdPCO"
      }
    },
    {
      "cell_type": "markdown",
      "source": [
        "## Section 1: User-based Collaborative Filtering"
      ],
      "metadata": {
        "id": "nfNrucsxE5pw"
      }
    },
    {
      "cell_type": "markdown",
      "source": [
        "**Idea**\n",
        "\n",
        "Let $u$ be the user for which we plan to make recommendations. \n",
        "\n",
        "1. Find other users whose past rating behavior is similar to that of $u$\n",
        "2. Use their ratings on other items to predict what the current user will like"
      ],
      "metadata": {
        "id": "d9oLjc5JIvYL"
      }
    },
    {
      "cell_type": "markdown",
      "source": [
        "**Algorithm:** user-to-user collaborative filtering\n",
        "1. Identify $G_u$, the set of $k$ users similar to an active user $u$\n",
        "2. Find candidate items\n",
        "3. Rating prediction\n",
        "4. Top-N recommendation"
      ],
      "metadata": {
        "id": "wTtDquYrI0Of"
      }
    },
    {
      "cell_type": "markdown",
      "source": [
        "### First we prepare the tool that we will use it."
      ],
      "metadata": {
        "id": "LWmjfF09BPec"
      }
    },
    {
      "cell_type": "markdown",
      "source": [
        "#### Download tools"
      ],
      "metadata": {
        "id": "9KB3CTufDaX4"
      }
    },
    {
      "cell_type": "code",
      "source": [
        "import os\n",
        "\n",
        "if not (os.path.exists(\"recsys.zip\") or os.path.exists(\"recsys\")):\n",
        "    !wget https://github.com/nzhinusoftcm/review-on-collaborative-filtering/raw/master/recsys.zip    \n",
        "    !unzip recsys.zip"
      ],
      "metadata": {
        "colab": {
          "base_uri": "https://localhost:8080/"
        },
        "id": "RsvV5iFfDGZU",
        "outputId": "d9c30269-dfff-4976-ff17-31f64790ab87"
      },
      "execution_count": null,
      "outputs": [
        {
          "output_type": "stream",
          "name": "stdout",
          "text": [
            "--2023-01-01 11:17:14--  https://github.com/nzhinusoftcm/review-on-collaborative-filtering/raw/master/recsys.zip\n",
            "Resolving github.com (github.com)... 20.27.177.113\n",
            "Connecting to github.com (github.com)|20.27.177.113|:443... connected.\n",
            "HTTP request sent, awaiting response... 302 Found\n",
            "Location: https://raw.githubusercontent.com/nzhinusoftcm/review-on-collaborative-filtering/master/recsys.zip [following]\n",
            "--2023-01-01 11:17:14--  https://raw.githubusercontent.com/nzhinusoftcm/review-on-collaborative-filtering/master/recsys.zip\n",
            "Resolving raw.githubusercontent.com (raw.githubusercontent.com)... 185.199.108.133, 185.199.109.133, 185.199.110.133, ...\n",
            "Connecting to raw.githubusercontent.com (raw.githubusercontent.com)|185.199.108.133|:443... connected.\n",
            "HTTP request sent, awaiting response... 200 OK\n",
            "Length: 15312323 (15M) [application/zip]\n",
            "Saving to: ‘recsys.zip’\n",
            "\n",
            "recsys.zip          100%[===================>]  14.60M  --.-KB/s    in 0.1s    \n",
            "\n",
            "2023-01-01 11:17:16 (111 MB/s) - ‘recsys.zip’ saved [15312323/15312323]\n",
            "\n",
            "Archive:  recsys.zip\n",
            "   creating: recsys/\n",
            "  inflating: recsys/datasets.py      \n",
            "  inflating: recsys/preprocessing.py  \n",
            "  inflating: recsys/utils.py         \n",
            "  inflating: recsys/requirements.txt  \n",
            "   creating: recsys/.vscode/\n",
            "  inflating: recsys/.vscode/settings.json  \n",
            "   creating: recsys/__pycache__/\n",
            "  inflating: recsys/__pycache__/datasets.cpython-36.pyc  \n",
            "  inflating: recsys/__pycache__/datasets.cpython-37.pyc  \n",
            "  inflating: recsys/__pycache__/utils.cpython-36.pyc  \n",
            "  inflating: recsys/__pycache__/preprocessing.cpython-37.pyc  \n",
            "  inflating: recsys/__pycache__/datasets.cpython-38.pyc  \n",
            "  inflating: recsys/__pycache__/preprocessing.cpython-36.pyc  \n",
            "  inflating: recsys/__pycache__/preprocessing.cpython-38.pyc  \n",
            "   creating: recsys/memories/\n",
            "  inflating: recsys/memories/ItemToItem.py  \n",
            "  inflating: recsys/memories/UserToUser.py  \n",
            "   creating: recsys/memories/__pycache__/\n",
            "  inflating: recsys/memories/__pycache__/UserToUser.cpython-36.pyc  \n",
            "  inflating: recsys/memories/__pycache__/UserToUser.cpython-37.pyc  \n",
            "  inflating: recsys/memories/__pycache__/ItemToItem.cpython-37.pyc  \n",
            "  inflating: recsys/memories/__pycache__/user2user.cpython-36.pyc  \n",
            "  inflating: recsys/memories/__pycache__/ItemToItem.cpython-36.pyc  \n",
            "   creating: recsys/models/\n",
            "  inflating: recsys/models/SVD.py    \n",
            "  inflating: recsys/models/MatrixFactorization.py  \n",
            "  inflating: recsys/models/ExplainableMF.py  \n",
            "  inflating: recsys/models/NonnegativeMF.py  \n",
            "   creating: recsys/models/__pycache__/\n",
            "  inflating: recsys/models/__pycache__/SVD.cpython-36.pyc  \n",
            "  inflating: recsys/models/__pycache__/MatrixFactorization.cpython-37.pyc  \n",
            "  inflating: recsys/models/__pycache__/ExplainableMF.cpython-36.pyc  \n",
            "  inflating: recsys/models/__pycache__/ExplainableMF.cpython-37.pyc  \n",
            "  inflating: recsys/models/__pycache__/MatrixFactorization.cpython-36.pyc  \n",
            "   creating: recsys/metrics/\n",
            "  inflating: recsys/metrics/EvaluationMetrics.py  \n",
            "   creating: recsys/img/\n",
            "  inflating: recsys/img/MF-and-NNMF.png  \n",
            "  inflating: recsys/img/svd.png      \n",
            "  inflating: recsys/img/MF.png       \n",
            "   creating: recsys/predictions/\n",
            "   creating: recsys/predictions/item2item/\n",
            "   creating: recsys/weights/\n",
            "   creating: recsys/weights/item2item/\n",
            "   creating: recsys/weights/item2item/ml1m/\n",
            "  inflating: recsys/weights/item2item/ml1m/similarities.npy  \n",
            "  inflating: recsys/weights/item2item/ml1m/neighbors.npy  \n",
            "   creating: recsys/weights/item2item/ml100k/\n",
            "  inflating: recsys/weights/item2item/ml100k/similarities.npy  \n",
            "  inflating: recsys/weights/item2item/ml100k/neighbors.npy  \n"
          ]
        }
      ]
    },
    {
      "cell_type": "markdown",
      "source": [
        "#### Import requirements"
      ],
      "metadata": {
        "id": "9U_etxZeDdlU"
      }
    },
    {
      "cell_type": "code",
      "source": [
        "from sklearn.neighbors import NearestNeighbors\n",
        "from scipy.sparse import csr_matrix\n",
        "\n",
        "from recsys.datasets import ml100k\n",
        "from recsys.preprocessing import ids_encoder\n",
        "\n",
        "import pandas as pd\n",
        "import numpy as np\n",
        "import zipfile"
      ],
      "metadata": {
        "id": "zyKsw10DDltI"
      },
      "execution_count": null,
      "outputs": []
    },
    {
      "cell_type": "markdown",
      "source": [
        "#### Load MovieLen ratings"
      ],
      "metadata": {
        "id": "3v-ScXoZDusv"
      }
    },
    {
      "cell_type": "code",
      "source": [
        "ratings, movies = ml100k.load()"
      ],
      "metadata": {
        "colab": {
          "base_uri": "https://localhost:8080/"
        },
        "id": "E6IYdzaKDxSg",
        "outputId": "b308fdcc-82cb-486b-a7bc-a86e3d4b3aff"
      },
      "execution_count": null,
      "outputs": [
        {
          "output_type": "stream",
          "name": "stdout",
          "text": [
            "Download data 100.2%\n",
            "Successfully downloaded ml-100k.zip 4924029 bytes.\n",
            "Unzipping the ml-100k.zip zip file ...\n"
          ]
        }
      ]
    },
    {
      "cell_type": "markdown",
      "source": [
        "#### userids and itemids encoding"
      ],
      "metadata": {
        "id": "NoFvyh6kD2ZX"
      }
    },
    {
      "cell_type": "markdown",
      "source": [
        "this create the encoder"
      ],
      "metadata": {
        "id": "kNk77F8fD9KA"
      }
    },
    {
      "cell_type": "code",
      "source": [
        "ratings, uencoder, iencoder = ids_encoder(ratings)"
      ],
      "metadata": {
        "id": "0zAJFAnuEEVc"
      },
      "execution_count": null,
      "outputs": []
    },
    {
      "cell_type": "markdown",
      "source": [
        "#### Transform rating dataframe to matrix"
      ],
      "metadata": {
        "id": "P5LDYD4aEJEz"
      }
    },
    {
      "cell_type": "code",
      "source": [
        "def ratings_matrix(ratings):    \n",
        "    return csr_matrix(pd.crosstab(ratings.userid, ratings.itemid, ratings.rating, aggfunc=sum).fillna(0).values)    \n",
        "\n",
        "R = ratings_matrix(ratings)"
      ],
      "metadata": {
        "id": "Vvy__firEP6D"
      },
      "execution_count": null,
      "outputs": []
    },
    {
      "cell_type": "markdown",
      "source": [
        "### Algorithm Steps"
      ],
      "metadata": {
        "id": "agdoK42ddxkh"
      }
    },
    {
      "cell_type": "markdown",
      "source": [
        "#### **Step 1. Identify $G_u$, the set of $k$ users similar to an active user $u$** "
      ],
      "metadata": {
        "id": "Uf1CWUolKUa_"
      }
    },
    {
      "cell_type": "markdown",
      "source": [
        "To find the $k$ most similar users to $u$, we use the cosine similarity and compute $w_{u,v}$ for all $v\\in U$. Fortunately, libraries such as <i>scikit-learn (sklearn)</i> are very useful for such tasks :\n",
        "\n",
        "1. First of all, we create a nearest neighbors model with sklearn through the function ```create_model()```. This function creates and fit a nearest neighbors model with user's ratings. We can choose ```cosine``` or ```euclidian``` based similarity metric. ```n_neighbors=21``` define the number of neighbors to return. With $k=20$ neighbors, $|G_u|=21$ as $G_u$ contains $20$ similar users added to the active user $u$. That is why ```n_neighbors=21```. Each row $r_u$ of the rating matrix $R$ represents ratings of user $u$ on all items of the database. Missing ratings are replaced with $0.0$. \n",
        "```python\n",
        "R[u,:] # uth row of the rating matrix R. Ratings of user u on all items in the database\n",
        "```\n",
        "2. Function ```nearest_neighbors()``` returns the knn users for each user."
      ],
      "metadata": {
        "id": "m4z5R2lzL1jI"
      }
    },
    {
      "cell_type": "code",
      "source": [
        "def create_model(rating_matrix, metric):\n",
        "    \"\"\"\n",
        "    - create the nearest neighbors model with the corresponding similarity metric\n",
        "    - fit the model\n",
        "    \"\"\"\n",
        "    model = NearestNeighbors(metric=metric, n_neighbors=21, algorithm='brute')\n",
        "    model.fit(rating_matrix)    \n",
        "    return model"
      ],
      "metadata": {
        "id": "N7NJu9DbK2uR"
      },
      "execution_count": null,
      "outputs": []
    },
    {
      "cell_type": "code",
      "source": [
        "def nearest_neighbors(rating_matrix, model):\n",
        "    \"\"\"    \n",
        "    :param rating_matrix : rating matrix of shape (nb_users, nb_items)\n",
        "    :param model : nearest neighbors model    \n",
        "    :return\n",
        "        - similarities : distances of the neighbors from the referenced user\n",
        "        - neighbors : neighbors of the referenced user in decreasing order of similarities\n",
        "    \"\"\"    \n",
        "    similarities, neighbors = model.kneighbors(rating_matrix)        \n",
        "    return similarities[:, 1:], neighbors[:, 1:]"
      ],
      "metadata": {
        "id": "YKKrldIILCec"
      },
      "execution_count": null,
      "outputs": []
    },
    {
      "cell_type": "markdown",
      "source": [
        "Now, Let's call functions ```create_model()``` and ```nearest_neighbors()``` to respectively create the $k$-NN model and compute the nearest neighbors for a given user"
      ],
      "metadata": {
        "id": "Wb7mweTTLHSD"
      }
    },
    {
      "cell_type": "code",
      "source": [
        "model = create_model(rating_matrix=R, metric='cosine') # we can also use the 'euclidian' distance\n",
        "similarities, neighbors = nearest_neighbors(R, model)"
      ],
      "metadata": {
        "id": "ebGs90kJLJzd"
      },
      "execution_count": null,
      "outputs": []
    },
    {
      "cell_type": "code",
      "source": [],
      "metadata": {
        "id": "E0qeqRwHLuxo"
      },
      "execution_count": null,
      "outputs": []
    },
    {
      "cell_type": "markdown",
      "source": [
        "#### **Step 2. Find candidate items**\n"
      ],
      "metadata": {
        "id": "VchObJ6YLNNs"
      }
    },
    {
      "cell_type": "markdown",
      "source": [
        "The set $C$ of candidate items are the most frequent ones purchased by users in $G_u$ for an active user $u$ and not purchased by $u$."
      ],
      "metadata": {
        "id": "N2_NMyV1L59w"
      }
    },
    {
      "cell_type": "markdown",
      "source": [
        "Function ```find_candidate_items()``` : find items purchased by these similar users as well as their frequency. Note that the frequency of the items in the set $C$ can be computed by just counting the actual occurrence frequency of that items.\n",
        "\n",
        "1. ```Gu_items``` : frequent items of $G_u$ in decreasing order of frequency.\n",
        "2. ```active_items``` : items already purchased by the active user\n",
        "3. ```candidates``` : frequent items of $G_u$ not purchased by the active user $u$"
      ],
      "metadata": {
        "id": "Pr6zVv1FL8Qs"
      }
    },
    {
      "cell_type": "code",
      "source": [
        "def find_candidate_items(userid):\n",
        "    \"\"\"\n",
        "    Find candidate items for an active user\n",
        "    \n",
        "    :param userid : active user\n",
        "    :param neighbors : users similar to the active user        \n",
        "    :return candidates : top 30 of candidate items\n",
        "    \"\"\"\n",
        "    user_neighbors = neighbors[userid]\n",
        "    activities = ratings.loc[ratings.userid.isin(user_neighbors)]\n",
        "    \n",
        "    # sort items in decreasing order of frequency\n",
        "    frequency = activities.groupby('itemid')['rating'].count().reset_index(name='count').sort_values(['count'],ascending=False)\n",
        "    Gu_items = frequency.itemid\n",
        "    active_items = ratings.loc[ratings.userid == userid].itemid.to_list()\n",
        "    candidates = np.setdiff1d(Gu_items, active_items, assume_unique=True)[:30]\n",
        "        \n",
        "    return candidates"
      ],
      "metadata": {
        "id": "R9AkIc4PMCgc"
      },
      "execution_count": null,
      "outputs": []
    },
    {
      "cell_type": "markdown",
      "source": [
        "#### **Step 3. Rating prediction**"
      ],
      "metadata": {
        "id": "SIaVdkQ-MWYM"
      }
    },
    {
      "cell_type": "markdown",
      "source": [
        "Now it's time to predict what score the active user $u$ would have given to each of the top-30 candidate items.\n",
        "\n",
        "To predict the score of $u$ on a candidate item $i$ ,we need :\n",
        "1. Similarities between $u$ and all his neighbors $v \\in G_u$ who rated item $i$ : function ```nearest_neighbors()``` returns similar users of a user as well as their corresponding similarities.\n",
        "2. Normalized ratings of all $v \\in G_u$ on item $i$. The normalized rating of user $v$ on item $i$ is defined by $r_{v,i}-\\bar{r}_v$."
      ],
      "metadata": {
        "id": "9VCQ1cE6Ml4L"
      }
    },
    {
      "cell_type": "markdown",
      "source": [
        "Next, let's compute the mean rating of each user and the normalized ratings for each item. The DataFrame ```mean``` contains mean rating for each user. With the mean rating of each user, we can add an extra column ```norm_rating``` to the ```ratings```'s DataFrame which can be accessed to make predictions."
      ],
      "metadata": {
        "id": "BNdonncRMm5b"
      }
    },
    {
      "cell_type": "code",
      "source": [
        "# mean ratings for each user\n",
        "mean = ratings.groupby(by='userid', as_index=False)['rating'].mean()\n",
        "mean_ratings = pd.merge(ratings, mean, suffixes=('','_mean'), on='userid')\n",
        "\n",
        "# normalized ratings for each items\n",
        "mean_ratings['norm_rating'] = mean_ratings['rating'] - mean_ratings['rating_mean']\n",
        "\n",
        "mean = mean.to_numpy()[:, 1]"
      ],
      "metadata": {
        "id": "YWWfBlZqMqvg"
      },
      "execution_count": null,
      "outputs": []
    },
    {
      "cell_type": "code",
      "source": [
        "np_ratings = mean_ratings.to_numpy()"
      ],
      "metadata": {
        "id": "1SxV84XAMtUg"
      },
      "execution_count": null,
      "outputs": []
    },
    {
      "cell_type": "markdown",
      "source": [
        "Let us define function ```predict``` that predict rating between user $u$ and \n",
        "\n",
        "1.   List item\n",
        "2.   List item"
      ],
      "metadata": {
        "id": "GgLWDvH7M2QY"
      }
    },
    {
      "cell_type": "code",
      "source": [
        "def predict(userid, itemid):\n",
        "    \"\"\"\n",
        "    predict what score userid would have given to itemid.\n",
        "    \n",
        "    :param\n",
        "        - userid : user id for which we want to make prediction\n",
        "        - itemid : item id on which we want to make prediction\n",
        "        \n",
        "    :return\n",
        "        - r_hat : predicted rating of user userid on item itemid\n",
        "    \"\"\"\n",
        "    user_similarities = similarities[userid]\n",
        "    user_neighbors = neighbors[userid]\n",
        "    # get mean rating of user userid\n",
        "    user_mean = mean[userid]\n",
        "    \n",
        "    # find users who rated item 'itemid'\n",
        "    iratings = np_ratings[np_ratings[:, 1].astype('int') == itemid]\n",
        "    \n",
        "    # find similar users to 'userid' who rated item 'itemid'\n",
        "    suri = iratings[np.isin(iratings[:, 0], user_neighbors)]\n",
        "    \n",
        "    # similar users who rated current item (surci)\n",
        "    normalized_ratings = suri[:,4]\n",
        "    indexes = [np.where(user_neighbors == uid)[0][0] for uid in suri[:, 0].astype('int')]\n",
        "    sims = user_similarities[indexes]\n",
        "    \n",
        "    num = np.dot(normalized_ratings, sims)\n",
        "    den = np.sum(np.abs(sims))\n",
        "    \n",
        "    if num == 0 or den == 0:\n",
        "        return user_mean\n",
        "    \n",
        "    r_hat = user_mean + np.dot(normalized_ratings, sims) / np.sum(np.abs(sims))\n",
        "    \n",
        "    return r_hat"
      ],
      "metadata": {
        "id": "pf9KW3TrM8cB"
      },
      "execution_count": null,
      "outputs": []
    },
    {
      "cell_type": "markdown",
      "source": [
        "Now, we can make rating prediction for a given user on each item in his set of candidate items."
      ],
      "metadata": {
        "id": "bCISeDJxNAPo"
      }
    },
    {
      "cell_type": "code",
      "source": [
        "def user2userPredictions(userid, pred_path):\n",
        "    \"\"\"\n",
        "    Make rating prediction for the active user on each candidate item and save in file prediction.csv\n",
        "    \n",
        "    :param\n",
        "        - userid : id of the active user\n",
        "        - pred_path : where to save predictions\n",
        "    \"\"\"    \n",
        "    # find candidate items for the active user\n",
        "    candidates = find_candidate_items(userid)\n",
        "    \n",
        "    # loop over candidates items to make predictions\n",
        "    for itemid in candidates:\n",
        "        \n",
        "        # prediction for userid on itemid\n",
        "        r_hat = predict(userid, itemid)\n",
        "        \n",
        "        # save predictions\n",
        "        with open(pred_path, 'a+') as file:\n",
        "            line = '{},{},{}\\n'.format(userid, itemid, r_hat)\n",
        "            file.write(line)"
      ],
      "metadata": {
        "id": "ovOOMXY-NDGc"
      },
      "execution_count": null,
      "outputs": []
    },
    {
      "cell_type": "code",
      "source": [
        "import sys\n",
        "\n",
        "def user2userCF():\n",
        "    \"\"\"\n",
        "    Make predictions for each user in the database.    \n",
        "    \"\"\"\n",
        "    # get list of users in the database\n",
        "    users = ratings.userid.unique()\n",
        "    \n",
        "    def _progress(count):\n",
        "        sys.stdout.write('\\rRating predictions. Progress status : %.1f%%' % (float(count/len(users))*100.0))\n",
        "        sys.stdout.flush()\n",
        "    \n",
        "    saved_predictions = 'predictions.csv'    \n",
        "    if os.path.exists(saved_predictions):\n",
        "        os.remove(saved_predictions)\n",
        "    \n",
        "    for count, userid in enumerate(users):        \n",
        "        # make rating predictions for the current user\n",
        "        user2userPredictions(userid, saved_predictions)\n",
        "        _progress(count)"
      ],
      "metadata": {
        "id": "I_OInOP-NFcs"
      },
      "execution_count": null,
      "outputs": []
    },
    {
      "cell_type": "code",
      "source": [
        "user2userCF()"
      ],
      "metadata": {
        "colab": {
          "base_uri": "https://localhost:8080/"
        },
        "id": "WBNT8ckeNHn7",
        "outputId": "43882038-69b2-46b8-a0ed-4e487ebd6b5b"
      },
      "execution_count": null,
      "outputs": [
        {
          "output_type": "stream",
          "name": "stdout",
          "text": [
            "Rating predictions. Progress status : 99.9%"
          ]
        }
      ]
    },
    {
      "cell_type": "markdown",
      "source": [
        "As we see here, the progress of rating predictions is so satisfying."
      ],
      "metadata": {
        "id": "YV9EZd_zNSNL"
      }
    },
    {
      "cell_type": "markdown",
      "source": [
        "#### **Step 4. Top-N recommendation**\n"
      ],
      "metadata": {
        "id": "i4JjVexiNl5w"
      }
    },
    {
      "cell_type": "markdown",
      "source": [
        "Function ```user2userRecommendation()``` reads predictions for a given user and return the list of items in decreasing order of predicted rating."
      ],
      "metadata": {
        "id": "mtr1HPi2NuMx"
      }
    },
    {
      "cell_type": "code",
      "source": [
        "def user2userRecommendation(userid):\n",
        "    \"\"\"\n",
        "    \"\"\"\n",
        "    # encode the userid\n",
        "    uid = uencoder.transform([userid])[0]\n",
        "    saved_predictions = 'predictions.csv'\n",
        "    \n",
        "    predictions = pd.read_csv(saved_predictions, sep=',', names=['userid', 'itemid', 'predicted_rating'])\n",
        "    predictions = predictions[predictions.userid==uid]\n",
        "    List = predictions.sort_values(by=['predicted_rating'], ascending=False)\n",
        "    \n",
        "    List.userid = uencoder.inverse_transform(List.userid.tolist())\n",
        "    List.itemid = iencoder.inverse_transform(List.itemid.tolist())\n",
        "    \n",
        "    List = pd.merge(List, movies, on='itemid', how='inner')\n",
        "    \n",
        "    return List"
      ],
      "metadata": {
        "id": "63-he2VANwWI"
      },
      "execution_count": null,
      "outputs": []
    },
    {
      "cell_type": "code",
      "source": [
        "user2userRecommendation(212)"
      ],
      "metadata": {
        "colab": {
          "base_uri": "https://localhost:8080/",
          "height": 990
        },
        "id": "_8XrY6EDN6Fh",
        "outputId": "a454ad94-1a95-4b14-de9d-4d67f60faf5b"
      },
      "execution_count": null,
      "outputs": [
        {
          "output_type": "execute_result",
          "data": {
            "text/plain": [
              "    userid  itemid  predicted_rating  \\\n",
              "0      212     483          4.871495   \n",
              "1      212     357          4.764547   \n",
              "2      212      50          4.660002   \n",
              "3      212      98          4.613636   \n",
              "4      212      64          4.550733   \n",
              "5      212     194          4.522336   \n",
              "6      212     174          4.521300   \n",
              "7      212     134          4.414819   \n",
              "8      212     187          4.344531   \n",
              "9      212     196          4.303696   \n",
              "10     212     523          4.281802   \n",
              "11     212     216          4.278246   \n",
              "12     212     100          4.260087   \n",
              "13     212     168          4.206139   \n",
              "14     212     435          4.122984   \n",
              "15     212     135          4.115228   \n",
              "16     212      83          4.106995   \n",
              "17     212      69          4.086366   \n",
              "18     212      70          4.086328   \n",
              "19     212     275          3.985037   \n",
              "20     212     153          3.981619   \n",
              "21     212     514          3.956640   \n",
              "22     212     521          3.937792   \n",
              "23     212      97          3.906106   \n",
              "24     212     173          3.879325   \n",
              "25     212     660          3.847897   \n",
              "26     212     215          3.709920   \n",
              "27     212     258          3.583718   \n",
              "28     212     202          3.508617   \n",
              "29     212     237          3.039041   \n",
              "\n",
              "                                        title  \n",
              "0                           Casablanca (1942)  \n",
              "1      One Flew Over the Cuckoo's Nest (1975)  \n",
              "2                            Star Wars (1977)  \n",
              "3            Silence of the Lambs, The (1991)  \n",
              "4            Shawshank Redemption, The (1994)  \n",
              "5                           Sting, The (1973)  \n",
              "6              Raiders of the Lost Ark (1981)  \n",
              "7                         Citizen Kane (1941)  \n",
              "8              Godfather: Part II, The (1974)  \n",
              "9                   Dead Poets Society (1989)  \n",
              "10                      Cool Hand Luke (1967)  \n",
              "11             When Harry Met Sally... (1989)  \n",
              "12                               Fargo (1996)  \n",
              "13     Monty Python and the Holy Grail (1974)  \n",
              "14  Butch Cassidy and the Sundance Kid (1969)  \n",
              "15               2001: A Space Odyssey (1968)  \n",
              "16              Much Ado About Nothing (1993)  \n",
              "17                        Forrest Gump (1994)  \n",
              "18         Four Weddings and a Funeral (1994)  \n",
              "19               Sense and Sensibility (1995)  \n",
              "20                Fish Called Wanda, A (1988)  \n",
              "21                          Annie Hall (1977)  \n",
              "22                    Deer Hunter, The (1978)  \n",
              "23                  Dances with Wolves (1990)  \n",
              "24                 Princess Bride, The (1987)  \n",
              "25                Fried Green Tomatoes (1991)  \n",
              "26                     Field of Dreams (1989)  \n",
              "27                             Contact (1997)  \n",
              "28                       Groundhog Day (1993)  \n",
              "29                       Jerry Maguire (1996)  "
            ],
            "text/html": [
              "\n",
              "  <div id=\"df-f7b9926e-441b-4487-9140-e67c002ec2eb\">\n",
              "    <div class=\"colab-df-container\">\n",
              "      <div>\n",
              "<style scoped>\n",
              "    .dataframe tbody tr th:only-of-type {\n",
              "        vertical-align: middle;\n",
              "    }\n",
              "\n",
              "    .dataframe tbody tr th {\n",
              "        vertical-align: top;\n",
              "    }\n",
              "\n",
              "    .dataframe thead th {\n",
              "        text-align: right;\n",
              "    }\n",
              "</style>\n",
              "<table border=\"1\" class=\"dataframe\">\n",
              "  <thead>\n",
              "    <tr style=\"text-align: right;\">\n",
              "      <th></th>\n",
              "      <th>userid</th>\n",
              "      <th>itemid</th>\n",
              "      <th>predicted_rating</th>\n",
              "      <th>title</th>\n",
              "    </tr>\n",
              "  </thead>\n",
              "  <tbody>\n",
              "    <tr>\n",
              "      <th>0</th>\n",
              "      <td>212</td>\n",
              "      <td>483</td>\n",
              "      <td>4.871495</td>\n",
              "      <td>Casablanca (1942)</td>\n",
              "    </tr>\n",
              "    <tr>\n",
              "      <th>1</th>\n",
              "      <td>212</td>\n",
              "      <td>357</td>\n",
              "      <td>4.764547</td>\n",
              "      <td>One Flew Over the Cuckoo's Nest (1975)</td>\n",
              "    </tr>\n",
              "    <tr>\n",
              "      <th>2</th>\n",
              "      <td>212</td>\n",
              "      <td>50</td>\n",
              "      <td>4.660002</td>\n",
              "      <td>Star Wars (1977)</td>\n",
              "    </tr>\n",
              "    <tr>\n",
              "      <th>3</th>\n",
              "      <td>212</td>\n",
              "      <td>98</td>\n",
              "      <td>4.613636</td>\n",
              "      <td>Silence of the Lambs, The (1991)</td>\n",
              "    </tr>\n",
              "    <tr>\n",
              "      <th>4</th>\n",
              "      <td>212</td>\n",
              "      <td>64</td>\n",
              "      <td>4.550733</td>\n",
              "      <td>Shawshank Redemption, The (1994)</td>\n",
              "    </tr>\n",
              "    <tr>\n",
              "      <th>5</th>\n",
              "      <td>212</td>\n",
              "      <td>194</td>\n",
              "      <td>4.522336</td>\n",
              "      <td>Sting, The (1973)</td>\n",
              "    </tr>\n",
              "    <tr>\n",
              "      <th>6</th>\n",
              "      <td>212</td>\n",
              "      <td>174</td>\n",
              "      <td>4.521300</td>\n",
              "      <td>Raiders of the Lost Ark (1981)</td>\n",
              "    </tr>\n",
              "    <tr>\n",
              "      <th>7</th>\n",
              "      <td>212</td>\n",
              "      <td>134</td>\n",
              "      <td>4.414819</td>\n",
              "      <td>Citizen Kane (1941)</td>\n",
              "    </tr>\n",
              "    <tr>\n",
              "      <th>8</th>\n",
              "      <td>212</td>\n",
              "      <td>187</td>\n",
              "      <td>4.344531</td>\n",
              "      <td>Godfather: Part II, The (1974)</td>\n",
              "    </tr>\n",
              "    <tr>\n",
              "      <th>9</th>\n",
              "      <td>212</td>\n",
              "      <td>196</td>\n",
              "      <td>4.303696</td>\n",
              "      <td>Dead Poets Society (1989)</td>\n",
              "    </tr>\n",
              "    <tr>\n",
              "      <th>10</th>\n",
              "      <td>212</td>\n",
              "      <td>523</td>\n",
              "      <td>4.281802</td>\n",
              "      <td>Cool Hand Luke (1967)</td>\n",
              "    </tr>\n",
              "    <tr>\n",
              "      <th>11</th>\n",
              "      <td>212</td>\n",
              "      <td>216</td>\n",
              "      <td>4.278246</td>\n",
              "      <td>When Harry Met Sally... (1989)</td>\n",
              "    </tr>\n",
              "    <tr>\n",
              "      <th>12</th>\n",
              "      <td>212</td>\n",
              "      <td>100</td>\n",
              "      <td>4.260087</td>\n",
              "      <td>Fargo (1996)</td>\n",
              "    </tr>\n",
              "    <tr>\n",
              "      <th>13</th>\n",
              "      <td>212</td>\n",
              "      <td>168</td>\n",
              "      <td>4.206139</td>\n",
              "      <td>Monty Python and the Holy Grail (1974)</td>\n",
              "    </tr>\n",
              "    <tr>\n",
              "      <th>14</th>\n",
              "      <td>212</td>\n",
              "      <td>435</td>\n",
              "      <td>4.122984</td>\n",
              "      <td>Butch Cassidy and the Sundance Kid (1969)</td>\n",
              "    </tr>\n",
              "    <tr>\n",
              "      <th>15</th>\n",
              "      <td>212</td>\n",
              "      <td>135</td>\n",
              "      <td>4.115228</td>\n",
              "      <td>2001: A Space Odyssey (1968)</td>\n",
              "    </tr>\n",
              "    <tr>\n",
              "      <th>16</th>\n",
              "      <td>212</td>\n",
              "      <td>83</td>\n",
              "      <td>4.106995</td>\n",
              "      <td>Much Ado About Nothing (1993)</td>\n",
              "    </tr>\n",
              "    <tr>\n",
              "      <th>17</th>\n",
              "      <td>212</td>\n",
              "      <td>69</td>\n",
              "      <td>4.086366</td>\n",
              "      <td>Forrest Gump (1994)</td>\n",
              "    </tr>\n",
              "    <tr>\n",
              "      <th>18</th>\n",
              "      <td>212</td>\n",
              "      <td>70</td>\n",
              "      <td>4.086328</td>\n",
              "      <td>Four Weddings and a Funeral (1994)</td>\n",
              "    </tr>\n",
              "    <tr>\n",
              "      <th>19</th>\n",
              "      <td>212</td>\n",
              "      <td>275</td>\n",
              "      <td>3.985037</td>\n",
              "      <td>Sense and Sensibility (1995)</td>\n",
              "    </tr>\n",
              "    <tr>\n",
              "      <th>20</th>\n",
              "      <td>212</td>\n",
              "      <td>153</td>\n",
              "      <td>3.981619</td>\n",
              "      <td>Fish Called Wanda, A (1988)</td>\n",
              "    </tr>\n",
              "    <tr>\n",
              "      <th>21</th>\n",
              "      <td>212</td>\n",
              "      <td>514</td>\n",
              "      <td>3.956640</td>\n",
              "      <td>Annie Hall (1977)</td>\n",
              "    </tr>\n",
              "    <tr>\n",
              "      <th>22</th>\n",
              "      <td>212</td>\n",
              "      <td>521</td>\n",
              "      <td>3.937792</td>\n",
              "      <td>Deer Hunter, The (1978)</td>\n",
              "    </tr>\n",
              "    <tr>\n",
              "      <th>23</th>\n",
              "      <td>212</td>\n",
              "      <td>97</td>\n",
              "      <td>3.906106</td>\n",
              "      <td>Dances with Wolves (1990)</td>\n",
              "    </tr>\n",
              "    <tr>\n",
              "      <th>24</th>\n",
              "      <td>212</td>\n",
              "      <td>173</td>\n",
              "      <td>3.879325</td>\n",
              "      <td>Princess Bride, The (1987)</td>\n",
              "    </tr>\n",
              "    <tr>\n",
              "      <th>25</th>\n",
              "      <td>212</td>\n",
              "      <td>660</td>\n",
              "      <td>3.847897</td>\n",
              "      <td>Fried Green Tomatoes (1991)</td>\n",
              "    </tr>\n",
              "    <tr>\n",
              "      <th>26</th>\n",
              "      <td>212</td>\n",
              "      <td>215</td>\n",
              "      <td>3.709920</td>\n",
              "      <td>Field of Dreams (1989)</td>\n",
              "    </tr>\n",
              "    <tr>\n",
              "      <th>27</th>\n",
              "      <td>212</td>\n",
              "      <td>258</td>\n",
              "      <td>3.583718</td>\n",
              "      <td>Contact (1997)</td>\n",
              "    </tr>\n",
              "    <tr>\n",
              "      <th>28</th>\n",
              "      <td>212</td>\n",
              "      <td>202</td>\n",
              "      <td>3.508617</td>\n",
              "      <td>Groundhog Day (1993)</td>\n",
              "    </tr>\n",
              "    <tr>\n",
              "      <th>29</th>\n",
              "      <td>212</td>\n",
              "      <td>237</td>\n",
              "      <td>3.039041</td>\n",
              "      <td>Jerry Maguire (1996)</td>\n",
              "    </tr>\n",
              "  </tbody>\n",
              "</table>\n",
              "</div>\n",
              "      <button class=\"colab-df-convert\" onclick=\"convertToInteractive('df-f7b9926e-441b-4487-9140-e67c002ec2eb')\"\n",
              "              title=\"Convert this dataframe to an interactive table.\"\n",
              "              style=\"display:none;\">\n",
              "        \n",
              "  <svg xmlns=\"http://www.w3.org/2000/svg\" height=\"24px\"viewBox=\"0 0 24 24\"\n",
              "       width=\"24px\">\n",
              "    <path d=\"M0 0h24v24H0V0z\" fill=\"none\"/>\n",
              "    <path d=\"M18.56 5.44l.94 2.06.94-2.06 2.06-.94-2.06-.94-.94-2.06-.94 2.06-2.06.94zm-11 1L8.5 8.5l.94-2.06 2.06-.94-2.06-.94L8.5 2.5l-.94 2.06-2.06.94zm10 10l.94 2.06.94-2.06 2.06-.94-2.06-.94-.94-2.06-.94 2.06-2.06.94z\"/><path d=\"M17.41 7.96l-1.37-1.37c-.4-.4-.92-.59-1.43-.59-.52 0-1.04.2-1.43.59L10.3 9.45l-7.72 7.72c-.78.78-.78 2.05 0 2.83L4 21.41c.39.39.9.59 1.41.59.51 0 1.02-.2 1.41-.59l7.78-7.78 2.81-2.81c.8-.78.8-2.07 0-2.86zM5.41 20L4 18.59l7.72-7.72 1.47 1.35L5.41 20z\"/>\n",
              "  </svg>\n",
              "      </button>\n",
              "      \n",
              "  <style>\n",
              "    .colab-df-container {\n",
              "      display:flex;\n",
              "      flex-wrap:wrap;\n",
              "      gap: 12px;\n",
              "    }\n",
              "\n",
              "    .colab-df-convert {\n",
              "      background-color: #E8F0FE;\n",
              "      border: none;\n",
              "      border-radius: 50%;\n",
              "      cursor: pointer;\n",
              "      display: none;\n",
              "      fill: #1967D2;\n",
              "      height: 32px;\n",
              "      padding: 0 0 0 0;\n",
              "      width: 32px;\n",
              "    }\n",
              "\n",
              "    .colab-df-convert:hover {\n",
              "      background-color: #E2EBFA;\n",
              "      box-shadow: 0px 1px 2px rgba(60, 64, 67, 0.3), 0px 1px 3px 1px rgba(60, 64, 67, 0.15);\n",
              "      fill: #174EA6;\n",
              "    }\n",
              "\n",
              "    [theme=dark] .colab-df-convert {\n",
              "      background-color: #3B4455;\n",
              "      fill: #D2E3FC;\n",
              "    }\n",
              "\n",
              "    [theme=dark] .colab-df-convert:hover {\n",
              "      background-color: #434B5C;\n",
              "      box-shadow: 0px 1px 3px 1px rgba(0, 0, 0, 0.15);\n",
              "      filter: drop-shadow(0px 1px 2px rgba(0, 0, 0, 0.3));\n",
              "      fill: #FFFFFF;\n",
              "    }\n",
              "  </style>\n",
              "\n",
              "      <script>\n",
              "        const buttonEl =\n",
              "          document.querySelector('#df-f7b9926e-441b-4487-9140-e67c002ec2eb button.colab-df-convert');\n",
              "        buttonEl.style.display =\n",
              "          google.colab.kernel.accessAllowed ? 'block' : 'none';\n",
              "\n",
              "        async function convertToInteractive(key) {\n",
              "          const element = document.querySelector('#df-f7b9926e-441b-4487-9140-e67c002ec2eb');\n",
              "          const dataTable =\n",
              "            await google.colab.kernel.invokeFunction('convertToInteractive',\n",
              "                                                     [key], {});\n",
              "          if (!dataTable) return;\n",
              "\n",
              "          const docLinkHtml = 'Like what you see? Visit the ' +\n",
              "            '<a target=\"_blank\" href=https://colab.research.google.com/notebooks/data_table.ipynb>data table notebook</a>'\n",
              "            + ' to learn more about interactive tables.';\n",
              "          element.innerHTML = '';\n",
              "          dataTable['output_type'] = 'display_data';\n",
              "          await google.colab.output.renderOutput(dataTable, element);\n",
              "          const docLink = document.createElement('div');\n",
              "          docLink.innerHTML = docLinkHtml;\n",
              "          element.appendChild(docLink);\n",
              "        }\n",
              "      </script>\n",
              "    </div>\n",
              "  </div>\n",
              "  "
            ]
          },
          "metadata": {},
          "execution_count": 20
        }
      ]
    },
    {
      "cell_type": "markdown",
      "source": [
        "So, the rating predection for the user that have ID (212) is between [3, 4.9]."
      ],
      "metadata": {
        "id": "K7tpXkAWOfWu"
      }
    },
    {
      "cell_type": "markdown",
      "source": [
        "#### **Evaluation with Mean Absolute Error (MAE)**"
      ],
      "metadata": {
        "id": "ByGqGcuVRSaH"
      }
    },
    {
      "cell_type": "markdown",
      "source": [
        "First we will evaluate the model on test data, then we calculate the mean absolute error (**MAE**) to evaluate the performance of a predictive model"
      ],
      "metadata": {
        "id": "UFjxKxaDRa9A"
      }
    },
    {
      "cell_type": "code",
      "source": [
        "from recsys.preprocessing import train_test_split, get_examples\n",
        "\n",
        "# get examples as tuples of userids and itemids and labels from normalize ratings\n",
        "raw_examples, raw_labels = get_examples(ratings, labels_column='rating')\n",
        "\n",
        "# train test split\n",
        "(x_train, x_test), (y_train, y_test) = train_test_split(examples=raw_examples, labels=raw_labels)\n",
        "\n",
        "def evaluate(x_test, y_test):\n",
        "    print('Evaluate the model on {} test data ...'.format(x_test.shape[0]))\n",
        "    preds = list(predict(u,i) for (u,i) in x_test)\n",
        "    mae = np.sum(np.absolute(y_test - np.array(preds))) / x_test.shape[0]\n",
        "    print('\\nMAE :', mae)\n",
        "    return mae"
      ],
      "metadata": {
        "id": "Al4khngzRW2w"
      },
      "execution_count": null,
      "outputs": []
    },
    {
      "cell_type": "code",
      "source": [
        "evaluate(x_test, y_test)"
      ],
      "metadata": {
        "colab": {
          "base_uri": "https://localhost:8080/"
        },
        "id": "7-D-B5RySMep",
        "outputId": "b49ef660-7791-4062-d9d6-53038c98fd2d"
      },
      "execution_count": null,
      "outputs": [
        {
          "output_type": "stream",
          "name": "stdout",
          "text": [
            "Evaluate the model on 10000 test data ...\n",
            "\n",
            "MAE : 0.7505910931068639\n"
          ]
        },
        {
          "output_type": "execute_result",
          "data": {
            "text/plain": [
              "0.7505910931068639"
            ]
          },
          "metadata": {},
          "execution_count": 22
        }
      ]
    },
    {
      "cell_type": "markdown",
      "source": [
        "This means that on average, the model's predictions are off by 0.7505910931068639 units."
      ],
      "metadata": {
        "id": "u407kxV4TJvM"
      }
    },
    {
      "cell_type": "markdown",
      "source": [
        "## Section 2: Item-based Collaborative Filtering"
      ],
      "metadata": {
        "id": "gSQRvZhEUAHj"
      }
    },
    {
      "cell_type": "markdown",
      "source": [
        "**Idea**\n",
        "\n",
        "Let $u$ be the active user and $i$ the referenced item\n",
        "1. If $u$ liked items similar to $i$, he will probably like item $i$.\n",
        "2. If he hated or disliked items similar to $i$, he will also hate item $i$.\n",
        "\n",
        "The idea is therefore to look at how an active user $u$ rated items similar to $i$ to know how he would have rated item $i$"
      ],
      "metadata": {
        "id": "VjD2TZDSUg38"
      }
    },
    {
      "cell_type": "markdown",
      "source": [
        "**Algorithm:** item-to-item collaborative filtering\n",
        "1. Find similarities for each of the items\n",
        "2. Top N recommendation for a given user\n",
        "\n",
        "   a- Finding candidate items\n",
        "\n",
        "   b- Find similarity between each candidate item and the set $I_u$\n",
        "\n",
        "   c- Rank candidate items according to their similarities to $I_u$\n"
      ],
      "metadata": {
        "id": "s2wD54knUvOn"
      }
    },
    {
      "cell_type": "markdown",
      "source": [
        "### First we prepare the tool that we will use it."
      ],
      "metadata": {
        "id": "19DqZR8OeB59"
      }
    },
    {
      "cell_type": "markdown",
      "source": [
        "#### Import useful requirements"
      ],
      "metadata": {
        "id": "mfLswz92eGvG"
      }
    },
    {
      "cell_type": "code",
      "source": [
        "import os\n",
        "\n",
        "if not (os.path.exists(\"recsys.zip\") or os.path.exists(\"recsys\")):\n",
        "    !wget https://github.com/nzhinusoftcm/review-on-collaborative-filtering/raw/master/recsys.zip    \n",
        "    !unzip recsys.zip"
      ],
      "metadata": {
        "id": "6m_NndVKeOT9"
      },
      "execution_count": null,
      "outputs": []
    },
    {
      "cell_type": "markdown",
      "source": [
        "#### Import requirements"
      ],
      "metadata": {
        "id": "1sbb0QV1egAZ"
      }
    },
    {
      "cell_type": "code",
      "source": [
        "from sklearn.neighbors import NearestNeighbors\n",
        "from scipy.sparse import csr_matrix\n",
        "\n",
        "from recsys.datasets import ml1m, ml100k\n",
        "from recsys.preprocessing import ids_encoder\n",
        "\n",
        "import pandas as pd\n",
        "import numpy as np\n",
        "import os\n",
        "import sys"
      ],
      "metadata": {
        "id": "9dLbfy8ueiGB"
      },
      "execution_count": null,
      "outputs": []
    },
    {
      "cell_type": "markdown",
      "source": [
        "#### Load ratings"
      ],
      "metadata": {
        "id": "xapa1LgXemgJ"
      }
    },
    {
      "cell_type": "code",
      "source": [
        "ratings, movies = ml100k.load()"
      ],
      "metadata": {
        "id": "Rkxw1Sw6enzB"
      },
      "execution_count": null,
      "outputs": []
    },
    {
      "cell_type": "markdown",
      "source": [
        "#### userids and itemids encoding"
      ],
      "metadata": {
        "id": "eMQ_uN53erfp"
      }
    },
    {
      "cell_type": "code",
      "source": [
        "# create the encoder\n",
        "ratings, uencoder, iencoder = ids_encoder(ratings)"
      ],
      "metadata": {
        "id": "qUSMq7p8etGZ"
      },
      "execution_count": null,
      "outputs": []
    },
    {
      "cell_type": "markdown",
      "source": [
        "Let's now implements the item-based collaborative filtering algorithm described above"
      ],
      "metadata": {
        "id": "XyvbSh7hexsR"
      }
    },
    {
      "cell_type": "markdown",
      "source": [
        "### Algorithm Steps"
      ],
      "metadata": {
        "id": "i6lUVPVge7dK"
      }
    },
    {
      "cell_type": "markdown",
      "source": [
        "#### **Step 1. Find similarities for each of the items**"
      ],
      "metadata": {
        "id": "3uWRtbLWezup"
      }
    },
    {
      "cell_type": "markdown",
      "source": [
        "To compute similarity between two items $i$ and $j$, we need to :\n",
        "\n",
        "1. find all users who rated both of them,\n",
        "2. Normalize their ratings on items $i$ and $j$\n",
        "3. Apply the cosine metric to the normalized ratings to compute similarity between $i$ and $j$"
      ],
      "metadata": {
        "id": "rTpEk4jAfKMV"
      }
    },
    {
      "cell_type": "markdown",
      "source": [
        "Function ```normalize()``` process the rating dataframe to normalize ratings of all users"
      ],
      "metadata": {
        "id": "aJJ9XvFvfOtN"
      }
    },
    {
      "cell_type": "code",
      "source": [
        "def normalize():\n",
        "    # compute mean rating for each user\n",
        "    mean = ratings.groupby(by='userid', as_index=False)['rating'].mean()\n",
        "    norm_ratings = pd.merge(ratings, mean, suffixes=('','_mean'), on='userid')\n",
        "    \n",
        "    # normalize each rating by substracting the mean rating of the corresponding user\n",
        "    norm_ratings['norm_rating'] = norm_ratings['rating'] - norm_ratings['rating_mean']\n",
        "    return mean.to_numpy()[:, 1], norm_ratings"
      ],
      "metadata": {
        "id": "lb_ykLOjfQ-F"
      },
      "execution_count": null,
      "outputs": []
    },
    {
      "cell_type": "code",
      "source": [
        "mean, norm_ratings = normalize()\n",
        "np_ratings = norm_ratings.to_numpy()\n",
        "norm_ratings.head()"
      ],
      "metadata": {
        "colab": {
          "base_uri": "https://localhost:8080/",
          "height": 206
        },
        "id": "ucOrlqGwgc7l",
        "outputId": "7ff6254d-49c4-4ddd-a174-78da610cc9b7"
      },
      "execution_count": null,
      "outputs": [
        {
          "output_type": "execute_result",
          "data": {
            "text/plain": [
              "   userid  itemid  rating  rating_mean  norm_rating\n",
              "0       0       0       5     3.610294     1.389706\n",
              "1       0       1       3     3.610294    -0.610294\n",
              "2       0       2       4     3.610294     0.389706\n",
              "3       0       3       3     3.610294    -0.610294\n",
              "4       0       4       3     3.610294    -0.610294"
            ],
            "text/html": [
              "\n",
              "  <div id=\"df-14dcd71e-9334-4c97-9be4-8805f1ba94fb\">\n",
              "    <div class=\"colab-df-container\">\n",
              "      <div>\n",
              "<style scoped>\n",
              "    .dataframe tbody tr th:only-of-type {\n",
              "        vertical-align: middle;\n",
              "    }\n",
              "\n",
              "    .dataframe tbody tr th {\n",
              "        vertical-align: top;\n",
              "    }\n",
              "\n",
              "    .dataframe thead th {\n",
              "        text-align: right;\n",
              "    }\n",
              "</style>\n",
              "<table border=\"1\" class=\"dataframe\">\n",
              "  <thead>\n",
              "    <tr style=\"text-align: right;\">\n",
              "      <th></th>\n",
              "      <th>userid</th>\n",
              "      <th>itemid</th>\n",
              "      <th>rating</th>\n",
              "      <th>rating_mean</th>\n",
              "      <th>norm_rating</th>\n",
              "    </tr>\n",
              "  </thead>\n",
              "  <tbody>\n",
              "    <tr>\n",
              "      <th>0</th>\n",
              "      <td>0</td>\n",
              "      <td>0</td>\n",
              "      <td>5</td>\n",
              "      <td>3.610294</td>\n",
              "      <td>1.389706</td>\n",
              "    </tr>\n",
              "    <tr>\n",
              "      <th>1</th>\n",
              "      <td>0</td>\n",
              "      <td>1</td>\n",
              "      <td>3</td>\n",
              "      <td>3.610294</td>\n",
              "      <td>-0.610294</td>\n",
              "    </tr>\n",
              "    <tr>\n",
              "      <th>2</th>\n",
              "      <td>0</td>\n",
              "      <td>2</td>\n",
              "      <td>4</td>\n",
              "      <td>3.610294</td>\n",
              "      <td>0.389706</td>\n",
              "    </tr>\n",
              "    <tr>\n",
              "      <th>3</th>\n",
              "      <td>0</td>\n",
              "      <td>3</td>\n",
              "      <td>3</td>\n",
              "      <td>3.610294</td>\n",
              "      <td>-0.610294</td>\n",
              "    </tr>\n",
              "    <tr>\n",
              "      <th>4</th>\n",
              "      <td>0</td>\n",
              "      <td>4</td>\n",
              "      <td>3</td>\n",
              "      <td>3.610294</td>\n",
              "      <td>-0.610294</td>\n",
              "    </tr>\n",
              "  </tbody>\n",
              "</table>\n",
              "</div>\n",
              "      <button class=\"colab-df-convert\" onclick=\"convertToInteractive('df-14dcd71e-9334-4c97-9be4-8805f1ba94fb')\"\n",
              "              title=\"Convert this dataframe to an interactive table.\"\n",
              "              style=\"display:none;\">\n",
              "        \n",
              "  <svg xmlns=\"http://www.w3.org/2000/svg\" height=\"24px\"viewBox=\"0 0 24 24\"\n",
              "       width=\"24px\">\n",
              "    <path d=\"M0 0h24v24H0V0z\" fill=\"none\"/>\n",
              "    <path d=\"M18.56 5.44l.94 2.06.94-2.06 2.06-.94-2.06-.94-.94-2.06-.94 2.06-2.06.94zm-11 1L8.5 8.5l.94-2.06 2.06-.94-2.06-.94L8.5 2.5l-.94 2.06-2.06.94zm10 10l.94 2.06.94-2.06 2.06-.94-2.06-.94-.94-2.06-.94 2.06-2.06.94z\"/><path d=\"M17.41 7.96l-1.37-1.37c-.4-.4-.92-.59-1.43-.59-.52 0-1.04.2-1.43.59L10.3 9.45l-7.72 7.72c-.78.78-.78 2.05 0 2.83L4 21.41c.39.39.9.59 1.41.59.51 0 1.02-.2 1.41-.59l7.78-7.78 2.81-2.81c.8-.78.8-2.07 0-2.86zM5.41 20L4 18.59l7.72-7.72 1.47 1.35L5.41 20z\"/>\n",
              "  </svg>\n",
              "      </button>\n",
              "      \n",
              "  <style>\n",
              "    .colab-df-container {\n",
              "      display:flex;\n",
              "      flex-wrap:wrap;\n",
              "      gap: 12px;\n",
              "    }\n",
              "\n",
              "    .colab-df-convert {\n",
              "      background-color: #E8F0FE;\n",
              "      border: none;\n",
              "      border-radius: 50%;\n",
              "      cursor: pointer;\n",
              "      display: none;\n",
              "      fill: #1967D2;\n",
              "      height: 32px;\n",
              "      padding: 0 0 0 0;\n",
              "      width: 32px;\n",
              "    }\n",
              "\n",
              "    .colab-df-convert:hover {\n",
              "      background-color: #E2EBFA;\n",
              "      box-shadow: 0px 1px 2px rgba(60, 64, 67, 0.3), 0px 1px 3px 1px rgba(60, 64, 67, 0.15);\n",
              "      fill: #174EA6;\n",
              "    }\n",
              "\n",
              "    [theme=dark] .colab-df-convert {\n",
              "      background-color: #3B4455;\n",
              "      fill: #D2E3FC;\n",
              "    }\n",
              "\n",
              "    [theme=dark] .colab-df-convert:hover {\n",
              "      background-color: #434B5C;\n",
              "      box-shadow: 0px 1px 3px 1px rgba(0, 0, 0, 0.15);\n",
              "      filter: drop-shadow(0px 1px 2px rgba(0, 0, 0, 0.3));\n",
              "      fill: #FFFFFF;\n",
              "    }\n",
              "  </style>\n",
              "\n",
              "      <script>\n",
              "        const buttonEl =\n",
              "          document.querySelector('#df-14dcd71e-9334-4c97-9be4-8805f1ba94fb button.colab-df-convert');\n",
              "        buttonEl.style.display =\n",
              "          google.colab.kernel.accessAllowed ? 'block' : 'none';\n",
              "\n",
              "        async function convertToInteractive(key) {\n",
              "          const element = document.querySelector('#df-14dcd71e-9334-4c97-9be4-8805f1ba94fb');\n",
              "          const dataTable =\n",
              "            await google.colab.kernel.invokeFunction('convertToInteractive',\n",
              "                                                     [key], {});\n",
              "          if (!dataTable) return;\n",
              "\n",
              "          const docLinkHtml = 'Like what you see? Visit the ' +\n",
              "            '<a target=\"_blank\" href=https://colab.research.google.com/notebooks/data_table.ipynb>data table notebook</a>'\n",
              "            + ' to learn more about interactive tables.';\n",
              "          element.innerHTML = '';\n",
              "          dataTable['output_type'] = 'display_data';\n",
              "          await google.colab.output.renderOutput(dataTable, element);\n",
              "          const docLink = document.createElement('div');\n",
              "          docLink.innerHTML = docLinkHtml;\n",
              "          element.appendChild(docLink);\n",
              "        }\n",
              "      </script>\n",
              "    </div>\n",
              "  </div>\n",
              "  "
            ]
          },
          "metadata": {},
          "execution_count": 28
        }
      ]
    },
    {
      "cell_type": "markdown",
      "source": [
        "now that each rating has been normalized, we can represent each item by a vector of its normalized ratings"
      ],
      "metadata": {
        "id": "wBoahc1Pgl4l"
      }
    },
    {
      "cell_type": "code",
      "source": [
        "def item_representation(ratings):    \n",
        "    return csr_matrix(\n",
        "        pd.crosstab(ratings.itemid, ratings.userid, ratings.norm_rating, aggfunc=sum).fillna(0).values\n",
        "    )"
      ],
      "metadata": {
        "id": "6_BgpHwSgxpy"
      },
      "execution_count": null,
      "outputs": []
    },
    {
      "cell_type": "code",
      "source": [
        "R = item_representation(norm_ratings)"
      ],
      "metadata": {
        "id": "UsgO2Xe8gzqy"
      },
      "execution_count": null,
      "outputs": []
    },
    {
      "cell_type": "markdown",
      "source": [
        "Let's build and fit our $k$-NN model using sklearn"
      ],
      "metadata": {
        "id": "Jq4cLHYBg2-a"
      }
    },
    {
      "cell_type": "code",
      "source": [
        "def create_model(rating_matrix, k=20, metric=\"cosine\"):\n",
        "    \"\"\"\n",
        "    :param R : numpy array of item representations\n",
        "    :param k : number of nearest neighbors to return    \n",
        "    :return model : our knn model\n",
        "    \"\"\"    \n",
        "    model = NearestNeighbors(metric=metric, n_neighbors=k+1, algorithm='brute')\n",
        "    model.fit(rating_matrix)    \n",
        "    return model"
      ],
      "metadata": {
        "id": "BWQoUtO6g3m6"
      },
      "execution_count": null,
      "outputs": []
    },
    {
      "cell_type": "markdown",
      "source": [
        "##### **Similarities computation**"
      ],
      "metadata": {
        "id": "l7lJ79pbg9n9"
      }
    },
    {
      "cell_type": "markdown",
      "source": [
        "Similarities between items can be measured with the *Cosine* or *Eucliedian* distance. The ***NearestNeighbors*** class from the sklearn library simplifies the computation of neighbors. We just need to specify the metric (e.g. cosine or euclidian) that will be used to compute similarities.\n",
        "\n",
        "The above method, ```create_model```, creates the kNN model and the following ```nearest_neighbors``` method uses the created model to kNN items. It returns nearest neighbors as well as similarities measures for each items.\n",
        "\n",
        "```nearest_neighbors``` returns :\n",
        "- ```similarities``` : numpy array of shape $(n,k)$\n",
        "- ```neighbors``` : numpy array of shape $(n,k)$\n",
        "\n",
        "where $n$ is the total number of items and $k$ is the number of neighbors to return, specified when creating the kNN model."
      ],
      "metadata": {
        "id": "oWJPEAwzhBVx"
      }
    },
    {
      "cell_type": "code",
      "source": [
        "def nearest_neighbors(rating_matrix, model):\n",
        "    \"\"\"\n",
        "    compute the top n similar items for each item.    \n",
        "    :param rating_matrix : items representations\n",
        "    :param model : nearest neighbors model    \n",
        "    :return similarities, neighbors\n",
        "    \"\"\"    \n",
        "    similarities, neighbors = model.kneighbors(rating_matrix)    \n",
        "    return similarities[:,1:], neighbors[:,1:]"
      ],
      "metadata": {
        "id": "5LJA9QouhHzh"
      },
      "execution_count": null,
      "outputs": []
    },
    {
      "cell_type": "markdown",
      "source": [
        "##### **Ajusted Cosine Similarity**"
      ],
      "metadata": {
        "id": "upO273DJhM4a"
      }
    },
    {
      "cell_type": "markdown",
      "source": [
        "In the context of item-based collaborative filtering, the adjusted cosine similarity has shown to be more efficient that the cosine or the euclidian distance.\n",
        "We will implement it with the method ```adjusted_cosine```, with some helper function :\n",
        "\n",
        "- ```save_similarities``` : since the computation of the adjusted cosine similarity is time consuming, around 5 mins for the ml100k dataset, we use this method to save the computed similarities for lated usage.\n",
        "- ```load_similarities``` : load the saved similarities\n",
        "- ```cosine``` : cosine distance between two vectors."
      ],
      "metadata": {
        "id": "ktDWCxLQhONR"
      }
    },
    {
      "cell_type": "code",
      "source": [
        "def save_similarities(similarities, neighbors, dataset_name):    \n",
        "    base_dir = 'recsys/weights/item2item'\n",
        "    save_dir = os.path.join(base_dir, dataset_name)\n",
        "    os.makedirs(save_dir, exist_ok=True)    \n",
        "    similarities_file_name = os.path.join(save_dir, 'similarities.npy')\n",
        "    neighbors_file_name = os.path.join(save_dir, 'neighbors.npy')    \n",
        "    try:\n",
        "        np.save(similarities_file_name, similarities)\n",
        "        np.save(neighbors_file_name, neighbors)        \n",
        "    except ValueError as error:\n",
        "        print(f\"An error occured when saving similarities, due to : \\n ValueError : {error}\")\n",
        "\n",
        "        \n",
        "def load_similarities(dataset_name, k=20):\n",
        "    base_dir = 'recsys/weights/item2item'\n",
        "    save_dir = os.path.join(base_dir, dataset_name)    \n",
        "    similiraties_file = os.path.join(save_dir, 'similarities.npy')\n",
        "    neighbors_file = os.path.join(save_dir, 'neighbors.npy')    \n",
        "    similarities = np.load(similiraties_file)\n",
        "    neighbors = np.load(neighbors_file)    \n",
        "    return similarities[:,:k], neighbors[:,:k]\n",
        "\n",
        "\n",
        "def cosine(x, y):\n",
        "    return np.dot(x, y) / (np.linalg.norm(x) * np.linalg.norm(y))\n",
        "\n",
        "\n",
        "def adjusted_cosine(np_ratings, nb_items, dataset_name):\n",
        "    similarities = np.zeros(shape=(nb_items, nb_items))\n",
        "    similarities.fill(-1)\n",
        "    \n",
        "    def _progress(count):\n",
        "        sys.stdout.write('\\rComputing similarities. Progress status : %.1f%%' % (float(count / nb_items)*100.0))\n",
        "        sys.stdout.flush()\n",
        "        \n",
        "    items = sorted(ratings.itemid.unique())    \n",
        "    for i in items[:-1]:\n",
        "        for j in items[i+1:]:            \n",
        "            scores = np_ratings[(np_ratings[:, 1] == i) | (np_ratings[:, 1] == j), :]\n",
        "            vals, count = np.unique(scores[:,0], return_counts = True)\n",
        "            scores = scores[np.isin(scores[:,0], vals[count > 1]),:]\n",
        "\n",
        "            if scores.shape[0] > 2:\n",
        "                x = scores[scores[:, 1].astype('int') == i, 4]\n",
        "                y = scores[scores[:, 1].astype('int') == j, 4]\n",
        "                w = cosine(x, y)\n",
        "\n",
        "                similarities[i, j] = w\n",
        "                similarities[j, i] = w\n",
        "        _progress(i)\n",
        "    _progress(nb_items)\n",
        "    \n",
        "    # get neighbors by their neighbors in decreasing order of similarities\n",
        "    neighbors = np.flip(np.argsort(similarities), axis=1)\n",
        "    \n",
        "    # sort similarities in decreasing order\n",
        "    similarities = np.flip(np.sort(similarities), axis=1)\n",
        "    \n",
        "    # save similarities to disk\n",
        "    save_similarities(similarities, neighbors, dataset_name=dataset_name) \n",
        "    \n",
        "    return similarities, neighbors"
      ],
      "metadata": {
        "id": "cZ68Q1Ljhnk5"
      },
      "execution_count": null,
      "outputs": []
    },
    {
      "cell_type": "markdown",
      "source": [
        "now, we can call the ```adjusted_cosine``` function to compute and save items similarities and neighbors based on the adjusted cosine metric. \n",
        "\n",
        "uncomment the two lines of the following cell to compute the adjusted cosine between all items. As we have already run the next cell before, we will just load the precomputed similarities for further use."
      ],
      "metadata": {
        "id": "q2vdMu-HiC8i"
      }
    },
    {
      "cell_type": "code",
      "source": [
        "# nb_items = ratings.itemid.nunique()\n",
        "# similarities, neighbors = adjusted_cosine(np_ratings, nb_items=nb_items, dataset_name='ml100k')"
      ],
      "metadata": {
        "id": "KkYMIbHXiDyB"
      },
      "execution_count": null,
      "outputs": []
    },
    {
      "cell_type": "markdown",
      "source": [
        "Among the following similarity metrics, choose the one you wish to use for the item-based collaborative filtering :\n",
        "\n",
        "- **euclidian** or **cosine** : choose *euclidian* or *cosine* to initialise the similarity model through the sklearn library.\n",
        "- **adjusted_cosine** : choose the *adjusted_cosine* metric to load similarities computed and saved through the ```adjusted_cosine``` function.\n",
        "\n",
        "In this case, we will use the *adjusted_cosine* metric."
      ],
      "metadata": {
        "id": "F1re6qE7iKuS"
      }
    },
    {
      "cell_type": "code",
      "source": [
        "# metric : choose among [cosine, euclidean, adjusted_cosine]\n",
        "\n",
        "metric = 'adjusted_cosine'\n",
        "\n",
        "if metric == 'adjusted_cosine':\n",
        "    similarities, neighbors = load_similarities('ml100k')\n",
        "else:\n",
        "    model = create_model(R, k=21, metric=metric)\n",
        "    similarities, neighbors = nearest_neighbors(R, model)"
      ],
      "metadata": {
        "id": "_zV_DRRqiLai"
      },
      "execution_count": null,
      "outputs": []
    },
    {
      "cell_type": "code",
      "source": [
        "print('neighbors shape : ', neighbors.shape)\n",
        "print('similarities shape : ', similarities.shape)"
      ],
      "metadata": {
        "colab": {
          "base_uri": "https://localhost:8080/"
        },
        "id": "7ik7bLcaiNTF",
        "outputId": "23fa64e2-da56-4f8d-c7cc-770ec4507f40"
      },
      "execution_count": null,
      "outputs": [
        {
          "output_type": "stream",
          "name": "stdout",
          "text": [
            "neighbors shape :  (1682, 20)\n",
            "similarities shape :  (1682, 20)\n"
          ]
        }
      ]
    },
    {
      "cell_type": "markdown",
      "source": [
        "```neighbors``` and ```similarities``` are numpy array, were each entries are list of 20 neighbors with their corresponding similarities"
      ],
      "metadata": {
        "id": "E8j8FY2BiXYV"
      }
    },
    {
      "cell_type": "markdown",
      "source": [
        "#### **Step 2. Top N recommendation for a given user**"
      ],
      "metadata": {
        "id": "S5GPS4Y1iY-1"
      }
    },
    {
      "cell_type": "markdown",
      "source": [
        "Top-N recommendations are made for example for a user $u$ who has already rated a set of items $I_u$"
      ],
      "metadata": {
        "id": "Lv_KNNHajDjR"
      }
    },
    {
      "cell_type": "markdown",
      "source": [
        "##### **2.a- Finding candidate items**"
      ],
      "metadata": {
        "id": "UgOXkHy9jJsR"
      }
    },
    {
      "cell_type": "markdown",
      "source": [
        "To find candidate items for user $u$, we need to :\n",
        "\n",
        "1. Find the set $I_u$ of items already rated by user $u$,\n",
        "2. Take the union of similar items as $C$ for all items in $I_u$\n",
        "3. exclude from the set $C$ all items in $I_u$, to avoid recommend to a user items he has already purchased.\n",
        "\n",
        "These are done in function ```candidate_items()```"
      ],
      "metadata": {
        "id": "bwDVo0rmjSWS"
      }
    },
    {
      "cell_type": "code",
      "source": [
        "def candidate_items(userid):\n",
        "    \"\"\"\n",
        "    :param userid : user id for which we wish to find candidate items    \n",
        "    :return : I_u, candidates\n",
        "    \"\"\"\n",
        "    \n",
        "    # 1. Finding the set I_u of items already rated by user userid\n",
        "    I_u = np_ratings[np_ratings[:, 0] == userid]\n",
        "    I_u = I_u[:, 1].astype('int')\n",
        "    \n",
        "    # 2. Taking the union of similar items for all items in I_u to form the set of candidate items\n",
        "    c = set()\n",
        "        \n",
        "    for iid in I_u:    \n",
        "        # add the neighbors of item iid in the set of candidate items\n",
        "        c.update(neighbors[iid])\n",
        "        \n",
        "    c = list(c)\n",
        "    # 3. exclude from the set C all items in I_u.\n",
        "    candidates = np.setdiff1d(c, I_u, assume_unique=True)\n",
        "    \n",
        "    return I_u, candidates"
      ],
      "metadata": {
        "id": "L10QVgFajTW-"
      },
      "execution_count": null,
      "outputs": []
    },
    {
      "cell_type": "code",
      "source": [
        "test_user = uencoder.transform([1])[0]\n",
        "i_u, u_candidates = candidate_items(test_user)"
      ],
      "metadata": {
        "id": "yDTxbjWljWUK"
      },
      "execution_count": null,
      "outputs": []
    },
    {
      "cell_type": "code",
      "source": [
        "print('number of items purchased by user 1 : ', len(i_u))\n",
        "print('number of candidate items for user 1 : ', len(u_candidates))"
      ],
      "metadata": {
        "colab": {
          "base_uri": "https://localhost:8080/"
        },
        "id": "jKgBEELGjYG2",
        "outputId": "b6655a7d-0f28-49cc-8c76-9c60e2a0631c"
      },
      "execution_count": null,
      "outputs": [
        {
          "output_type": "stream",
          "name": "stdout",
          "text": [
            "number of items purchased by user 1 :  272\n",
            "number of candidate items for user 1 :  893\n"
          ]
        }
      ]
    },
    {
      "cell_type": "markdown",
      "source": [
        "##### **2.b- Find similarity between each candidate item and the set $I_u$**"
      ],
      "metadata": {
        "id": "7loFyXYkjmWt"
      }
    },
    {
      "cell_type": "code",
      "source": [
        "def similarity_with_Iu(c, I_u):\n",
        "    \"\"\"\n",
        "    compute similarity between an item c and a set of items I_u. For each item i in I_u, get similarity between \n",
        "    i and c, if c exists in the set of items similar to itemid.    \n",
        "    :param c : itemid of a candidate item\n",
        "    :param I_u : set of items already purchased by a given user    \n",
        "    :return w : similarity between c and I_u\n",
        "    \"\"\"\n",
        "    w = 0    \n",
        "    for iid in I_u :        \n",
        "        # get similarity between itemid and c, if c is one of the k nearest neighbors of itemid\n",
        "        if c in neighbors[iid] :\n",
        "            w = w + similarities[iid, neighbors[iid] == c][0]    \n",
        "    return w"
      ],
      "metadata": {
        "id": "Q4_iy8Q_jqJV"
      },
      "execution_count": null,
      "outputs": []
    },
    {
      "cell_type": "markdown",
      "source": [
        "##### **2.c- Rank candidate items according to their similarities to $I_u$**"
      ],
      "metadata": {
        "id": "dw3Nhw8PjunC"
      }
    },
    {
      "cell_type": "code",
      "source": [
        "def rank_candidates(candidates, I_u):\n",
        "    \"\"\"\n",
        "    rank candidate items according to their similarities with i_u    \n",
        "    :param candidates : list of candidate items\n",
        "    :param I_u : list of items purchased by the user    \n",
        "    :return ranked_candidates : dataframe of candidate items, ranked in descending order of similarities with I_u\n",
        "    \"\"\"\n",
        "    \n",
        "    # list of candidate items mapped to their corresponding similarities to I_u\n",
        "    sims = [similarity_with_Iu(c, I_u) for c in candidates]\n",
        "    candidates = iencoder.inverse_transform(candidates)    \n",
        "    mapping = list(zip(candidates, sims))\n",
        "    \n",
        "    ranked_candidates = sorted(mapping, key=lambda couple:couple[1], reverse=True)    \n",
        "    return ranked_candidates"
      ],
      "metadata": {
        "id": "0kTSuKPwjxRO"
      },
      "execution_count": null,
      "outputs": []
    },
    {
      "cell_type": "markdown",
      "source": [
        "### Putting all together"
      ],
      "metadata": {
        "id": "-OdhVyO7kNdJ"
      }
    },
    {
      "cell_type": "markdown",
      "source": [
        "Now that we defined all functions necessary to build our item to item top-N recommendation, let's define function ```item2item_topN()``` that makes top-$N$ recommendations for a given user "
      ],
      "metadata": {
        "id": "-BgCuBfzkQ4R"
      }
    },
    {
      "cell_type": "code",
      "source": [
        "def topn_recommendation(userid, N=30):\n",
        "    \"\"\"\n",
        "    Produce top-N recommendation for a given user    \n",
        "    :param userid : user for which we produce top-N recommendation\n",
        "    :param n : length of the top-N recommendation list    \n",
        "    :return topn\n",
        "    \"\"\"\n",
        "    # find candidate items\n",
        "    I_u, candidates = candidate_items(userid)\n",
        "    \n",
        "    # rank candidate items according to their similarities with I_u\n",
        "    ranked_candidates = rank_candidates(candidates, I_u)\n",
        "    \n",
        "    # get the first N row of ranked_candidates to build the top N recommendation list\n",
        "    topn = pd.DataFrame(ranked_candidates[:N], columns=['itemid','similarity_with_Iu'])    \n",
        "    topn = pd.merge(topn, movies, on='itemid', how='inner')    \n",
        "    return topn"
      ],
      "metadata": {
        "id": "izGi4OjFkSYB"
      },
      "execution_count": null,
      "outputs": []
    },
    {
      "cell_type": "code",
      "source": [
        "topn_recommendation(test_user)"
      ],
      "metadata": {
        "colab": {
          "base_uri": "https://localhost:8080/",
          "height": 990
        },
        "id": "g4Cqgwy8kV6i",
        "outputId": "82bc98c5-c96f-43b3-c5ee-77b228c429cb"
      },
      "execution_count": null,
      "outputs": [
        {
          "output_type": "execute_result",
          "data": {
            "text/plain": [
              "    itemid  similarity_with_Iu  \\\n",
              "0     1356           52.867173   \n",
              "1     1189           50.362199   \n",
              "2     1516           31.133267   \n",
              "3     1550           31.031738   \n",
              "4     1554           27.364494   \n",
              "5     1600           27.287712   \n",
              "6     1223           26.631850   \n",
              "7     1388           26.624397   \n",
              "8      766           26.590175   \n",
              "9      691           26.461802   \n",
              "10    1378           25.787842   \n",
              "11    1664           25.327445   \n",
              "12    1261           24.785660   \n",
              "13    1123           24.524028   \n",
              "14    1538           24.492453   \n",
              "15    1485           24.345312   \n",
              "16    1450           24.262120   \n",
              "17     909           23.357301   \n",
              "18     359           22.973658   \n",
              "19    1369           22.710078   \n",
              "20    1506           22.325504   \n",
              "21    1537           22.061914   \n",
              "22    1474           21.877034   \n",
              "23    1467           21.861203   \n",
              "24    1255           21.750924   \n",
              "25    1499           21.529748   \n",
              "26    1466           21.063269   \n",
              "27    1448           20.846909   \n",
              "28     927           20.730153   \n",
              "29    1375           20.627152   \n",
              "\n",
              "                                                title  \n",
              "0                               Ed's Next Move (1996)  \n",
              "1                                  Prefontaine (1997)  \n",
              "2                            Wedding Gift, The (1994)  \n",
              "3                   Destiny Turns on the Radio (1995)  \n",
              "4                                 Safe Passage (1994)  \n",
              "5                                 Guantanamera (1994)  \n",
              "6                             King of the Hill (1993)  \n",
              "7                                       Gabbeh (1996)  \n",
              "8                              Man of the Year (1995)  \n",
              "9                                    Dark City (1998)  \n",
              "10                              Rhyme & Reason (1997)  \n",
              "11                     8 Heads in a Duffel Bag (1997)  \n",
              "12                     Run of the Country, The (1995)  \n",
              "13                  Last Time I Saw Paris, The (1954)  \n",
              "14                                 All Over Me (1997)  \n",
              "15                         Colonel Chabert, Le (1994)  \n",
              "16                             Golden Earrings (1947)  \n",
              "17                            Dangerous Beauty (1998)  \n",
              "18                             Assignment, The (1997)  \n",
              "19  Forbidden Christ, The (Cristo proibito, Il) (1...  \n",
              "20                     Nelly & Monsieur Arnaud (1995)  \n",
              "21                                        Cosi (1996)  \n",
              "22                          Nina Takes a Lover (1994)  \n",
              "23               Saint of Fort Washington, The (1993)  \n",
              "24                              Broken English (1996)  \n",
              "25                              Grosse Fatigue (1994)  \n",
              "26                           Margaret's Museum (1995)  \n",
              "27                          My Favorite Season (1993)  \n",
              "28  Flower of My Secret, The (Flor de mi secreto, ...  \n",
              "29                          Cement Garden, The (1993)  "
            ],
            "text/html": [
              "\n",
              "  <div id=\"df-f98ca897-3418-4fb6-960b-37c59e571e70\">\n",
              "    <div class=\"colab-df-container\">\n",
              "      <div>\n",
              "<style scoped>\n",
              "    .dataframe tbody tr th:only-of-type {\n",
              "        vertical-align: middle;\n",
              "    }\n",
              "\n",
              "    .dataframe tbody tr th {\n",
              "        vertical-align: top;\n",
              "    }\n",
              "\n",
              "    .dataframe thead th {\n",
              "        text-align: right;\n",
              "    }\n",
              "</style>\n",
              "<table border=\"1\" class=\"dataframe\">\n",
              "  <thead>\n",
              "    <tr style=\"text-align: right;\">\n",
              "      <th></th>\n",
              "      <th>itemid</th>\n",
              "      <th>similarity_with_Iu</th>\n",
              "      <th>title</th>\n",
              "    </tr>\n",
              "  </thead>\n",
              "  <tbody>\n",
              "    <tr>\n",
              "      <th>0</th>\n",
              "      <td>1356</td>\n",
              "      <td>52.867173</td>\n",
              "      <td>Ed's Next Move (1996)</td>\n",
              "    </tr>\n",
              "    <tr>\n",
              "      <th>1</th>\n",
              "      <td>1189</td>\n",
              "      <td>50.362199</td>\n",
              "      <td>Prefontaine (1997)</td>\n",
              "    </tr>\n",
              "    <tr>\n",
              "      <th>2</th>\n",
              "      <td>1516</td>\n",
              "      <td>31.133267</td>\n",
              "      <td>Wedding Gift, The (1994)</td>\n",
              "    </tr>\n",
              "    <tr>\n",
              "      <th>3</th>\n",
              "      <td>1550</td>\n",
              "      <td>31.031738</td>\n",
              "      <td>Destiny Turns on the Radio (1995)</td>\n",
              "    </tr>\n",
              "    <tr>\n",
              "      <th>4</th>\n",
              "      <td>1554</td>\n",
              "      <td>27.364494</td>\n",
              "      <td>Safe Passage (1994)</td>\n",
              "    </tr>\n",
              "    <tr>\n",
              "      <th>5</th>\n",
              "      <td>1600</td>\n",
              "      <td>27.287712</td>\n",
              "      <td>Guantanamera (1994)</td>\n",
              "    </tr>\n",
              "    <tr>\n",
              "      <th>6</th>\n",
              "      <td>1223</td>\n",
              "      <td>26.631850</td>\n",
              "      <td>King of the Hill (1993)</td>\n",
              "    </tr>\n",
              "    <tr>\n",
              "      <th>7</th>\n",
              "      <td>1388</td>\n",
              "      <td>26.624397</td>\n",
              "      <td>Gabbeh (1996)</td>\n",
              "    </tr>\n",
              "    <tr>\n",
              "      <th>8</th>\n",
              "      <td>766</td>\n",
              "      <td>26.590175</td>\n",
              "      <td>Man of the Year (1995)</td>\n",
              "    </tr>\n",
              "    <tr>\n",
              "      <th>9</th>\n",
              "      <td>691</td>\n",
              "      <td>26.461802</td>\n",
              "      <td>Dark City (1998)</td>\n",
              "    </tr>\n",
              "    <tr>\n",
              "      <th>10</th>\n",
              "      <td>1378</td>\n",
              "      <td>25.787842</td>\n",
              "      <td>Rhyme &amp; Reason (1997)</td>\n",
              "    </tr>\n",
              "    <tr>\n",
              "      <th>11</th>\n",
              "      <td>1664</td>\n",
              "      <td>25.327445</td>\n",
              "      <td>8 Heads in a Duffel Bag (1997)</td>\n",
              "    </tr>\n",
              "    <tr>\n",
              "      <th>12</th>\n",
              "      <td>1261</td>\n",
              "      <td>24.785660</td>\n",
              "      <td>Run of the Country, The (1995)</td>\n",
              "    </tr>\n",
              "    <tr>\n",
              "      <th>13</th>\n",
              "      <td>1123</td>\n",
              "      <td>24.524028</td>\n",
              "      <td>Last Time I Saw Paris, The (1954)</td>\n",
              "    </tr>\n",
              "    <tr>\n",
              "      <th>14</th>\n",
              "      <td>1538</td>\n",
              "      <td>24.492453</td>\n",
              "      <td>All Over Me (1997)</td>\n",
              "    </tr>\n",
              "    <tr>\n",
              "      <th>15</th>\n",
              "      <td>1485</td>\n",
              "      <td>24.345312</td>\n",
              "      <td>Colonel Chabert, Le (1994)</td>\n",
              "    </tr>\n",
              "    <tr>\n",
              "      <th>16</th>\n",
              "      <td>1450</td>\n",
              "      <td>24.262120</td>\n",
              "      <td>Golden Earrings (1947)</td>\n",
              "    </tr>\n",
              "    <tr>\n",
              "      <th>17</th>\n",
              "      <td>909</td>\n",
              "      <td>23.357301</td>\n",
              "      <td>Dangerous Beauty (1998)</td>\n",
              "    </tr>\n",
              "    <tr>\n",
              "      <th>18</th>\n",
              "      <td>359</td>\n",
              "      <td>22.973658</td>\n",
              "      <td>Assignment, The (1997)</td>\n",
              "    </tr>\n",
              "    <tr>\n",
              "      <th>19</th>\n",
              "      <td>1369</td>\n",
              "      <td>22.710078</td>\n",
              "      <td>Forbidden Christ, The (Cristo proibito, Il) (1...</td>\n",
              "    </tr>\n",
              "    <tr>\n",
              "      <th>20</th>\n",
              "      <td>1506</td>\n",
              "      <td>22.325504</td>\n",
              "      <td>Nelly &amp; Monsieur Arnaud (1995)</td>\n",
              "    </tr>\n",
              "    <tr>\n",
              "      <th>21</th>\n",
              "      <td>1537</td>\n",
              "      <td>22.061914</td>\n",
              "      <td>Cosi (1996)</td>\n",
              "    </tr>\n",
              "    <tr>\n",
              "      <th>22</th>\n",
              "      <td>1474</td>\n",
              "      <td>21.877034</td>\n",
              "      <td>Nina Takes a Lover (1994)</td>\n",
              "    </tr>\n",
              "    <tr>\n",
              "      <th>23</th>\n",
              "      <td>1467</td>\n",
              "      <td>21.861203</td>\n",
              "      <td>Saint of Fort Washington, The (1993)</td>\n",
              "    </tr>\n",
              "    <tr>\n",
              "      <th>24</th>\n",
              "      <td>1255</td>\n",
              "      <td>21.750924</td>\n",
              "      <td>Broken English (1996)</td>\n",
              "    </tr>\n",
              "    <tr>\n",
              "      <th>25</th>\n",
              "      <td>1499</td>\n",
              "      <td>21.529748</td>\n",
              "      <td>Grosse Fatigue (1994)</td>\n",
              "    </tr>\n",
              "    <tr>\n",
              "      <th>26</th>\n",
              "      <td>1466</td>\n",
              "      <td>21.063269</td>\n",
              "      <td>Margaret's Museum (1995)</td>\n",
              "    </tr>\n",
              "    <tr>\n",
              "      <th>27</th>\n",
              "      <td>1448</td>\n",
              "      <td>20.846909</td>\n",
              "      <td>My Favorite Season (1993)</td>\n",
              "    </tr>\n",
              "    <tr>\n",
              "      <th>28</th>\n",
              "      <td>927</td>\n",
              "      <td>20.730153</td>\n",
              "      <td>Flower of My Secret, The (Flor de mi secreto, ...</td>\n",
              "    </tr>\n",
              "    <tr>\n",
              "      <th>29</th>\n",
              "      <td>1375</td>\n",
              "      <td>20.627152</td>\n",
              "      <td>Cement Garden, The (1993)</td>\n",
              "    </tr>\n",
              "  </tbody>\n",
              "</table>\n",
              "</div>\n",
              "      <button class=\"colab-df-convert\" onclick=\"convertToInteractive('df-f98ca897-3418-4fb6-960b-37c59e571e70')\"\n",
              "              title=\"Convert this dataframe to an interactive table.\"\n",
              "              style=\"display:none;\">\n",
              "        \n",
              "  <svg xmlns=\"http://www.w3.org/2000/svg\" height=\"24px\"viewBox=\"0 0 24 24\"\n",
              "       width=\"24px\">\n",
              "    <path d=\"M0 0h24v24H0V0z\" fill=\"none\"/>\n",
              "    <path d=\"M18.56 5.44l.94 2.06.94-2.06 2.06-.94-2.06-.94-.94-2.06-.94 2.06-2.06.94zm-11 1L8.5 8.5l.94-2.06 2.06-.94-2.06-.94L8.5 2.5l-.94 2.06-2.06.94zm10 10l.94 2.06.94-2.06 2.06-.94-2.06-.94-.94-2.06-.94 2.06-2.06.94z\"/><path d=\"M17.41 7.96l-1.37-1.37c-.4-.4-.92-.59-1.43-.59-.52 0-1.04.2-1.43.59L10.3 9.45l-7.72 7.72c-.78.78-.78 2.05 0 2.83L4 21.41c.39.39.9.59 1.41.59.51 0 1.02-.2 1.41-.59l7.78-7.78 2.81-2.81c.8-.78.8-2.07 0-2.86zM5.41 20L4 18.59l7.72-7.72 1.47 1.35L5.41 20z\"/>\n",
              "  </svg>\n",
              "      </button>\n",
              "      \n",
              "  <style>\n",
              "    .colab-df-container {\n",
              "      display:flex;\n",
              "      flex-wrap:wrap;\n",
              "      gap: 12px;\n",
              "    }\n",
              "\n",
              "    .colab-df-convert {\n",
              "      background-color: #E8F0FE;\n",
              "      border: none;\n",
              "      border-radius: 50%;\n",
              "      cursor: pointer;\n",
              "      display: none;\n",
              "      fill: #1967D2;\n",
              "      height: 32px;\n",
              "      padding: 0 0 0 0;\n",
              "      width: 32px;\n",
              "    }\n",
              "\n",
              "    .colab-df-convert:hover {\n",
              "      background-color: #E2EBFA;\n",
              "      box-shadow: 0px 1px 2px rgba(60, 64, 67, 0.3), 0px 1px 3px 1px rgba(60, 64, 67, 0.15);\n",
              "      fill: #174EA6;\n",
              "    }\n",
              "\n",
              "    [theme=dark] .colab-df-convert {\n",
              "      background-color: #3B4455;\n",
              "      fill: #D2E3FC;\n",
              "    }\n",
              "\n",
              "    [theme=dark] .colab-df-convert:hover {\n",
              "      background-color: #434B5C;\n",
              "      box-shadow: 0px 1px 3px 1px rgba(0, 0, 0, 0.15);\n",
              "      filter: drop-shadow(0px 1px 2px rgba(0, 0, 0, 0.3));\n",
              "      fill: #FFFFFF;\n",
              "    }\n",
              "  </style>\n",
              "\n",
              "      <script>\n",
              "        const buttonEl =\n",
              "          document.querySelector('#df-f98ca897-3418-4fb6-960b-37c59e571e70 button.colab-df-convert');\n",
              "        buttonEl.style.display =\n",
              "          google.colab.kernel.accessAllowed ? 'block' : 'none';\n",
              "\n",
              "        async function convertToInteractive(key) {\n",
              "          const element = document.querySelector('#df-f98ca897-3418-4fb6-960b-37c59e571e70');\n",
              "          const dataTable =\n",
              "            await google.colab.kernel.invokeFunction('convertToInteractive',\n",
              "                                                     [key], {});\n",
              "          if (!dataTable) return;\n",
              "\n",
              "          const docLinkHtml = 'Like what you see? Visit the ' +\n",
              "            '<a target=\"_blank\" href=https://colab.research.google.com/notebooks/data_table.ipynb>data table notebook</a>'\n",
              "            + ' to learn more about interactive tables.';\n",
              "          element.innerHTML = '';\n",
              "          dataTable['output_type'] = 'display_data';\n",
              "          await google.colab.output.renderOutput(dataTable, element);\n",
              "          const docLink = document.createElement('div');\n",
              "          docLink.innerHTML = docLinkHtml;\n",
              "          element.appendChild(docLink);\n",
              "        }\n",
              "      </script>\n",
              "    </div>\n",
              "  </div>\n",
              "  "
            ]
          },
          "metadata": {},
          "execution_count": 43
        }
      ]
    },
    {
      "cell_type": "markdown",
      "source": [
        "This dataframe represents the top 30 recommendation list for the test user. These items are sorted in decreasing order of similarities with $I_u$.\n",
        "\n",
        "**Observation** : The recommended items are the most similar to the set $I_u$ of items already purchased by the user."
      ],
      "metadata": {
        "id": "he4p6gVtkklV"
      }
    },
    {
      "cell_type": "markdown",
      "source": [
        "### Top N recommendation with predictions"
      ],
      "metadata": {
        "id": "JlNBP00RlcOp"
      }
    },
    {
      "cell_type": "markdown",
      "source": [
        "Before recommending the previous list to the user, we can go further and predict the ratings the user would have given to each of these items, sort them in descending order of prediction and return the reordered list as the new top N recommendation list."
      ],
      "metadata": {
        "id": "HwBf77SalktJ"
      }
    },
    {
      "cell_type": "markdown",
      "source": [
        "#### **Rating prediction**\n"
      ],
      "metadata": {
        "id": "FAzXioGJllZv"
      }
    },
    {
      "cell_type": "code",
      "source": [
        "def predict(userid, itemid):\n",
        "    \"\"\"\n",
        "    Make rating prediction for user userid on item itemid    \n",
        "    :param userid : id of the active user\n",
        "    :param itemid : id of the item for which we are making prediction        \n",
        "    :return r_hat : predicted rating\n",
        "    \"\"\"\n",
        "    \n",
        "    # Get items similar to item itemid with their corresponding similarities\n",
        "    item_neighbors = neighbors[itemid]\n",
        "    item_similarities = similarities[itemid]\n",
        "    \n",
        "    # get ratings of user with id userid\n",
        "    uratings = np_ratings[np_ratings[:, 0].astype('int') == userid]\n",
        "    \n",
        "    # similar items rated by item the user of i\n",
        "    siru = uratings[np.isin(uratings[:, 1], item_neighbors)]\n",
        "    scores = siru[:, 2]\n",
        "    indexes = [np.where(item_neighbors == iid)[0][0] for iid in siru[:,1].astype('int')]    \n",
        "    sims = item_similarities[indexes]\n",
        "    \n",
        "    dot = np.dot(scores, sims)\n",
        "    som = np.sum(np.abs(sims))\n",
        "\n",
        "    if dot == 0 or som == 0:\n",
        "        return mean[userid]\n",
        "    \n",
        "    return dot / som"
      ],
      "metadata": {
        "id": "V8r3QaBnluaF"
      },
      "execution_count": null,
      "outputs": []
    },
    {
      "cell_type": "markdown",
      "source": [
        "Now let's use our ```predict()``` function to predict what ratings the user would have given to the previous top-$N$ list and return the reorganised list (in decreasing order of predictions) as the new top-$N$ list"
      ],
      "metadata": {
        "id": "6b5vgJXTlxkF"
      }
    },
    {
      "cell_type": "code",
      "source": [
        "def topn_prediction(userid):\n",
        "    \"\"\"\n",
        "    :param userid : id of the active user    \n",
        "    :return topn : initial topN recommendations returned by the function item2item_topN\n",
        "    :return topn_predict : topN recommendations reordered according to rating predictions\n",
        "    \"\"\"\n",
        "    # make top N recommendation for the active user\n",
        "    topn = topn_recommendation(userid)\n",
        "    \n",
        "    # get list of items of the top N list\n",
        "    itemids = topn.itemid.to_list()\n",
        "    \n",
        "    predictions = []\n",
        "    \n",
        "    # make prediction for each item in the top N list\n",
        "    for itemid in itemids:\n",
        "        r = predict(userid, itemid)\n",
        "        \n",
        "        predictions.append((itemid,r))\n",
        "    \n",
        "    predictions = pd.DataFrame(predictions, columns=['itemid','prediction'])\n",
        "    \n",
        "    # merge the predictions to topN_list and rearrange the list according to predictions\n",
        "    topn_predict = pd.merge(topn, predictions, on='itemid', how='inner')\n",
        "    topn_predict = topn_predict.sort_values(by=['prediction'], ascending=False)\n",
        "    \n",
        "    return topn, topn_predict"
      ],
      "metadata": {
        "id": "_SA8TNPQlyfR"
      },
      "execution_count": null,
      "outputs": []
    },
    {
      "cell_type": "markdown",
      "source": [
        "Now, let's make recommendation for user 1 and compare the two list"
      ],
      "metadata": {
        "id": "p5I-wL_Dl14W"
      }
    },
    {
      "cell_type": "code",
      "source": [
        "topn, topn_predict = topn_prediction(userid=test_user)"
      ],
      "metadata": {
        "id": "nDbyR46vl2T5"
      },
      "execution_count": null,
      "outputs": []
    },
    {
      "cell_type": "code",
      "source": [
        "topn_predict"
      ],
      "metadata": {
        "colab": {
          "base_uri": "https://localhost:8080/",
          "height": 990
        },
        "id": "--5TwYdml5Km",
        "outputId": "2687fcd5-2c96-4c73-818a-75c7c6af9c40"
      },
      "execution_count": null,
      "outputs": [
        {
          "output_type": "execute_result",
          "data": {
            "text/plain": [
              "    itemid  similarity_with_Iu  \\\n",
              "7     1388           26.624397   \n",
              "18     359           22.973658   \n",
              "4     1554           27.364494   \n",
              "14    1538           24.492453   \n",
              "27    1448           20.846909   \n",
              "29    1375           20.627152   \n",
              "26    1466           21.063269   \n",
              "2     1516           31.133267   \n",
              "23    1467           21.861203   \n",
              "21    1537           22.061914   \n",
              "10    1378           25.787842   \n",
              "19    1369           22.710078   \n",
              "3     1550           31.031738   \n",
              "1     1189           50.362199   \n",
              "20    1506           22.325504   \n",
              "15    1485           24.345312   \n",
              "11    1664           25.327445   \n",
              "9      691           26.461802   \n",
              "6     1223           26.631850   \n",
              "5     1600           27.287712   \n",
              "17     909           23.357301   \n",
              "12    1261           24.785660   \n",
              "24    1255           21.750924   \n",
              "13    1123           24.524028   \n",
              "16    1450           24.262120   \n",
              "22    1474           21.877034   \n",
              "8      766           26.590175   \n",
              "0     1356           52.867173   \n",
              "28     927           20.730153   \n",
              "25    1499           21.529748   \n",
              "\n",
              "                                                title  prediction  \n",
              "7                                       Gabbeh (1996)    4.666667  \n",
              "18                             Assignment, The (1997)    4.600000  \n",
              "4                                 Safe Passage (1994)    4.500000  \n",
              "14                                 All Over Me (1997)    4.500000  \n",
              "27                          My Favorite Season (1993)    4.490052  \n",
              "29                          Cement Garden, The (1993)    4.333333  \n",
              "26                           Margaret's Museum (1995)    4.271915  \n",
              "2                            Wedding Gift, The (1994)    4.000000  \n",
              "23               Saint of Fort Washington, The (1993)    4.000000  \n",
              "21                                        Cosi (1996)    4.000000  \n",
              "10                              Rhyme & Reason (1997)    4.000000  \n",
              "19  Forbidden Christ, The (Cristo proibito, Il) (1...    4.000000  \n",
              "3                   Destiny Turns on the Radio (1995)    3.777778  \n",
              "1                                  Prefontaine (1997)    3.666528  \n",
              "20                     Nelly & Monsieur Arnaud (1995)    3.610294  \n",
              "15                         Colonel Chabert, Le (1994)    3.610294  \n",
              "11                     8 Heads in a Duffel Bag (1997)    3.610294  \n",
              "9                                    Dark City (1998)    3.610294  \n",
              "6                             King of the Hill (1993)    3.610294  \n",
              "5                                 Guantanamera (1994)    3.610294  \n",
              "17                            Dangerous Beauty (1998)    3.500000  \n",
              "12                     Run of the Country, The (1995)    3.333333  \n",
              "24                              Broken English (1996)    3.265749  \n",
              "13                  Last Time I Saw Paris, The (1954)    3.200000  \n",
              "16                             Golden Earrings (1947)    3.142978  \n",
              "22                          Nina Takes a Lover (1994)    3.000000  \n",
              "8                              Man of the Year (1995)    3.000000  \n",
              "0                               Ed's Next Move (1996)    2.280926  \n",
              "28  Flower of My Secret, The (Flor de mi secreto, ...    1.665010  \n",
              "25                              Grosse Fatigue (1994)    1.122032  "
            ],
            "text/html": [
              "\n",
              "  <div id=\"df-5b84774e-9320-4974-827e-00d83415e163\">\n",
              "    <div class=\"colab-df-container\">\n",
              "      <div>\n",
              "<style scoped>\n",
              "    .dataframe tbody tr th:only-of-type {\n",
              "        vertical-align: middle;\n",
              "    }\n",
              "\n",
              "    .dataframe tbody tr th {\n",
              "        vertical-align: top;\n",
              "    }\n",
              "\n",
              "    .dataframe thead th {\n",
              "        text-align: right;\n",
              "    }\n",
              "</style>\n",
              "<table border=\"1\" class=\"dataframe\">\n",
              "  <thead>\n",
              "    <tr style=\"text-align: right;\">\n",
              "      <th></th>\n",
              "      <th>itemid</th>\n",
              "      <th>similarity_with_Iu</th>\n",
              "      <th>title</th>\n",
              "      <th>prediction</th>\n",
              "    </tr>\n",
              "  </thead>\n",
              "  <tbody>\n",
              "    <tr>\n",
              "      <th>7</th>\n",
              "      <td>1388</td>\n",
              "      <td>26.624397</td>\n",
              "      <td>Gabbeh (1996)</td>\n",
              "      <td>4.666667</td>\n",
              "    </tr>\n",
              "    <tr>\n",
              "      <th>18</th>\n",
              "      <td>359</td>\n",
              "      <td>22.973658</td>\n",
              "      <td>Assignment, The (1997)</td>\n",
              "      <td>4.600000</td>\n",
              "    </tr>\n",
              "    <tr>\n",
              "      <th>4</th>\n",
              "      <td>1554</td>\n",
              "      <td>27.364494</td>\n",
              "      <td>Safe Passage (1994)</td>\n",
              "      <td>4.500000</td>\n",
              "    </tr>\n",
              "    <tr>\n",
              "      <th>14</th>\n",
              "      <td>1538</td>\n",
              "      <td>24.492453</td>\n",
              "      <td>All Over Me (1997)</td>\n",
              "      <td>4.500000</td>\n",
              "    </tr>\n",
              "    <tr>\n",
              "      <th>27</th>\n",
              "      <td>1448</td>\n",
              "      <td>20.846909</td>\n",
              "      <td>My Favorite Season (1993)</td>\n",
              "      <td>4.490052</td>\n",
              "    </tr>\n",
              "    <tr>\n",
              "      <th>29</th>\n",
              "      <td>1375</td>\n",
              "      <td>20.627152</td>\n",
              "      <td>Cement Garden, The (1993)</td>\n",
              "      <td>4.333333</td>\n",
              "    </tr>\n",
              "    <tr>\n",
              "      <th>26</th>\n",
              "      <td>1466</td>\n",
              "      <td>21.063269</td>\n",
              "      <td>Margaret's Museum (1995)</td>\n",
              "      <td>4.271915</td>\n",
              "    </tr>\n",
              "    <tr>\n",
              "      <th>2</th>\n",
              "      <td>1516</td>\n",
              "      <td>31.133267</td>\n",
              "      <td>Wedding Gift, The (1994)</td>\n",
              "      <td>4.000000</td>\n",
              "    </tr>\n",
              "    <tr>\n",
              "      <th>23</th>\n",
              "      <td>1467</td>\n",
              "      <td>21.861203</td>\n",
              "      <td>Saint of Fort Washington, The (1993)</td>\n",
              "      <td>4.000000</td>\n",
              "    </tr>\n",
              "    <tr>\n",
              "      <th>21</th>\n",
              "      <td>1537</td>\n",
              "      <td>22.061914</td>\n",
              "      <td>Cosi (1996)</td>\n",
              "      <td>4.000000</td>\n",
              "    </tr>\n",
              "    <tr>\n",
              "      <th>10</th>\n",
              "      <td>1378</td>\n",
              "      <td>25.787842</td>\n",
              "      <td>Rhyme &amp; Reason (1997)</td>\n",
              "      <td>4.000000</td>\n",
              "    </tr>\n",
              "    <tr>\n",
              "      <th>19</th>\n",
              "      <td>1369</td>\n",
              "      <td>22.710078</td>\n",
              "      <td>Forbidden Christ, The (Cristo proibito, Il) (1...</td>\n",
              "      <td>4.000000</td>\n",
              "    </tr>\n",
              "    <tr>\n",
              "      <th>3</th>\n",
              "      <td>1550</td>\n",
              "      <td>31.031738</td>\n",
              "      <td>Destiny Turns on the Radio (1995)</td>\n",
              "      <td>3.777778</td>\n",
              "    </tr>\n",
              "    <tr>\n",
              "      <th>1</th>\n",
              "      <td>1189</td>\n",
              "      <td>50.362199</td>\n",
              "      <td>Prefontaine (1997)</td>\n",
              "      <td>3.666528</td>\n",
              "    </tr>\n",
              "    <tr>\n",
              "      <th>20</th>\n",
              "      <td>1506</td>\n",
              "      <td>22.325504</td>\n",
              "      <td>Nelly &amp; Monsieur Arnaud (1995)</td>\n",
              "      <td>3.610294</td>\n",
              "    </tr>\n",
              "    <tr>\n",
              "      <th>15</th>\n",
              "      <td>1485</td>\n",
              "      <td>24.345312</td>\n",
              "      <td>Colonel Chabert, Le (1994)</td>\n",
              "      <td>3.610294</td>\n",
              "    </tr>\n",
              "    <tr>\n",
              "      <th>11</th>\n",
              "      <td>1664</td>\n",
              "      <td>25.327445</td>\n",
              "      <td>8 Heads in a Duffel Bag (1997)</td>\n",
              "      <td>3.610294</td>\n",
              "    </tr>\n",
              "    <tr>\n",
              "      <th>9</th>\n",
              "      <td>691</td>\n",
              "      <td>26.461802</td>\n",
              "      <td>Dark City (1998)</td>\n",
              "      <td>3.610294</td>\n",
              "    </tr>\n",
              "    <tr>\n",
              "      <th>6</th>\n",
              "      <td>1223</td>\n",
              "      <td>26.631850</td>\n",
              "      <td>King of the Hill (1993)</td>\n",
              "      <td>3.610294</td>\n",
              "    </tr>\n",
              "    <tr>\n",
              "      <th>5</th>\n",
              "      <td>1600</td>\n",
              "      <td>27.287712</td>\n",
              "      <td>Guantanamera (1994)</td>\n",
              "      <td>3.610294</td>\n",
              "    </tr>\n",
              "    <tr>\n",
              "      <th>17</th>\n",
              "      <td>909</td>\n",
              "      <td>23.357301</td>\n",
              "      <td>Dangerous Beauty (1998)</td>\n",
              "      <td>3.500000</td>\n",
              "    </tr>\n",
              "    <tr>\n",
              "      <th>12</th>\n",
              "      <td>1261</td>\n",
              "      <td>24.785660</td>\n",
              "      <td>Run of the Country, The (1995)</td>\n",
              "      <td>3.333333</td>\n",
              "    </tr>\n",
              "    <tr>\n",
              "      <th>24</th>\n",
              "      <td>1255</td>\n",
              "      <td>21.750924</td>\n",
              "      <td>Broken English (1996)</td>\n",
              "      <td>3.265749</td>\n",
              "    </tr>\n",
              "    <tr>\n",
              "      <th>13</th>\n",
              "      <td>1123</td>\n",
              "      <td>24.524028</td>\n",
              "      <td>Last Time I Saw Paris, The (1954)</td>\n",
              "      <td>3.200000</td>\n",
              "    </tr>\n",
              "    <tr>\n",
              "      <th>16</th>\n",
              "      <td>1450</td>\n",
              "      <td>24.262120</td>\n",
              "      <td>Golden Earrings (1947)</td>\n",
              "      <td>3.142978</td>\n",
              "    </tr>\n",
              "    <tr>\n",
              "      <th>22</th>\n",
              "      <td>1474</td>\n",
              "      <td>21.877034</td>\n",
              "      <td>Nina Takes a Lover (1994)</td>\n",
              "      <td>3.000000</td>\n",
              "    </tr>\n",
              "    <tr>\n",
              "      <th>8</th>\n",
              "      <td>766</td>\n",
              "      <td>26.590175</td>\n",
              "      <td>Man of the Year (1995)</td>\n",
              "      <td>3.000000</td>\n",
              "    </tr>\n",
              "    <tr>\n",
              "      <th>0</th>\n",
              "      <td>1356</td>\n",
              "      <td>52.867173</td>\n",
              "      <td>Ed's Next Move (1996)</td>\n",
              "      <td>2.280926</td>\n",
              "    </tr>\n",
              "    <tr>\n",
              "      <th>28</th>\n",
              "      <td>927</td>\n",
              "      <td>20.730153</td>\n",
              "      <td>Flower of My Secret, The (Flor de mi secreto, ...</td>\n",
              "      <td>1.665010</td>\n",
              "    </tr>\n",
              "    <tr>\n",
              "      <th>25</th>\n",
              "      <td>1499</td>\n",
              "      <td>21.529748</td>\n",
              "      <td>Grosse Fatigue (1994)</td>\n",
              "      <td>1.122032</td>\n",
              "    </tr>\n",
              "  </tbody>\n",
              "</table>\n",
              "</div>\n",
              "      <button class=\"colab-df-convert\" onclick=\"convertToInteractive('df-5b84774e-9320-4974-827e-00d83415e163')\"\n",
              "              title=\"Convert this dataframe to an interactive table.\"\n",
              "              style=\"display:none;\">\n",
              "        \n",
              "  <svg xmlns=\"http://www.w3.org/2000/svg\" height=\"24px\"viewBox=\"0 0 24 24\"\n",
              "       width=\"24px\">\n",
              "    <path d=\"M0 0h24v24H0V0z\" fill=\"none\"/>\n",
              "    <path d=\"M18.56 5.44l.94 2.06.94-2.06 2.06-.94-2.06-.94-.94-2.06-.94 2.06-2.06.94zm-11 1L8.5 8.5l.94-2.06 2.06-.94-2.06-.94L8.5 2.5l-.94 2.06-2.06.94zm10 10l.94 2.06.94-2.06 2.06-.94-2.06-.94-.94-2.06-.94 2.06-2.06.94z\"/><path d=\"M17.41 7.96l-1.37-1.37c-.4-.4-.92-.59-1.43-.59-.52 0-1.04.2-1.43.59L10.3 9.45l-7.72 7.72c-.78.78-.78 2.05 0 2.83L4 21.41c.39.39.9.59 1.41.59.51 0 1.02-.2 1.41-.59l7.78-7.78 2.81-2.81c.8-.78.8-2.07 0-2.86zM5.41 20L4 18.59l7.72-7.72 1.47 1.35L5.41 20z\"/>\n",
              "  </svg>\n",
              "      </button>\n",
              "      \n",
              "  <style>\n",
              "    .colab-df-container {\n",
              "      display:flex;\n",
              "      flex-wrap:wrap;\n",
              "      gap: 12px;\n",
              "    }\n",
              "\n",
              "    .colab-df-convert {\n",
              "      background-color: #E8F0FE;\n",
              "      border: none;\n",
              "      border-radius: 50%;\n",
              "      cursor: pointer;\n",
              "      display: none;\n",
              "      fill: #1967D2;\n",
              "      height: 32px;\n",
              "      padding: 0 0 0 0;\n",
              "      width: 32px;\n",
              "    }\n",
              "\n",
              "    .colab-df-convert:hover {\n",
              "      background-color: #E2EBFA;\n",
              "      box-shadow: 0px 1px 2px rgba(60, 64, 67, 0.3), 0px 1px 3px 1px rgba(60, 64, 67, 0.15);\n",
              "      fill: #174EA6;\n",
              "    }\n",
              "\n",
              "    [theme=dark] .colab-df-convert {\n",
              "      background-color: #3B4455;\n",
              "      fill: #D2E3FC;\n",
              "    }\n",
              "\n",
              "    [theme=dark] .colab-df-convert:hover {\n",
              "      background-color: #434B5C;\n",
              "      box-shadow: 0px 1px 3px 1px rgba(0, 0, 0, 0.15);\n",
              "      filter: drop-shadow(0px 1px 2px rgba(0, 0, 0, 0.3));\n",
              "      fill: #FFFFFF;\n",
              "    }\n",
              "  </style>\n",
              "\n",
              "      <script>\n",
              "        const buttonEl =\n",
              "          document.querySelector('#df-5b84774e-9320-4974-827e-00d83415e163 button.colab-df-convert');\n",
              "        buttonEl.style.display =\n",
              "          google.colab.kernel.accessAllowed ? 'block' : 'none';\n",
              "\n",
              "        async function convertToInteractive(key) {\n",
              "          const element = document.querySelector('#df-5b84774e-9320-4974-827e-00d83415e163');\n",
              "          const dataTable =\n",
              "            await google.colab.kernel.invokeFunction('convertToInteractive',\n",
              "                                                     [key], {});\n",
              "          if (!dataTable) return;\n",
              "\n",
              "          const docLinkHtml = 'Like what you see? Visit the ' +\n",
              "            '<a target=\"_blank\" href=https://colab.research.google.com/notebooks/data_table.ipynb>data table notebook</a>'\n",
              "            + ' to learn more about interactive tables.';\n",
              "          element.innerHTML = '';\n",
              "          dataTable['output_type'] = 'display_data';\n",
              "          await google.colab.output.renderOutput(dataTable, element);\n",
              "          const docLink = document.createElement('div');\n",
              "          docLink.innerHTML = docLinkHtml;\n",
              "          element.appendChild(docLink);\n",
              "        }\n",
              "      </script>\n",
              "    </div>\n",
              "  </div>\n",
              "  "
            ]
          },
          "metadata": {},
          "execution_count": 47
        }
      ]
    },
    {
      "cell_type": "markdown",
      "source": [
        "As we noticed, the two lists are sorted in different ways. The second list is organized according to the predictions made for the user.\n",
        "\n",
        "<b>Note</b>: When making predictions for user $u$ on item $i$, user $u$ may not have rated any of the $k$ most similar items to i. In this case, we consider the mean rating of $u$ as the predicted value."
      ],
      "metadata": {
        "id": "XQ1wZK6Bl8yl"
      }
    },
    {
      "cell_type": "markdown",
      "source": [
        "#### **Evaluation with Mean Absolute Error**"
      ],
      "metadata": {
        "id": "s60EDS0YmIMR"
      }
    },
    {
      "cell_type": "code",
      "source": [
        "from recsys.preprocessing import train_test_split, get_examples\n",
        "\n",
        "# get examples as tuples of userids and itemids and labels from normalize ratings\n",
        "raw_examples, raw_labels = get_examples(ratings, labels_column='rating')\n",
        "\n",
        "# train test split\n",
        "(x_train, x_test), (y_train, y_test) = train_test_split(examples=raw_examples, labels=raw_labels)\n",
        "\n",
        "def evaluate(x_test, y_test):\n",
        "    print('Evaluate the model on {} test data ...'.format(x_test.shape[0]))\n",
        "    preds = list(predict(u,i) for (u,i) in x_test)\n",
        "    mae = np.sum(np.absolute(y_test - np.array(preds))) / x_test.shape[0]\n",
        "    print('\\nMAE :', mae)\n",
        "    return mae"
      ],
      "metadata": {
        "id": "fCLHqxZimJrl"
      },
      "execution_count": null,
      "outputs": []
    },
    {
      "cell_type": "code",
      "source": [
        "evaluate(x_test, y_test)"
      ],
      "metadata": {
        "colab": {
          "base_uri": "https://localhost:8080/"
        },
        "id": "f78m12gcmMRB",
        "outputId": "732e8e37-8052-4283-87ff-1bc8aa02ac84"
      },
      "execution_count": null,
      "outputs": [
        {
          "output_type": "stream",
          "name": "stdout",
          "text": [
            "Evaluate the model on 10000 test data ...\n",
            "\n",
            "MAE : 0.672389703640273\n"
          ]
        },
        {
          "output_type": "execute_result",
          "data": {
            "text/plain": [
              "0.672389703640273"
            ]
          },
          "metadata": {},
          "execution_count": 49
        }
      ]
    },
    {
      "cell_type": "markdown",
      "source": [
        "This means that on average, the model's predictions are off by 0.672389703640273"
      ],
      "metadata": {
        "id": "VgbPernOmVdZ"
      }
    }
  ]
}